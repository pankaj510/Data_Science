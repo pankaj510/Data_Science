{
 "cells": [
  {
   "cell_type": "markdown",
   "metadata": {},
   "source": [
    "# Read in CSV files - FINAL DRAFT"
   ]
  },
  {
   "cell_type": "code",
   "execution_count": 30,
   "metadata": {},
   "outputs": [],
   "source": [
    "import numpy as np\n",
    "import pandas as pd\n",
    "import datetime as dt\n",
    "import calendar\n",
    "import yfinance as yf\n",
    "%matplotlib inline \n",
    "\n",
    "import matplotlib.pyplot as plt\n",
    "import hvplot.pandas\n",
    "import panel as pn\n",
    "import plotly.express as px\n",
    "from dotenv import load_dotenv\n",
    "from panel.interact import interact"
   ]
  },
  {
   "cell_type": "code",
   "execution_count": 31,
   "metadata": {},
   "outputs": [],
   "source": [
    "df_year_all_joined = pd.read_csv('year_all_joined.csv')\n",
    "df_month_all_joined = pd.read_csv('month_all_joined.csv')"
   ]
  },
  {
   "cell_type": "code",
   "execution_count": 32,
   "metadata": {},
   "outputs": [],
   "source": [
    "df_month_all_joined.columns=['Year', 'Month', 'Total Stock Market', 'Communications',\n",
    "       'Materials', 'Consumer Discretionary', 'Consumer Staples', 'Energy',\n",
    "       'Financials', 'Health Care', 'Industrial', 'Technology', 'Real Estate',\n",
    "       'Utilities', 'BioTech', 'Defense', 'Semiconductor', 'Home Construction',\n",
    "       'Number of Disasters', 'Total Deaths', 'No Affected']"
   ]
  },
  {
   "cell_type": "code",
   "execution_count": 33,
   "metadata": {},
   "outputs": [],
   "source": [
    "df_month_all_joined.set_index(['Year', 'Month'], inplace=True)"
   ]
  },
  {
   "cell_type": "code",
   "execution_count": 34,
   "metadata": {},
   "outputs": [
    {
     "data": {
      "text/html": [
       "<div>\n",
       "<style scoped>\n",
       "    .dataframe tbody tr th:only-of-type {\n",
       "        vertical-align: middle;\n",
       "    }\n",
       "\n",
       "    .dataframe tbody tr th {\n",
       "        vertical-align: top;\n",
       "    }\n",
       "\n",
       "    .dataframe thead th {\n",
       "        text-align: right;\n",
       "    }\n",
       "</style>\n",
       "<table border=\"1\" class=\"dataframe\">\n",
       "  <thead>\n",
       "    <tr style=\"text-align: right;\">\n",
       "      <th></th>\n",
       "      <th></th>\n",
       "      <th>Total Stock Market</th>\n",
       "      <th>Communications</th>\n",
       "      <th>Materials</th>\n",
       "      <th>Consumer Discretionary</th>\n",
       "      <th>Consumer Staples</th>\n",
       "      <th>Energy</th>\n",
       "      <th>Financials</th>\n",
       "      <th>Health Care</th>\n",
       "      <th>Industrial</th>\n",
       "      <th>Technology</th>\n",
       "      <th>Real Estate</th>\n",
       "      <th>Utilities</th>\n",
       "      <th>BioTech</th>\n",
       "      <th>Defense</th>\n",
       "      <th>Semiconductor</th>\n",
       "      <th>Home Construction</th>\n",
       "      <th>Number of Disasters</th>\n",
       "      <th>Total Deaths</th>\n",
       "      <th>No Affected</th>\n",
       "    </tr>\n",
       "    <tr>\n",
       "      <th>Year</th>\n",
       "      <th>Month</th>\n",
       "      <th></th>\n",
       "      <th></th>\n",
       "      <th></th>\n",
       "      <th></th>\n",
       "      <th></th>\n",
       "      <th></th>\n",
       "      <th></th>\n",
       "      <th></th>\n",
       "      <th></th>\n",
       "      <th></th>\n",
       "      <th></th>\n",
       "      <th></th>\n",
       "      <th></th>\n",
       "      <th></th>\n",
       "      <th></th>\n",
       "      <th></th>\n",
       "      <th></th>\n",
       "      <th></th>\n",
       "      <th></th>\n",
       "    </tr>\n",
       "  </thead>\n",
       "  <tbody>\n",
       "    <tr>\n",
       "      <th rowspan=\"5\" valign=\"top\">2000</th>\n",
       "      <th>1</th>\n",
       "      <td>0.0</td>\n",
       "      <td>0.0</td>\n",
       "      <td>0.0</td>\n",
       "      <td>0.0</td>\n",
       "      <td>0.0</td>\n",
       "      <td>0.0</td>\n",
       "      <td>0.0</td>\n",
       "      <td>0.0</td>\n",
       "      <td>4.0</td>\n",
       "      <td>4.0</td>\n",
       "      <td>4.0</td>\n",
       "      <td>8.0</td>\n",
       "      <td>3.0</td>\n",
       "      <td>4.0</td>\n",
       "      <td>4.0</td>\n",
       "      <td>4.0</td>\n",
       "      <td>2</td>\n",
       "      <td>5.0</td>\n",
       "      <td>0.0</td>\n",
       "    </tr>\n",
       "    <tr>\n",
       "      <th>2</th>\n",
       "      <td>0.0</td>\n",
       "      <td>0.0</td>\n",
       "      <td>0.0</td>\n",
       "      <td>0.0</td>\n",
       "      <td>0.0</td>\n",
       "      <td>0.0</td>\n",
       "      <td>0.0</td>\n",
       "      <td>0.0</td>\n",
       "      <td>4.0</td>\n",
       "      <td>6.0</td>\n",
       "      <td>0.0</td>\n",
       "      <td>4.0</td>\n",
       "      <td>1.0</td>\n",
       "      <td>3.0</td>\n",
       "      <td>3.0</td>\n",
       "      <td>5.0</td>\n",
       "      <td>3</td>\n",
       "      <td>25.0</td>\n",
       "      <td>1731.0</td>\n",
       "    </tr>\n",
       "    <tr>\n",
       "      <th>3</th>\n",
       "      <td>0.0</td>\n",
       "      <td>0.0</td>\n",
       "      <td>0.0</td>\n",
       "      <td>0.0</td>\n",
       "      <td>0.0</td>\n",
       "      <td>0.0</td>\n",
       "      <td>0.0</td>\n",
       "      <td>0.0</td>\n",
       "      <td>8.0</td>\n",
       "      <td>6.0</td>\n",
       "      <td>4.0</td>\n",
       "      <td>7.0</td>\n",
       "      <td>5.0</td>\n",
       "      <td>4.0</td>\n",
       "      <td>2.0</td>\n",
       "      <td>3.0</td>\n",
       "      <td>1</td>\n",
       "      <td>5.0</td>\n",
       "      <td>3000.0</td>\n",
       "    </tr>\n",
       "    <tr>\n",
       "      <th>5</th>\n",
       "      <td>0.0</td>\n",
       "      <td>0.0</td>\n",
       "      <td>0.0</td>\n",
       "      <td>2.0</td>\n",
       "      <td>0.0</td>\n",
       "      <td>1.0</td>\n",
       "      <td>0.0</td>\n",
       "      <td>0.0</td>\n",
       "      <td>2.0</td>\n",
       "      <td>4.0</td>\n",
       "      <td>2.0</td>\n",
       "      <td>11.0</td>\n",
       "      <td>0.0</td>\n",
       "      <td>1.0</td>\n",
       "      <td>3.0</td>\n",
       "      <td>3.0</td>\n",
       "      <td>8</td>\n",
       "      <td>5.0</td>\n",
       "      <td>25840.0</td>\n",
       "    </tr>\n",
       "    <tr>\n",
       "      <th>6</th>\n",
       "      <td>0.0</td>\n",
       "      <td>0.0</td>\n",
       "      <td>0.0</td>\n",
       "      <td>4.0</td>\n",
       "      <td>0.0</td>\n",
       "      <td>1.0</td>\n",
       "      <td>0.0</td>\n",
       "      <td>0.0</td>\n",
       "      <td>4.0</td>\n",
       "      <td>3.0</td>\n",
       "      <td>1.0</td>\n",
       "      <td>4.0</td>\n",
       "      <td>1.0</td>\n",
       "      <td>1.0</td>\n",
       "      <td>1.0</td>\n",
       "      <td>3.0</td>\n",
       "      <td>3</td>\n",
       "      <td>0.0</td>\n",
       "      <td>8800.0</td>\n",
       "    </tr>\n",
       "  </tbody>\n",
       "</table>\n",
       "</div>"
      ],
      "text/plain": [
       "            Total Stock Market  Communications  Materials  \\\n",
       "Year Month                                                  \n",
       "2000 1                     0.0             0.0        0.0   \n",
       "     2                     0.0             0.0        0.0   \n",
       "     3                     0.0             0.0        0.0   \n",
       "     5                     0.0             0.0        0.0   \n",
       "     6                     0.0             0.0        0.0   \n",
       "\n",
       "            Consumer Discretionary  Consumer Staples  Energy  Financials  \\\n",
       "Year Month                                                                 \n",
       "2000 1                         0.0               0.0     0.0         0.0   \n",
       "     2                         0.0               0.0     0.0         0.0   \n",
       "     3                         0.0               0.0     0.0         0.0   \n",
       "     5                         2.0               0.0     1.0         0.0   \n",
       "     6                         4.0               0.0     1.0         0.0   \n",
       "\n",
       "            Health Care  Industrial  Technology  Real Estate  Utilities  \\\n",
       "Year Month                                                                \n",
       "2000 1              0.0         4.0         4.0          4.0        8.0   \n",
       "     2              0.0         4.0         6.0          0.0        4.0   \n",
       "     3              0.0         8.0         6.0          4.0        7.0   \n",
       "     5              0.0         2.0         4.0          2.0       11.0   \n",
       "     6              0.0         4.0         3.0          1.0        4.0   \n",
       "\n",
       "            BioTech  Defense  Semiconductor  Home Construction  \\\n",
       "Year Month                                                       \n",
       "2000 1          3.0      4.0            4.0                4.0   \n",
       "     2          1.0      3.0            3.0                5.0   \n",
       "     3          5.0      4.0            2.0                3.0   \n",
       "     5          0.0      1.0            3.0                3.0   \n",
       "     6          1.0      1.0            1.0                3.0   \n",
       "\n",
       "            Number of Disasters  Total Deaths  No Affected  \n",
       "Year Month                                                  \n",
       "2000 1                        2           5.0          0.0  \n",
       "     2                        3          25.0       1731.0  \n",
       "     3                        1           5.0       3000.0  \n",
       "     5                        8           5.0      25840.0  \n",
       "     6                        3           0.0       8800.0  "
      ]
     },
     "execution_count": 34,
     "metadata": {},
     "output_type": "execute_result"
    }
   ],
   "source": [
    "df_month_all_joined.head()"
   ]
  },
  {
   "cell_type": "code",
   "execution_count": 35,
   "metadata": {},
   "outputs": [],
   "source": [
    "df_year_all_joined.columns=['Year', 'Total Stock Market', 'Communications',\n",
    "       'Materials', 'Consumer Discretionary', 'Consumer Staples', 'Energy',\n",
    "       'Financials', 'Health Care', 'Industrial', 'Technology', 'Real Estate',\n",
    "       'Utilities', 'BioTech', 'Defense', 'Semiconductor', 'Home Construction',\n",
    "       'Number of Disasters', 'Total Deaths', 'No Affected']"
   ]
  },
  {
   "cell_type": "code",
   "execution_count": 36,
   "metadata": {},
   "outputs": [],
   "source": [
    "df_year_all_joined.set_index(['Year'], inplace=True)"
   ]
  },
  {
   "cell_type": "code",
   "execution_count": 37,
   "metadata": {},
   "outputs": [
    {
     "data": {
      "text/html": [
       "<div>\n",
       "<style scoped>\n",
       "    .dataframe tbody tr th:only-of-type {\n",
       "        vertical-align: middle;\n",
       "    }\n",
       "\n",
       "    .dataframe tbody tr th {\n",
       "        vertical-align: top;\n",
       "    }\n",
       "\n",
       "    .dataframe thead th {\n",
       "        text-align: right;\n",
       "    }\n",
       "</style>\n",
       "<table border=\"1\" class=\"dataframe\">\n",
       "  <thead>\n",
       "    <tr style=\"text-align: right;\">\n",
       "      <th></th>\n",
       "      <th>Total Stock Market</th>\n",
       "      <th>Communications</th>\n",
       "      <th>Materials</th>\n",
       "      <th>Consumer Discretionary</th>\n",
       "      <th>Consumer Staples</th>\n",
       "      <th>Energy</th>\n",
       "      <th>Financials</th>\n",
       "      <th>Health Care</th>\n",
       "      <th>Industrial</th>\n",
       "      <th>Technology</th>\n",
       "      <th>Real Estate</th>\n",
       "      <th>Utilities</th>\n",
       "      <th>BioTech</th>\n",
       "      <th>Defense</th>\n",
       "      <th>Semiconductor</th>\n",
       "      <th>Home Construction</th>\n",
       "      <th>Number of Disasters</th>\n",
       "      <th>Total Deaths</th>\n",
       "      <th>No Affected</th>\n",
       "    </tr>\n",
       "    <tr>\n",
       "      <th>Year</th>\n",
       "      <th></th>\n",
       "      <th></th>\n",
       "      <th></th>\n",
       "      <th></th>\n",
       "      <th></th>\n",
       "      <th></th>\n",
       "      <th></th>\n",
       "      <th></th>\n",
       "      <th></th>\n",
       "      <th></th>\n",
       "      <th></th>\n",
       "      <th></th>\n",
       "      <th></th>\n",
       "      <th></th>\n",
       "      <th></th>\n",
       "      <th></th>\n",
       "      <th></th>\n",
       "      <th></th>\n",
       "      <th></th>\n",
       "    </tr>\n",
       "  </thead>\n",
       "  <tbody>\n",
       "    <tr>\n",
       "      <th>2000</th>\n",
       "      <td>0.0</td>\n",
       "      <td>0.0</td>\n",
       "      <td>0.0</td>\n",
       "      <td>20.0</td>\n",
       "      <td>0.0</td>\n",
       "      <td>24.0</td>\n",
       "      <td>0.0</td>\n",
       "      <td>5.0</td>\n",
       "      <td>45.0</td>\n",
       "      <td>43.0</td>\n",
       "      <td>24.0</td>\n",
       "      <td>87.0</td>\n",
       "      <td>22.0</td>\n",
       "      <td>25.0</td>\n",
       "      <td>26.0</td>\n",
       "      <td>44.0</td>\n",
       "      <td>31</td>\n",
       "      <td>162.0</td>\n",
       "      <td>81264.0</td>\n",
       "    </tr>\n",
       "    <tr>\n",
       "      <th>2001</th>\n",
       "      <td>78.0</td>\n",
       "      <td>0.0</td>\n",
       "      <td>0.0</td>\n",
       "      <td>24.0</td>\n",
       "      <td>2.0</td>\n",
       "      <td>32.0</td>\n",
       "      <td>60.0</td>\n",
       "      <td>12.0</td>\n",
       "      <td>32.0</td>\n",
       "      <td>28.0</td>\n",
       "      <td>20.0</td>\n",
       "      <td>79.0</td>\n",
       "      <td>12.0</td>\n",
       "      <td>10.0</td>\n",
       "      <td>21.0</td>\n",
       "      <td>32.0</td>\n",
       "      <td>27</td>\n",
       "      <td>153.0</td>\n",
       "      <td>128833.0</td>\n",
       "    </tr>\n",
       "    <tr>\n",
       "      <th>2002</th>\n",
       "      <td>93.0</td>\n",
       "      <td>0.0</td>\n",
       "      <td>0.0</td>\n",
       "      <td>36.0</td>\n",
       "      <td>6.0</td>\n",
       "      <td>76.0</td>\n",
       "      <td>120.0</td>\n",
       "      <td>25.0</td>\n",
       "      <td>38.0</td>\n",
       "      <td>35.0</td>\n",
       "      <td>38.0</td>\n",
       "      <td>90.0</td>\n",
       "      <td>11.0</td>\n",
       "      <td>37.0</td>\n",
       "      <td>30.0</td>\n",
       "      <td>37.0</td>\n",
       "      <td>32</td>\n",
       "      <td>444.0</td>\n",
       "      <td>171053.0</td>\n",
       "    </tr>\n",
       "    <tr>\n",
       "      <th>2003</th>\n",
       "      <td>47.0</td>\n",
       "      <td>0.0</td>\n",
       "      <td>0.0</td>\n",
       "      <td>12.0</td>\n",
       "      <td>0.0</td>\n",
       "      <td>24.0</td>\n",
       "      <td>70.0</td>\n",
       "      <td>6.0</td>\n",
       "      <td>8.0</td>\n",
       "      <td>6.0</td>\n",
       "      <td>10.0</td>\n",
       "      <td>26.0</td>\n",
       "      <td>4.0</td>\n",
       "      <td>6.0</td>\n",
       "      <td>7.0</td>\n",
       "      <td>16.0</td>\n",
       "      <td>23</td>\n",
       "      <td>231.0</td>\n",
       "      <td>258195.0</td>\n",
       "    </tr>\n",
       "    <tr>\n",
       "      <th>2004</th>\n",
       "      <td>21.0</td>\n",
       "      <td>0.0</td>\n",
       "      <td>0.0</td>\n",
       "      <td>0.0</td>\n",
       "      <td>7.0</td>\n",
       "      <td>2.0</td>\n",
       "      <td>49.0</td>\n",
       "      <td>0.0</td>\n",
       "      <td>6.0</td>\n",
       "      <td>3.0</td>\n",
       "      <td>0.0</td>\n",
       "      <td>5.0</td>\n",
       "      <td>1.0</td>\n",
       "      <td>1.0</td>\n",
       "      <td>2.0</td>\n",
       "      <td>0.0</td>\n",
       "      <td>20</td>\n",
       "      <td>219.0</td>\n",
       "      <td>5099440.0</td>\n",
       "    </tr>\n",
       "  </tbody>\n",
       "</table>\n",
       "</div>"
      ],
      "text/plain": [
       "      Total Stock Market  Communications  Materials  Consumer Discretionary  \\\n",
       "Year                                                                          \n",
       "2000                 0.0             0.0        0.0                    20.0   \n",
       "2001                78.0             0.0        0.0                    24.0   \n",
       "2002                93.0             0.0        0.0                    36.0   \n",
       "2003                47.0             0.0        0.0                    12.0   \n",
       "2004                21.0             0.0        0.0                     0.0   \n",
       "\n",
       "      Consumer Staples  Energy  Financials  Health Care  Industrial  \\\n",
       "Year                                                                  \n",
       "2000               0.0    24.0         0.0          5.0        45.0   \n",
       "2001               2.0    32.0        60.0         12.0        32.0   \n",
       "2002               6.0    76.0       120.0         25.0        38.0   \n",
       "2003               0.0    24.0        70.0          6.0         8.0   \n",
       "2004               7.0     2.0        49.0          0.0         6.0   \n",
       "\n",
       "      Technology  Real Estate  Utilities  BioTech  Defense  Semiconductor  \\\n",
       "Year                                                                        \n",
       "2000        43.0         24.0       87.0     22.0     25.0           26.0   \n",
       "2001        28.0         20.0       79.0     12.0     10.0           21.0   \n",
       "2002        35.0         38.0       90.0     11.0     37.0           30.0   \n",
       "2003         6.0         10.0       26.0      4.0      6.0            7.0   \n",
       "2004         3.0          0.0        5.0      1.0      1.0            2.0   \n",
       "\n",
       "      Home Construction  Number of Disasters  Total Deaths  No Affected  \n",
       "Year                                                                     \n",
       "2000               44.0                   31         162.0      81264.0  \n",
       "2001               32.0                   27         153.0     128833.0  \n",
       "2002               37.0                   32         444.0     171053.0  \n",
       "2003               16.0                   23         231.0     258195.0  \n",
       "2004                0.0                   20         219.0    5099440.0  "
      ]
     },
     "execution_count": 37,
     "metadata": {},
     "output_type": "execute_result"
    }
   ],
   "source": [
    "df_year_all_joined.head()"
   ]
  },
  {
   "cell_type": "code",
   "execution_count": 38,
   "metadata": {},
   "outputs": [],
   "source": [
    "def plot_deaths():\n",
    "    deaths= df_year_all_joined[[\"Total Deaths\"]]\n",
    "    std_y=deaths[\"Total Deaths\"].std()\n",
    "    min_y=deaths[\"Total Deaths\"].min()-std_y\n",
    "    max_y=deaths[\"Total Deaths\"].max()+std_y\n",
    "    ax = deaths[\"Total Deaths\"].plot(kind=\"bar\", title='Deaths-Natural disasters in USA (2000 - 2020)',color=\"#BF6270\",figsize=(7,5))\n",
    "    ax.set_xlabel(\"Year\")\n",
    "    ax.set_ylabel(\"No of deaths\")\n",
    "    plt.ylim(min_y,max_y)\n",
    "    plt.show()\n",
    "    return ax"
   ]
  },
  {
   "cell_type": "code",
   "execution_count": 39,
   "metadata": {},
   "outputs": [],
   "source": [
    "def plot_affected():\n",
    "    affected= df_year_all_joined[[\"No Affected\"]]\n",
    "    std_y=affected[\"No Affected\"].std()\n",
    "    min_y=affected[\"No Affected\"].min()-std_y\n",
    "    max_y=affected[\"No Affected\"].max()+std_y\n",
    "    ax = affected[\"No Affected\"].plot(kind=\"bar\", title='Affected-Natural disasters in USA (2000 - 2020)',color=\"orange\",figsize=(7,5))\n",
    "    ax.set_xlabel(\"Year\")\n",
    "    ax.set_ylabel(\"No of affected people\")\n",
    "    plt.ylim(min_y,max_y)\n",
    "    plt.show()\n",
    "    return ax"
   ]
  },
  {
   "cell_type": "code",
   "execution_count": 40,
   "metadata": {},
   "outputs": [
    {
     "data": {
      "image/png": "[encoded data removed]",
      "text/plain": [
       "<Figure size 504x360 with 1 Axes>"
      ]
     },
     "metadata": {
      "needs_background": "light"
     },
     "output_type": "display_data"
    },
    {
     "data": {
      "image/png": "[encoded data removed]",
      "text/plain": [
       "<Figure size 504x360 with 1 Axes>"
      ]
     },
     "metadata": {
      "needs_background": "light"
     },
     "output_type": "display_data"
    },
    {
     "data": {
      "text/plain": [
       "<matplotlib.axes._subplots.AxesSubplot at 0x7f8ea90a6510>"
      ]
     },
     "execution_count": 40,
     "metadata": {},
     "output_type": "execute_result"
    }
   ],
   "source": [
    "plot_deaths()\n",
    "plot_affected()"
   ]
  },
  {
   "cell_type": "code",
   "execution_count": 41,
   "metadata": {},
   "outputs": [],
   "source": [
    "df_sector_jumps_totals_sliced= df_year_all_joined[['Total Stock Market', 'Communications', 'Materials',\n",
    "       'Consumer Discretionary', 'Consumer Staples', 'Energy', 'Financials',\n",
    "       'Health Care', 'Industrial', 'Technology', 'Real Estate', 'Utilities',\n",
    "       'BioTech', 'Defense', 'Semiconductor', 'Home Construction']]"
   ]
  },
  {
   "cell_type": "code",
   "execution_count": 42,
   "metadata": {},
   "outputs": [],
   "source": [
    "df_sector_jumps_totals_sliced.reset_index(inplace=True)"
   ]
  },
  {
   "cell_type": "code",
   "execution_count": 43,
   "metadata": {},
   "outputs": [],
   "source": [
    "#df_sector_jumps_totals\n",
    "cols=range(len(df_sector_jumps_totals_sliced.columns))\n",
    "rows=range(len(df_sector_jumps_totals_sliced.index))\n",
    "data_list=[]\n",
    "count=0\n",
    "for i in rows:\n",
    "    row=int(i)\n",
    "    year= int(df_sector_jumps_totals_sliced.loc[row][0])\n",
    "    sectors=[]\n",
    "    jumps=[]\n",
    "    for j in cols:\n",
    "        col=int(j)\n",
    "        sector=df_sector_jumps_totals_sliced.columns[col]\n",
    "        jumpcount=int(df_sector_jumps_totals_sliced.loc[row][col])\n",
    "        if col !=0:\n",
    "            # prepare list of values to be entered as columns to df\n",
    "            sectors.append(sector)\n",
    "            jumps.append(jumpcount)\n",
    "            data_list.append([year,sector,jumpcount])"
   ]
  },
  {
   "cell_type": "code",
   "execution_count": 44,
   "metadata": {},
   "outputs": [],
   "source": [
    "df_sector_jumps_totals = pd.DataFrame(data_list)"
   ]
  },
  {
   "cell_type": "code",
   "execution_count": 45,
   "metadata": {},
   "outputs": [],
   "source": [
    "df_sector_jumps_totals.columns = [\"year\", 'sector', 'jumpcount']"
   ]
  },
  {
   "cell_type": "code",
   "execution_count": 46,
   "metadata": {},
   "outputs": [
    {
     "data": {
      "text/html": [
       "<div>\n",
       "<style scoped>\n",
       "    .dataframe tbody tr th:only-of-type {\n",
       "        vertical-align: middle;\n",
       "    }\n",
       "\n",
       "    .dataframe tbody tr th {\n",
       "        vertical-align: top;\n",
       "    }\n",
       "\n",
       "    .dataframe thead th {\n",
       "        text-align: right;\n",
       "    }\n",
       "</style>\n",
       "<table border=\"1\" class=\"dataframe\">\n",
       "  <thead>\n",
       "    <tr style=\"text-align: right;\">\n",
       "      <th></th>\n",
       "      <th>year</th>\n",
       "      <th>sector</th>\n",
       "      <th>jumpcount</th>\n",
       "    </tr>\n",
       "  </thead>\n",
       "  <tbody>\n",
       "    <tr>\n",
       "      <th>0</th>\n",
       "      <td>2000</td>\n",
       "      <td>Total Stock Market</td>\n",
       "      <td>0</td>\n",
       "    </tr>\n",
       "    <tr>\n",
       "      <th>1</th>\n",
       "      <td>2000</td>\n",
       "      <td>Communications</td>\n",
       "      <td>0</td>\n",
       "    </tr>\n",
       "    <tr>\n",
       "      <th>2</th>\n",
       "      <td>2000</td>\n",
       "      <td>Materials</td>\n",
       "      <td>0</td>\n",
       "    </tr>\n",
       "    <tr>\n",
       "      <th>3</th>\n",
       "      <td>2000</td>\n",
       "      <td>Consumer Discretionary</td>\n",
       "      <td>20</td>\n",
       "    </tr>\n",
       "    <tr>\n",
       "      <th>4</th>\n",
       "      <td>2000</td>\n",
       "      <td>Consumer Staples</td>\n",
       "      <td>0</td>\n",
       "    </tr>\n",
       "    <tr>\n",
       "      <th>5</th>\n",
       "      <td>2000</td>\n",
       "      <td>Energy</td>\n",
       "      <td>24</td>\n",
       "    </tr>\n",
       "    <tr>\n",
       "      <th>6</th>\n",
       "      <td>2000</td>\n",
       "      <td>Financials</td>\n",
       "      <td>0</td>\n",
       "    </tr>\n",
       "  </tbody>\n",
       "</table>\n",
       "</div>"
      ],
      "text/plain": [
       "   year                  sector  jumpcount\n",
       "0  2000      Total Stock Market          0\n",
       "1  2000          Communications          0\n",
       "2  2000               Materials          0\n",
       "3  2000  Consumer Discretionary         20\n",
       "4  2000        Consumer Staples          0\n",
       "5  2000                  Energy         24\n",
       "6  2000              Financials          0"
      ]
     },
     "execution_count": 46,
     "metadata": {},
     "output_type": "execute_result"
    }
   ],
   "source": [
    "df_sector_jumps_totals.head(7)"
   ]
  },
  {
   "cell_type": "code",
   "execution_count": 47,
   "metadata": {},
   "outputs": [],
   "source": [
    "fig =px.scatter(df_sector_jumps_totals, x='year', y= 'jumpcount', size= 'jumpcount', color= 'sector', hover_name='sector', log_x=True, size_max=60)"
   ]
  },
  {
   "cell_type": "code",
   "execution_count": 48,
   "metadata": {},
   "outputs": [
    {
     "data": {
      "application/vnd.plotly.v1+json": {
       "config": {
        "plotlyServerURL": "https://plot.ly"
       },
       "data": [
        {
         "hovertemplate": "<b>%{hovertext}</b><br><br>sector=Total Stock Market<br>year=%{x}<br>jumpcount=%{marker.size}<extra></extra>",
         "hovertext": [
          "Total Stock Market",
          "Total Stock Market",
          "Total Stock Market",
          "Total Stock Market",
          "Total Stock Market",
          "Total Stock Market",
          "Total Stock Market",
          "Total Stock Market",
          "Total Stock Market",
          "Total Stock Market",
          "Total Stock Market",
          "Total Stock Market",
          "Total Stock Market",
          "Total Stock Market",
          "Total Stock Market",
          "Total Stock Market",
          "Total Stock Market",
          "Total Stock Market",
          "Total Stock Market",
          "Total Stock Market",
          "Total Stock Market"
         ],
         "legendgroup": "Total Stock Market",
         "marker": {
          "color": "#636efa",
          "size": [
           0,
           78,
           93,
           47,
           21,
           12,
           6,
           3,
           48,
           23,
           15,
           24,
           8,
           19,
           33,
           39,
           45,
           9,
           23,
           11,
           30
          ],
          "sizemode": "area",
          "sizeref": 0.043611111111111114,
          "symbol": "circle"
         },
         "mode": "markers",
         "name": "Total Stock Market",
         "orientation": "v",
         "showlegend": true,
         "type": "scatter",
         "x": [
          2000,
          2001,
          2002,
          2003,
          2004,
          2005,
          2006,
          2007,
          2008,
          2009,
          2010,
          2011,
          2012,
          2013,
          2014,
          2015,
          2016,
          2017,
          2018,
          2019,
          2020
         ],
         "xaxis": "x",
         "y": [
          0,
          78,
          93,
          47,
          21,
          12,
          6,
          3,
          48,
          23,
          15,
          24,
          8,
          19,
          33,
          39,
          45,
          9,
          23,
          11,
          30
         ],
         "yaxis": "y"
        },
        {
         "hovertemplate": "<b>%{hovertext}</b><br><br>sector=Communications<br>year=%{x}<br>jumpcount=%{marker.size}<extra></extra>",
         "hovertext": [
          "Communications",
          "Communications",
          "Communications",
          "Communications",
          "Communications",
          "Communications",
          "Communications",
          "Communications",
          "Communications",
          "Communications",
          "Communications",
          "Communications",
          "Communications",
          "Communications",
          "Communications",
          "Communications",
          "Communications",
          "Communications",
          "Communications",
          "Communications",
          "Communications"
         ],
         "legendgroup": "Communications",
         "marker": {
          "color": "#EF553B",
          "size": [
           0,
           0,
           0,
           0,
           0,
           0,
           4,
           8,
           57,
           41,
           22,
           31,
           3,
           2,
           2,
           4,
           5,
           0,
           15,
           6,
           36
          ],
          "sizemode": "area",
          "sizeref": 0.043611111111111114,
          "symbol": "circle"
         },
         "mode": "markers",
         "name": "Communications",
         "orientation": "v",
         "showlegend": true,
         "type": "scatter",
         "x": [
          2000,
          2001,
          2002,
          2003,
          2004,
          2005,
          2006,
          2007,
          2008,
          2009,
          2010,
          2011,
          2012,
          2013,
          2014,
          2015,
          2016,
          2017,
          2018,
          2019,
          2020
         ],
         "xaxis": "x",
         "y": [
          0,
          0,
          0,
          0,
          0,
          0,
          4,
          8,
          57,
          41,
          22,
          31,
          3,
          2,
          2,
          4,
          5,
          0,
          15,
          6,
          36
         ],
         "yaxis": "y"
        },
        {
         "hovertemplate": "<b>%{hovertext}</b><br><br>sector=Materials<br>year=%{x}<br>jumpcount=%{marker.size}<extra></extra>",
         "hovertext": [
          "Materials",
          "Materials",
          "Materials",
          "Materials",
          "Materials",
          "Materials",
          "Materials",
          "Materials",
          "Materials",
          "Materials",
          "Materials",
          "Materials",
          "Materials",
          "Materials",
          "Materials",
          "Materials",
          "Materials",
          "Materials",
          "Materials",
          "Materials",
          "Materials"
         ],
         "legendgroup": "Materials",
         "marker": {
          "color": "#00cc96",
          "size": [
           0,
           0,
           0,
           0,
           0,
           0,
           35,
           75,
           157,
           96,
           44,
           53,
           48,
           32,
           13,
           15,
           23,
           2,
           26,
           5,
           44
          ],
          "sizemode": "area",
          "sizeref": 0.043611111111111114,
          "symbol": "circle"
         },
         "mode": "markers",
         "name": "Materials",
         "orientation": "v",
         "showlegend": true,
         "type": "scatter",
         "x": [
          2000,
          2001,
          2002,
          2003,
          2004,
          2005,
          2006,
          2007,
          2008,
          2009,
          2010,
          2011,
          2012,
          2013,
          2014,
          2015,
          2016,
          2017,
          2018,
          2019,
          2020
         ],
         "xaxis": "x",
         "y": [
          0,
          0,
          0,
          0,
          0,
          0,
          35,
          75,
          157,
          96,
          44,
          53,
          48,
          32,
          13,
          15,
          23,
          2,
          26,
          5,
          44
         ],
         "yaxis": "y"
        },
        {
         "hovertemplate": "<b>%{hovertext}</b><br><br>sector=Consumer Discretionary<br>year=%{x}<br>jumpcount=%{marker.size}<extra></extra>",
         "hovertext": [
          "Consumer Discretionary",
          "Consumer Discretionary",
          "Consumer Discretionary",
          "Consumer Discretionary",
          "Consumer Discretionary",
          "Consumer Discretionary",
          "Consumer Discretionary",
          "Consumer Discretionary",
          "Consumer Discretionary",
          "Consumer Discretionary",
          "Consumer Discretionary",
          "Consumer Discretionary",
          "Consumer Discretionary",
          "Consumer Discretionary",
          "Consumer Discretionary",
          "Consumer Discretionary",
          "Consumer Discretionary",
          "Consumer Discretionary",
          "Consumer Discretionary",
          "Consumer Discretionary",
          "Consumer Discretionary"
         ],
         "legendgroup": "Consumer Discretionary",
         "marker": {
          "color": "#ab63fa",
          "size": [
           20,
           24,
           36,
           12,
           0,
           0,
           1,
           22,
           104,
           83,
           23,
           40,
           4,
           3,
           0,
           5,
           11,
           0,
           9,
           3,
           41
          ],
          "sizemode": "area",
          "sizeref": 0.043611111111111114,
          "symbol": "circle"
         },
         "mode": "markers",
         "name": "Consumer Discretionary",
         "orientation": "v",
         "showlegend": true,
         "type": "scatter",
         "x": [
          2000,
          2001,
          2002,
          2003,
          2004,
          2005,
          2006,
          2007,
          2008,
          2009,
          2010,
          2011,
          2012,
          2013,
          2014,
          2015,
          2016,
          2017,
          2018,
          2019,
          2020
         ],
         "xaxis": "x",
         "y": [
          20,
          24,
          36,
          12,
          0,
          0,
          1,
          22,
          104,
          83,
          23,
          40,
          4,
          3,
          0,
          5,
          11,
          0,
          9,
          3,
          41
         ],
         "yaxis": "y"
        },
        {
         "hovertemplate": "<b>%{hovertext}</b><br><br>sector=Consumer Staples<br>year=%{x}<br>jumpcount=%{marker.size}<extra></extra>",
         "hovertext": [
          "Consumer Staples",
          "Consumer Staples",
          "Consumer Staples",
          "Consumer Staples",
          "Consumer Staples",
          "Consumer Staples",
          "Consumer Staples",
          "Consumer Staples",
          "Consumer Staples",
          "Consumer Staples",
          "Consumer Staples",
          "Consumer Staples",
          "Consumer Staples",
          "Consumer Staples",
          "Consumer Staples",
          "Consumer Staples",
          "Consumer Staples",
          "Consumer Staples",
          "Consumer Staples",
          "Consumer Staples",
          "Consumer Staples"
         ],
         "legendgroup": "Consumer Staples",
         "marker": {
          "color": "#FFA15A",
          "size": [
           0,
           2,
           6,
           0,
           7,
           7,
           3,
           35,
           95,
           106,
           30,
           32,
           2,
           5,
           1,
           5,
           5,
           0,
           7,
           0,
           34
          ],
          "sizemode": "area",
          "sizeref": 0.043611111111111114,
          "symbol": "circle"
         },
         "mode": "markers",
         "name": "Consumer Staples",
         "orientation": "v",
         "showlegend": true,
         "type": "scatter",
         "x": [
          2000,
          2001,
          2002,
          2003,
          2004,
          2005,
          2006,
          2007,
          2008,
          2009,
          2010,
          2011,
          2012,
          2013,
          2014,
          2015,
          2016,
          2017,
          2018,
          2019,
          2020
         ],
         "xaxis": "x",
         "y": [
          0,
          2,
          6,
          0,
          7,
          7,
          3,
          35,
          95,
          106,
          30,
          32,
          2,
          5,
          1,
          5,
          5,
          0,
          7,
          0,
          34
         ],
         "yaxis": "y"
        },
        {
         "hovertemplate": "<b>%{hovertext}</b><br><br>sector=Energy<br>year=%{x}<br>jumpcount=%{marker.size}<extra></extra>",
         "hovertext": [
          "Energy",
          "Energy",
          "Energy",
          "Energy",
          "Energy",
          "Energy",
          "Energy",
          "Energy",
          "Energy",
          "Energy",
          "Energy",
          "Energy",
          "Energy",
          "Energy",
          "Energy",
          "Energy",
          "Energy",
          "Energy",
          "Energy",
          "Energy",
          "Energy"
         ],
         "legendgroup": "Energy",
         "marker": {
          "color": "#19d3f3",
          "size": [
           24,
           32,
           76,
           24,
           2,
           0,
           0,
           14,
           74,
           38,
           13,
           17,
           3,
           1,
           3,
           7,
           14,
           8,
           9,
           4,
           26
          ],
          "sizemode": "area",
          "sizeref": 0.043611111111111114,
          "symbol": "circle"
         },
         "mode": "markers",
         "name": "Energy",
         "orientation": "v",
         "showlegend": true,
         "type": "scatter",
         "x": [
          2000,
          2001,
          2002,
          2003,
          2004,
          2005,
          2006,
          2007,
          2008,
          2009,
          2010,
          2011,
          2012,
          2013,
          2014,
          2015,
          2016,
          2017,
          2018,
          2019,
          2020
         ],
         "xaxis": "x",
         "y": [
          24,
          32,
          76,
          24,
          2,
          0,
          0,
          14,
          74,
          38,
          13,
          17,
          3,
          1,
          3,
          7,
          14,
          8,
          9,
          4,
          26
         ],
         "yaxis": "y"
        },
        {
         "hovertemplate": "<b>%{hovertext}</b><br><br>sector=Financials<br>year=%{x}<br>jumpcount=%{marker.size}<extra></extra>",
         "hovertext": [
          "Financials",
          "Financials",
          "Financials",
          "Financials",
          "Financials",
          "Financials",
          "Financials",
          "Financials",
          "Financials",
          "Financials",
          "Financials",
          "Financials",
          "Financials",
          "Financials",
          "Financials",
          "Financials",
          "Financials",
          "Financials",
          "Financials",
          "Financials",
          "Financials"
         ],
         "legendgroup": "Financials",
         "marker": {
          "color": "#FF6692",
          "size": [
           0,
           60,
           120,
           70,
           49,
           12,
           28,
           19,
           81,
           65,
           42,
           48,
           14,
           5,
           8,
           21,
           22,
           7,
           35,
           31,
           47
          ],
          "sizemode": "area",
          "sizeref": 0.043611111111111114,
          "symbol": "circle"
         },
         "mode": "markers",
         "name": "Financials",
         "orientation": "v",
         "showlegend": true,
         "type": "scatter",
         "x": [
          2000,
          2001,
          2002,
          2003,
          2004,
          2005,
          2006,
          2007,
          2008,
          2009,
          2010,
          2011,
          2012,
          2013,
          2014,
          2015,
          2016,
          2017,
          2018,
          2019,
          2020
         ],
         "xaxis": "x",
         "y": [
          0,
          60,
          120,
          70,
          49,
          12,
          28,
          19,
          81,
          65,
          42,
          48,
          14,
          5,
          8,
          21,
          22,
          7,
          35,
          31,
          47
         ],
         "yaxis": "y"
        },
        {
         "hovertemplate": "<b>%{hovertext}</b><br><br>sector=Health Care<br>year=%{x}<br>jumpcount=%{marker.size}<extra></extra>",
         "hovertext": [
          "Health Care",
          "Health Care",
          "Health Care",
          "Health Care",
          "Health Care",
          "Health Care",
          "Health Care",
          "Health Care",
          "Health Care",
          "Health Care",
          "Health Care",
          "Health Care",
          "Health Care",
          "Health Care",
          "Health Care",
          "Health Care",
          "Health Care",
          "Health Care",
          "Health Care",
          "Health Care",
          "Health Care"
         ],
         "legendgroup": "Health Care",
         "marker": {
          "color": "#B6E880",
          "size": [
           5,
           12,
           25,
           6,
           0,
           0,
           0,
           10,
           55,
           36,
           13,
           24,
           2,
           3,
           0,
           5,
           4,
           0,
           8,
           5,
           30
          ],
          "sizemode": "area",
          "sizeref": 0.043611111111111114,
          "symbol": "circle"
         },
         "mode": "markers",
         "name": "Health Care",
         "orientation": "v",
         "showlegend": true,
         "type": "scatter",
         "x": [
          2000,
          2001,
          2002,
          2003,
          2004,
          2005,
          2006,
          2007,
          2008,
          2009,
          2010,
          2011,
          2012,
          2013,
          2014,
          2015,
          2016,
          2017,
          2018,
          2019,
          2020
         ],
         "xaxis": "x",
         "y": [
          5,
          12,
          25,
          6,
          0,
          0,
          0,
          10,
          55,
          36,
          13,
          24,
          2,
          3,
          0,
          5,
          4,
          0,
          8,
          5,
          30
         ],
         "yaxis": "y"
        },
        {
         "hovertemplate": "<b>%{hovertext}</b><br><br>sector=Industrial<br>year=%{x}<br>jumpcount=%{marker.size}<extra></extra>",
         "hovertext": [
          "Industrial",
          "Industrial",
          "Industrial",
          "Industrial",
          "Industrial",
          "Industrial",
          "Industrial",
          "Industrial",
          "Industrial",
          "Industrial",
          "Industrial",
          "Industrial",
          "Industrial",
          "Industrial",
          "Industrial",
          "Industrial",
          "Industrial",
          "Industrial",
          "Industrial",
          "Industrial",
          "Industrial"
         ],
         "legendgroup": "Industrial",
         "marker": {
          "color": "#FF97FF",
          "size": [
           45,
           32,
           38,
           8,
           6,
           5,
           11,
           20,
           69,
           59,
           29,
           43,
           9,
           4,
           4,
           10,
           12,
           1,
           13,
           6,
           34
          ],
          "sizemode": "area",
          "sizeref": 0.043611111111111114,
          "symbol": "circle"
         },
         "mode": "markers",
         "name": "Industrial",
         "orientation": "v",
         "showlegend": true,
         "type": "scatter",
         "x": [
          2000,
          2001,
          2002,
          2003,
          2004,
          2005,
          2006,
          2007,
          2008,
          2009,
          2010,
          2011,
          2012,
          2013,
          2014,
          2015,
          2016,
          2017,
          2018,
          2019,
          2020
         ],
         "xaxis": "x",
         "y": [
          45,
          32,
          38,
          8,
          6,
          5,
          11,
          20,
          69,
          59,
          29,
          43,
          9,
          4,
          4,
          10,
          12,
          1,
          13,
          6,
          34
         ],
         "yaxis": "y"
        },
        {
         "hovertemplate": "<b>%{hovertext}</b><br><br>sector=Technology<br>year=%{x}<br>jumpcount=%{marker.size}<extra></extra>",
         "hovertext": [
          "Technology",
          "Technology",
          "Technology",
          "Technology",
          "Technology",
          "Technology",
          "Technology",
          "Technology",
          "Technology",
          "Technology",
          "Technology",
          "Technology",
          "Technology",
          "Technology",
          "Technology",
          "Technology",
          "Technology",
          "Technology",
          "Technology",
          "Technology",
          "Technology"
         ],
         "legendgroup": "Technology",
         "marker": {
          "color": "#FECB52",
          "size": [
           43,
           28,
           35,
           6,
           3,
           29,
           23,
           31,
           93,
           60,
           23,
           45,
           7,
           3,
           8,
           27,
           29,
           1,
           18,
           9,
           48
          ],
          "sizemode": "area",
          "sizeref": 0.043611111111111114,
          "symbol": "circle"
         },
         "mode": "markers",
         "name": "Technology",
         "orientation": "v",
         "showlegend": true,
         "type": "scatter",
         "x": [
          2000,
          2001,
          2002,
          2003,
          2004,
          2005,
          2006,
          2007,
          2008,
          2009,
          2010,
          2011,
          2012,
          2013,
          2014,
          2015,
          2016,
          2017,
          2018,
          2019,
          2020
         ],
         "xaxis": "x",
         "y": [
          43,
          28,
          35,
          6,
          3,
          29,
          23,
          31,
          93,
          60,
          23,
          45,
          7,
          3,
          8,
          27,
          29,
          1,
          18,
          9,
          48
         ],
         "yaxis": "y"
        },
        {
         "hovertemplate": "<b>%{hovertext}</b><br><br>sector=Real Estate<br>year=%{x}<br>jumpcount=%{marker.size}<extra></extra>",
         "hovertext": [
          "Real Estate",
          "Real Estate",
          "Real Estate",
          "Real Estate",
          "Real Estate",
          "Real Estate",
          "Real Estate",
          "Real Estate",
          "Real Estate",
          "Real Estate",
          "Real Estate",
          "Real Estate",
          "Real Estate",
          "Real Estate",
          "Real Estate",
          "Real Estate",
          "Real Estate",
          "Real Estate",
          "Real Estate",
          "Real Estate",
          "Real Estate"
         ],
         "legendgroup": "Real Estate",
         "marker": {
          "color": "#636efa",
          "size": [
           24,
           20,
           38,
           10,
           0,
           1,
           0,
           7,
           59,
           51,
           20,
           31,
           3,
           2,
           3,
           7,
           5,
           0,
           12,
           6,
           34
          ],
          "sizemode": "area",
          "sizeref": 0.043611111111111114,
          "symbol": "circle"
         },
         "mode": "markers",
         "name": "Real Estate",
         "orientation": "v",
         "showlegend": true,
         "type": "scatter",
         "x": [
          2000,
          2001,
          2002,
          2003,
          2004,
          2005,
          2006,
          2007,
          2008,
          2009,
          2010,
          2011,
          2012,
          2013,
          2014,
          2015,
          2016,
          2017,
          2018,
          2019,
          2020
         ],
         "xaxis": "x",
         "y": [
          24,
          20,
          38,
          10,
          0,
          1,
          0,
          7,
          59,
          51,
          20,
          31,
          3,
          2,
          3,
          7,
          5,
          0,
          12,
          6,
          34
         ],
         "yaxis": "y"
        },
        {
         "hovertemplate": "<b>%{hovertext}</b><br><br>sector=Utilities<br>year=%{x}<br>jumpcount=%{marker.size}<extra></extra>",
         "hovertext": [
          "Utilities",
          "Utilities",
          "Utilities",
          "Utilities",
          "Utilities",
          "Utilities",
          "Utilities",
          "Utilities",
          "Utilities",
          "Utilities",
          "Utilities",
          "Utilities",
          "Utilities",
          "Utilities",
          "Utilities",
          "Utilities",
          "Utilities",
          "Utilities",
          "Utilities",
          "Utilities",
          "Utilities"
         ],
         "legendgroup": "Utilities",
         "marker": {
          "color": "#EF553B",
          "size": [
           87,
           79,
           90,
           26,
           5,
           2,
           3,
           5,
           59,
           37,
           16,
           19,
           4,
           1,
           2,
           8,
           8,
           2,
           23,
           10,
           30
          ],
          "sizemode": "area",
          "sizeref": 0.043611111111111114,
          "symbol": "circle"
         },
         "mode": "markers",
         "name": "Utilities",
         "orientation": "v",
         "showlegend": true,
         "type": "scatter",
         "x": [
          2000,
          2001,
          2002,
          2003,
          2004,
          2005,
          2006,
          2007,
          2008,
          2009,
          2010,
          2011,
          2012,
          2013,
          2014,
          2015,
          2016,
          2017,
          2018,
          2019,
          2020
         ],
         "xaxis": "x",
         "y": [
          87,
          79,
          90,
          26,
          5,
          2,
          3,
          5,
          59,
          37,
          16,
          19,
          4,
          1,
          2,
          8,
          8,
          2,
          23,
          10,
          30
         ],
         "yaxis": "y"
        },
        {
         "hovertemplate": "<b>%{hovertext}</b><br><br>sector=BioTech<br>year=%{x}<br>jumpcount=%{marker.size}<extra></extra>",
         "hovertext": [
          "BioTech",
          "BioTech",
          "BioTech",
          "BioTech",
          "BioTech",
          "BioTech",
          "BioTech",
          "BioTech",
          "BioTech",
          "BioTech",
          "BioTech",
          "BioTech",
          "BioTech",
          "BioTech",
          "BioTech",
          "BioTech",
          "BioTech",
          "BioTech",
          "BioTech",
          "BioTech",
          "BioTech"
         ],
         "legendgroup": "BioTech",
         "marker": {
          "color": "#00cc96",
          "size": [
           22,
           12,
           11,
           4,
           1,
           0,
           0,
           1,
           21,
           7,
           3,
           4,
           0,
           2,
           0,
           3,
           2,
           0,
           4,
           1,
           20
          ],
          "sizemode": "area",
          "sizeref": 0.043611111111111114,
          "symbol": "circle"
         },
         "mode": "markers",
         "name": "BioTech",
         "orientation": "v",
         "showlegend": true,
         "type": "scatter",
         "x": [
          2000,
          2001,
          2002,
          2003,
          2004,
          2005,
          2006,
          2007,
          2008,
          2009,
          2010,
          2011,
          2012,
          2013,
          2014,
          2015,
          2016,
          2017,
          2018,
          2019,
          2020
         ],
         "xaxis": "x",
         "y": [
          22,
          12,
          11,
          4,
          1,
          0,
          0,
          1,
          21,
          7,
          3,
          4,
          0,
          2,
          0,
          3,
          2,
          0,
          4,
          1,
          20
         ],
         "yaxis": "y"
        },
        {
         "hovertemplate": "<b>%{hovertext}</b><br><br>sector=Defense<br>year=%{x}<br>jumpcount=%{marker.size}<extra></extra>",
         "hovertext": [
          "Defense",
          "Defense",
          "Defense",
          "Defense",
          "Defense",
          "Defense",
          "Defense",
          "Defense",
          "Defense",
          "Defense",
          "Defense",
          "Defense",
          "Defense",
          "Defense",
          "Defense",
          "Defense",
          "Defense",
          "Defense",
          "Defense",
          "Defense",
          "Defense"
         ],
         "legendgroup": "Defense",
         "marker": {
          "color": "#ab63fa",
          "size": [
           25,
           10,
           37,
           6,
           1,
           3,
           0,
           8,
           45,
           15,
           6,
           6,
           0,
           2,
           0,
           8,
           5,
           0,
           4,
           0,
           34
          ],
          "sizemode": "area",
          "sizeref": 0.043611111111111114,
          "symbol": "circle"
         },
         "mode": "markers",
         "name": "Defense",
         "orientation": "v",
         "showlegend": true,
         "type": "scatter",
         "x": [
          2000,
          2001,
          2002,
          2003,
          2004,
          2005,
          2006,
          2007,
          2008,
          2009,
          2010,
          2011,
          2012,
          2013,
          2014,
          2015,
          2016,
          2017,
          2018,
          2019,
          2020
         ],
         "xaxis": "x",
         "y": [
          25,
          10,
          37,
          6,
          1,
          3,
          0,
          8,
          45,
          15,
          6,
          6,
          0,
          2,
          0,
          8,
          5,
          0,
          4,
          0,
          34
         ],
         "yaxis": "y"
        },
        {
         "hovertemplate": "<b>%{hovertext}</b><br><br>sector=Semiconductor<br>year=%{x}<br>jumpcount=%{marker.size}<extra></extra>",
         "hovertext": [
          "Semiconductor",
          "Semiconductor",
          "Semiconductor",
          "Semiconductor",
          "Semiconductor",
          "Semiconductor",
          "Semiconductor",
          "Semiconductor",
          "Semiconductor",
          "Semiconductor",
          "Semiconductor",
          "Semiconductor",
          "Semiconductor",
          "Semiconductor",
          "Semiconductor",
          "Semiconductor",
          "Semiconductor",
          "Semiconductor",
          "Semiconductor",
          "Semiconductor",
          "Semiconductor"
         ],
         "legendgroup": "Semiconductor",
         "marker": {
          "color": "#FFA15A",
          "size": [
           26,
           21,
           30,
           7,
           2,
           0,
           0,
           1,
           22,
           13,
           6,
           14,
           0,
           1,
           4,
           8,
           7,
           0,
           10,
           3,
           24
          ],
          "sizemode": "area",
          "sizeref": 0.043611111111111114,
          "symbol": "circle"
         },
         "mode": "markers",
         "name": "Semiconductor",
         "orientation": "v",
         "showlegend": true,
         "type": "scatter",
         "x": [
          2000,
          2001,
          2002,
          2003,
          2004,
          2005,
          2006,
          2007,
          2008,
          2009,
          2010,
          2011,
          2012,
          2013,
          2014,
          2015,
          2016,
          2017,
          2018,
          2019,
          2020
         ],
         "xaxis": "x",
         "y": [
          26,
          21,
          30,
          7,
          2,
          0,
          0,
          1,
          22,
          13,
          6,
          14,
          0,
          1,
          4,
          8,
          7,
          0,
          10,
          3,
          24
         ],
         "yaxis": "y"
        },
        {
         "hovertemplate": "<b>%{hovertext}</b><br><br>sector=Home Construction<br>year=%{x}<br>jumpcount=%{marker.size}<extra></extra>",
         "hovertext": [
          "Home Construction",
          "Home Construction",
          "Home Construction",
          "Home Construction",
          "Home Construction",
          "Home Construction",
          "Home Construction",
          "Home Construction",
          "Home Construction",
          "Home Construction",
          "Home Construction",
          "Home Construction",
          "Home Construction",
          "Home Construction",
          "Home Construction",
          "Home Construction",
          "Home Construction",
          "Home Construction",
          "Home Construction",
          "Home Construction",
          "Home Construction"
         ],
         "legendgroup": "Home Construction",
         "marker": {
          "color": "#19d3f3",
          "size": [
           44,
           32,
           37,
           16,
           0,
           0,
           0,
           12,
           66,
           46,
           17,
           26,
           2,
           2,
           1,
           8,
           4,
           0,
           15,
           6,
           27
          ],
          "sizemode": "area",
          "sizeref": 0.043611111111111114,
          "symbol": "circle"
         },
         "mode": "markers",
         "name": "Home Construction",
         "orientation": "v",
         "showlegend": true,
         "type": "scatter",
         "x": [
          2000,
          2001,
          2002,
          2003,
          2004,
          2005,
          2006,
          2007,
          2008,
          2009,
          2010,
          2011,
          2012,
          2013,
          2014,
          2015,
          2016,
          2017,
          2018,
          2019,
          2020
         ],
         "xaxis": "x",
         "y": [
          44,
          32,
          37,
          16,
          0,
          0,
          0,
          12,
          66,
          46,
          17,
          26,
          2,
          2,
          1,
          8,
          4,
          0,
          15,
          6,
          27
         ],
         "yaxis": "y"
        }
       ],
       "layout": {
        "autosize": true,
        "legend": {
         "itemsizing": "constant",
         "title": {
          "text": "sector"
         },
         "tracegroupgap": 0
        },
        "margin": {
         "t": 60
        },
        "template": {
         "data": {
          "bar": [
           {
            "error_x": {
             "color": "#2a3f5f"
            },
            "error_y": {
             "color": "#2a3f5f"
            },
            "marker": {
             "line": {
              "color": "#E5ECF6",
              "width": 0.5
             }
            },
            "type": "bar"
           }
          ],
          "barpolar": [
           {
            "marker": {
             "line": {
              "color": "#E5ECF6",
              "width": 0.5
             }
            },
            "type": "barpolar"
           }
          ],
          "carpet": [
           {
            "aaxis": {
             "endlinecolor": "#2a3f5f",
             "gridcolor": "white",
             "linecolor": "white",
             "minorgridcolor": "white",
             "startlinecolor": "#2a3f5f"
            },
            "baxis": {
             "endlinecolor": "#2a3f5f",
             "gridcolor": "white",
             "linecolor": "white",
             "minorgridcolor": "white",
             "startlinecolor": "#2a3f5f"
            },
            "type": "carpet"
           }
          ],
          "choropleth": [
           {
            "colorbar": {
             "outlinewidth": 0,
             "ticks": ""
            },
            "type": "choropleth"
           }
          ],
          "contour": [
           {
            "colorbar": {
             "outlinewidth": 0,
             "ticks": ""
            },
            "colorscale": [
             [
              0,
              "#0d0887"
             ],
             [
              0.1111111111111111,
              "#46039f"
             ],
             [
              0.2222222222222222,
              "#7201a8"
             ],
             [
              0.3333333333333333,
              "#9c179e"
             ],
             [
              0.4444444444444444,
              "#bd3786"
             ],
             [
              0.5555555555555556,
              "#d8576b"
             ],
             [
              0.6666666666666666,
              "#ed7953"
             ],
             [
              0.7777777777777778,
              "#fb9f3a"
             ],
             [
              0.8888888888888888,
              "#fdca26"
             ],
             [
              1,
              "#f0f921"
             ]
            ],
            "type": "contour"
           }
          ],
          "contourcarpet": [
           {
            "colorbar": {
             "outlinewidth": 0,
             "ticks": ""
            },
            "type": "contourcarpet"
           }
          ],
          "heatmap": [
           {
            "colorbar": {
             "outlinewidth": 0,
             "ticks": ""
            },
            "colorscale": [
             [
              0,
              "#0d0887"
             ],
             [
              0.1111111111111111,
              "#46039f"
             ],
             [
              0.2222222222222222,
              "#7201a8"
             ],
             [
              0.3333333333333333,
              "#9c179e"
             ],
             [
              0.4444444444444444,
              "#bd3786"
             ],
             [
              0.5555555555555556,
              "#d8576b"
             ],
             [
              0.6666666666666666,
              "#ed7953"
             ],
             [
              0.7777777777777778,
              "#fb9f3a"
             ],
             [
              0.8888888888888888,
              "#fdca26"
             ],
             [
              1,
              "#f0f921"
             ]
            ],
            "type": "heatmap"
           }
          ],
          "heatmapgl": [
           {
            "colorbar": {
             "outlinewidth": 0,
             "ticks": ""
            },
            "colorscale": [
             [
              0,
              "#0d0887"
             ],
             [
              0.1111111111111111,
              "#46039f"
             ],
             [
              0.2222222222222222,
              "#7201a8"
             ],
             [
              0.3333333333333333,
              "#9c179e"
             ],
             [
              0.4444444444444444,
              "#bd3786"
             ],
             [
              0.5555555555555556,
              "#d8576b"
             ],
             [
              0.6666666666666666,
              "#ed7953"
             ],
             [
              0.7777777777777778,
              "#fb9f3a"
             ],
             [
              0.8888888888888888,
              "#fdca26"
             ],
             [
              1,
              "#f0f921"
             ]
            ],
            "type": "heatmapgl"
           }
          ],
          "histogram": [
           {
            "marker": {
             "colorbar": {
              "outlinewidth": 0,
              "ticks": ""
             }
            },
            "type": "histogram"
           }
          ],
          "histogram2d": [
           {
            "colorbar": {
             "outlinewidth": 0,
             "ticks": ""
            },
            "colorscale": [
             [
              0,
              "#0d0887"
             ],
             [
              0.1111111111111111,
              "#46039f"
             ],
             [
              0.2222222222222222,
              "#7201a8"
             ],
             [
              0.3333333333333333,
              "#9c179e"
             ],
             [
              0.4444444444444444,
              "#bd3786"
             ],
             [
              0.5555555555555556,
              "#d8576b"
             ],
             [
              0.6666666666666666,
              "#ed7953"
             ],
             [
              0.7777777777777778,
              "#fb9f3a"
             ],
             [
              0.8888888888888888,
              "#fdca26"
             ],
             [
              1,
              "#f0f921"
             ]
            ],
            "type": "histogram2d"
           }
          ],
          "histogram2dcontour": [
           {
            "colorbar": {
             "outlinewidth": 0,
             "ticks": ""
            },
            "colorscale": [
             [
              0,
              "#0d0887"
             ],
             [
              0.1111111111111111,
              "#46039f"
             ],
             [
              0.2222222222222222,
              "#7201a8"
             ],
             [
              0.3333333333333333,
              "#9c179e"
             ],
             [
              0.4444444444444444,
              "#bd3786"
             ],
             [
              0.5555555555555556,
              "#d8576b"
             ],
             [
              0.6666666666666666,
              "#ed7953"
             ],
             [
              0.7777777777777778,
              "#fb9f3a"
             ],
             [
              0.8888888888888888,
              "#fdca26"
             ],
             [
              1,
              "#f0f921"
             ]
            ],
            "type": "histogram2dcontour"
           }
          ],
          "mesh3d": [
           {
            "colorbar": {
             "outlinewidth": 0,
             "ticks": ""
            },
            "type": "mesh3d"
           }
          ],
          "parcoords": [
           {
            "line": {
             "colorbar": {
              "outlinewidth": 0,
              "ticks": ""
             }
            },
            "type": "parcoords"
           }
          ],
          "pie": [
           {
            "automargin": true,
            "type": "pie"
           }
          ],
          "scatter": [
           {
            "marker": {
             "colorbar": {
              "outlinewidth": 0,
              "ticks": ""
             }
            },
            "type": "scatter"
           }
          ],
          "scatter3d": [
           {
            "line": {
             "colorbar": {
              "outlinewidth": 0,
              "ticks": ""
             }
            },
            "marker": {
             "colorbar": {
              "outlinewidth": 0,
              "ticks": ""
             }
            },
            "type": "scatter3d"
           }
          ],
          "scattercarpet": [
           {
            "marker": {
             "colorbar": {
              "outlinewidth": 0,
              "ticks": ""
             }
            },
            "type": "scattercarpet"
           }
          ],
          "scattergeo": [
           {
            "marker": {
             "colorbar": {
              "outlinewidth": 0,
              "ticks": ""
             }
            },
            "type": "scattergeo"
           }
          ],
          "scattergl": [
           {
            "marker": {
             "colorbar": {
              "outlinewidth": 0,
              "ticks": ""
             }
            },
            "type": "scattergl"
           }
          ],
          "scattermapbox": [
           {
            "marker": {
             "colorbar": {
              "outlinewidth": 0,
              "ticks": ""
             }
            },
            "type": "scattermapbox"
           }
          ],
          "scatterpolar": [
           {
            "marker": {
             "colorbar": {
              "outlinewidth": 0,
              "ticks": ""
             }
            },
            "type": "scatterpolar"
           }
          ],
          "scatterpolargl": [
           {
            "marker": {
             "colorbar": {
              "outlinewidth": 0,
              "ticks": ""
             }
            },
            "type": "scatterpolargl"
           }
          ],
          "scatterternary": [
           {
            "marker": {
             "colorbar": {
              "outlinewidth": 0,
              "ticks": ""
             }
            },
            "type": "scatterternary"
           }
          ],
          "surface": [
           {
            "colorbar": {
             "outlinewidth": 0,
             "ticks": ""
            },
            "colorscale": [
             [
              0,
              "#0d0887"
             ],
             [
              0.1111111111111111,
              "#46039f"
             ],
             [
              0.2222222222222222,
              "#7201a8"
             ],
             [
              0.3333333333333333,
              "#9c179e"
             ],
             [
              0.4444444444444444,
              "#bd3786"
             ],
             [
              0.5555555555555556,
              "#d8576b"
             ],
             [
              0.6666666666666666,
              "#ed7953"
             ],
             [
              0.7777777777777778,
              "#fb9f3a"
             ],
             [
              0.8888888888888888,
              "#fdca26"
             ],
             [
              1,
              "#f0f921"
             ]
            ],
            "type": "surface"
           }
          ],
          "table": [
           {
            "cells": {
             "fill": {
              "color": "#EBF0F8"
             },
             "line": {
              "color": "white"
             }
            },
            "header": {
             "fill": {
              "color": "#C8D4E3"
             },
             "line": {
              "color": "white"
             }
            },
            "type": "table"
           }
          ]
         },
         "layout": {
          "annotationdefaults": {
           "arrowcolor": "#2a3f5f",
           "arrowhead": 0,
           "arrowwidth": 1
          },
          "coloraxis": {
           "colorbar": {
            "outlinewidth": 0,
            "ticks": ""
           }
          },
          "colorscale": {
           "diverging": [
            [
             0,
             "#8e0152"
            ],
            [
             0.1,
             "#c51b7d"
            ],
            [
             0.2,
             "#de77ae"
            ],
            [
             0.3,
             "#f1b6da"
            ],
            [
             0.4,
             "#fde0ef"
            ],
            [
             0.5,
             "#f7f7f7"
            ],
            [
             0.6,
             "#e6f5d0"
            ],
            [
             0.7,
             "#b8e186"
            ],
            [
             0.8,
             "#7fbc41"
            ],
            [
             0.9,
             "#4d9221"
            ],
            [
             1,
             "#276419"
            ]
           ],
           "sequential": [
            [
             0,
             "#0d0887"
            ],
            [
             0.1111111111111111,
             "#46039f"
            ],
            [
             0.2222222222222222,
             "#7201a8"
            ],
            [
             0.3333333333333333,
             "#9c179e"
            ],
            [
             0.4444444444444444,
             "#bd3786"
            ],
            [
             0.5555555555555556,
             "#d8576b"
            ],
            [
             0.6666666666666666,
             "#ed7953"
            ],
            [
             0.7777777777777778,
             "#fb9f3a"
            ],
            [
             0.8888888888888888,
             "#fdca26"
            ],
            [
             1,
             "#f0f921"
            ]
           ],
           "sequentialminus": [
            [
             0,
             "#0d0887"
            ],
            [
             0.1111111111111111,
             "#46039f"
            ],
            [
             0.2222222222222222,
             "#7201a8"
            ],
            [
             0.3333333333333333,
             "#9c179e"
            ],
            [
             0.4444444444444444,
             "#bd3786"
            ],
            [
             0.5555555555555556,
             "#d8576b"
            ],
            [
             0.6666666666666666,
             "#ed7953"
            ],
            [
             0.7777777777777778,
             "#fb9f3a"
            ],
            [
             0.8888888888888888,
             "#fdca26"
            ],
            [
             1,
             "#f0f921"
            ]
           ]
          },
          "colorway": [
           "#636efa",
           "#EF553B",
           "#00cc96",
           "#ab63fa",
           "#FFA15A",
           "#19d3f3",
           "#FF6692",
           "#B6E880",
           "#FF97FF",
           "#FECB52"
          ],
          "font": {
           "color": "#2a3f5f"
          },
          "geo": {
           "bgcolor": "white",
           "lakecolor": "white",
           "landcolor": "#E5ECF6",
           "showlakes": true,
           "showland": true,
           "subunitcolor": "white"
          },
          "hoverlabel": {
           "align": "left"
          },
          "hovermode": "closest",
          "mapbox": {
           "style": "light"
          },
          "paper_bgcolor": "white",
          "plot_bgcolor": "#E5ECF6",
          "polar": {
           "angularaxis": {
            "gridcolor": "white",
            "linecolor": "white",
            "ticks": ""
           },
           "bgcolor": "#E5ECF6",
           "radialaxis": {
            "gridcolor": "white",
            "linecolor": "white",
            "ticks": ""
           }
          },
          "scene": {
           "xaxis": {
            "backgroundcolor": "#E5ECF6",
            "gridcolor": "white",
            "gridwidth": 2,
            "linecolor": "white",
            "showbackground": true,
            "ticks": "",
            "zerolinecolor": "white"
           },
           "yaxis": {
            "backgroundcolor": "#E5ECF6",
            "gridcolor": "white",
            "gridwidth": 2,
            "linecolor": "white",
            "showbackground": true,
            "ticks": "",
            "zerolinecolor": "white"
           },
           "zaxis": {
            "backgroundcolor": "#E5ECF6",
            "gridcolor": "white",
            "gridwidth": 2,
            "linecolor": "white",
            "showbackground": true,
            "ticks": "",
            "zerolinecolor": "white"
           }
          },
          "shapedefaults": {
           "line": {
            "color": "#2a3f5f"
           }
          },
          "ternary": {
           "aaxis": {
            "gridcolor": "white",
            "linecolor": "white",
            "ticks": ""
           },
           "baxis": {
            "gridcolor": "white",
            "linecolor": "white",
            "ticks": ""
           },
           "bgcolor": "#E5ECF6",
           "caxis": {
            "gridcolor": "white",
            "linecolor": "white",
            "ticks": ""
           }
          },
          "title": {
           "x": 0.05
          },
          "xaxis": {
           "automargin": true,
           "gridcolor": "white",
           "linecolor": "white",
           "ticks": "",
           "title": {
            "standoff": 15
           },
           "zerolinecolor": "white",
           "zerolinewidth": 2
          },
          "yaxis": {
           "automargin": true,
           "gridcolor": "white",
           "linecolor": "white",
           "ticks": "",
           "title": {
            "standoff": 15
           },
           "zerolinecolor": "white",
           "zerolinewidth": 2
          }
         }
        },
        "xaxis": {
         "anchor": "y",
         "autorange": true,
         "domain": [
          0,
          1
         ],
         "range": [
          3.300393946315074,
          3.305894558037722
         ],
         "title": {
          "text": "year"
         },
         "type": "log"
        },
        "yaxis": {
         "anchor": "x",
         "autorange": true,
         "domain": [
          0,
          1
         ],
         "range": [
          -12.707498470895029,
          200.22896239275138
         ],
         "title": {
          "text": "jumpcount"
         },
         "type": "linear"
        }
       }
      },
      "image/png": "[encoded data removed]",
      "text/html": [
       "<div>\n",
       "        \n",
       "        \n",
       "            <div id=\"49d5e7c8-696c-4294-af05-71d0a853fa37\" class=\"plotly-graph-div\" style=\"height:525px; width:100%;\"></div>\n",
       "            <script type=\"text/javascript\">\n",
       "                require([\"plotly\"], function(Plotly) {\n",
       "                    window.PLOTLYENV=window.PLOTLYENV || {};\n",
       "                    \n",
       "                if (document.getElementById(\"49d5e7c8-696c-4294-af05-71d0a853fa37\")) {\n",
       "                    Plotly.newPlot(\n",
       "                        '49d5e7c8-696c-4294-af05-71d0a853fa37',\n",
       "                        [{\"hovertemplate\": \"<b>%{hovertext}</b><br><br>sector=Total Stock Market<br>year=%{x}<br>jumpcount=%{marker.size}<extra></extra>\", \"hovertext\": [\"Total Stock Market\", \"Total Stock Market\", \"Total Stock Market\", \"Total Stock Market\", \"Total Stock Market\", \"Total Stock Market\", \"Total Stock Market\", \"Total Stock Market\", \"Total Stock Market\", \"Total Stock Market\", \"Total Stock Market\", \"Total Stock Market\", \"Total Stock Market\", \"Total Stock Market\", \"Total Stock Market\", \"Total Stock Market\", \"Total Stock Market\", \"Total Stock Market\", \"Total Stock Market\", \"Total Stock Market\", \"Total Stock Market\"], \"legendgroup\": \"Total Stock Market\", \"marker\": {\"color\": \"#636efa\", \"size\": [0, 78, 93, 47, 21, 12, 6, 3, 48, 23, 15, 24, 8, 19, 33, 39, 45, 9, 23, 11, 30], \"sizemode\": \"area\", \"sizeref\": 0.043611111111111114, \"symbol\": \"circle\"}, \"mode\": \"markers\", \"name\": \"Total Stock Market\", \"orientation\": \"v\", \"showlegend\": true, \"type\": \"scatter\", \"x\": [2000, 2001, 2002, 2003, 2004, 2005, 2006, 2007, 2008, 2009, 2010, 2011, 2012, 2013, 2014, 2015, 2016, 2017, 2018, 2019, 2020], \"xaxis\": \"x\", \"y\": [0, 78, 93, 47, 21, 12, 6, 3, 48, 23, 15, 24, 8, 19, 33, 39, 45, 9, 23, 11, 30], \"yaxis\": \"y\"}, {\"hovertemplate\": \"<b>%{hovertext}</b><br><br>sector=Communications<br>year=%{x}<br>jumpcount=%{marker.size}<extra></extra>\", \"hovertext\": [\"Communications\", \"Communications\", \"Communications\", \"Communications\", \"Communications\", \"Communications\", \"Communications\", \"Communications\", \"Communications\", \"Communications\", \"Communications\", \"Communications\", \"Communications\", \"Communications\", \"Communications\", \"Communications\", \"Communications\", \"Communications\", \"Communications\", \"Communications\", \"Communications\"], \"legendgroup\": \"Communications\", \"marker\": {\"color\": \"#EF553B\", \"size\": [0, 0, 0, 0, 0, 0, 4, 8, 57, 41, 22, 31, 3, 2, 2, 4, 5, 0, 15, 6, 36], \"sizemode\": \"area\", \"sizeref\": 0.043611111111111114, \"symbol\": \"circle\"}, \"mode\": \"markers\", \"name\": \"Communications\", \"orientation\": \"v\", \"showlegend\": true, \"type\": \"scatter\", \"x\": [2000, 2001, 2002, 2003, 2004, 2005, 2006, 2007, 2008, 2009, 2010, 2011, 2012, 2013, 2014, 2015, 2016, 2017, 2018, 2019, 2020], \"xaxis\": \"x\", \"y\": [0, 0, 0, 0, 0, 0, 4, 8, 57, 41, 22, 31, 3, 2, 2, 4, 5, 0, 15, 6, 36], \"yaxis\": \"y\"}, {\"hovertemplate\": \"<b>%{hovertext}</b><br><br>sector=Materials<br>year=%{x}<br>jumpcount=%{marker.size}<extra></extra>\", \"hovertext\": [\"Materials\", \"Materials\", \"Materials\", \"Materials\", \"Materials\", \"Materials\", \"Materials\", \"Materials\", \"Materials\", \"Materials\", \"Materials\", \"Materials\", \"Materials\", \"Materials\", \"Materials\", \"Materials\", \"Materials\", \"Materials\", \"Materials\", \"Materials\", \"Materials\"], \"legendgroup\": \"Materials\", \"marker\": {\"color\": \"#00cc96\", \"size\": [0, 0, 0, 0, 0, 0, 35, 75, 157, 96, 44, 53, 48, 32, 13, 15, 23, 2, 26, 5, 44], \"sizemode\": \"area\", \"sizeref\": 0.043611111111111114, \"symbol\": \"circle\"}, \"mode\": \"markers\", \"name\": \"Materials\", \"orientation\": \"v\", \"showlegend\": true, \"type\": \"scatter\", \"x\": [2000, 2001, 2002, 2003, 2004, 2005, 2006, 2007, 2008, 2009, 2010, 2011, 2012, 2013, 2014, 2015, 2016, 2017, 2018, 2019, 2020], \"xaxis\": \"x\", \"y\": [0, 0, 0, 0, 0, 0, 35, 75, 157, 96, 44, 53, 48, 32, 13, 15, 23, 2, 26, 5, 44], \"yaxis\": \"y\"}, {\"hovertemplate\": \"<b>%{hovertext}</b><br><br>sector=Consumer Discretionary<br>year=%{x}<br>jumpcount=%{marker.size}<extra></extra>\", \"hovertext\": [\"Consumer Discretionary\", \"Consumer Discretionary\", \"Consumer Discretionary\", \"Consumer Discretionary\", \"Consumer Discretionary\", \"Consumer Discretionary\", \"Consumer Discretionary\", \"Consumer Discretionary\", \"Consumer Discretionary\", \"Consumer Discretionary\", \"Consumer Discretionary\", \"Consumer Discretionary\", \"Consumer Discretionary\", \"Consumer Discretionary\", \"Consumer Discretionary\", \"Consumer Discretionary\", \"Consumer Discretionary\", \"Consumer Discretionary\", \"Consumer Discretionary\", \"Consumer Discretionary\", \"Consumer Discretionary\"], \"legendgroup\": \"Consumer Discretionary\", \"marker\": {\"color\": \"#ab63fa\", \"size\": [20, 24, 36, 12, 0, 0, 1, 22, 104, 83, 23, 40, 4, 3, 0, 5, 11, 0, 9, 3, 41], \"sizemode\": \"area\", \"sizeref\": 0.043611111111111114, \"symbol\": \"circle\"}, \"mode\": \"markers\", \"name\": \"Consumer Discretionary\", \"orientation\": \"v\", \"showlegend\": true, \"type\": \"scatter\", \"x\": [2000, 2001, 2002, 2003, 2004, 2005, 2006, 2007, 2008, 2009, 2010, 2011, 2012, 2013, 2014, 2015, 2016, 2017, 2018, 2019, 2020], \"xaxis\": \"x\", \"y\": [20, 24, 36, 12, 0, 0, 1, 22, 104, 83, 23, 40, 4, 3, 0, 5, 11, 0, 9, 3, 41], \"yaxis\": \"y\"}, {\"hovertemplate\": \"<b>%{hovertext}</b><br><br>sector=Consumer Staples<br>year=%{x}<br>jumpcount=%{marker.size}<extra></extra>\", \"hovertext\": [\"Consumer Staples\", \"Consumer Staples\", \"Consumer Staples\", \"Consumer Staples\", \"Consumer Staples\", \"Consumer Staples\", \"Consumer Staples\", \"Consumer Staples\", \"Consumer Staples\", \"Consumer Staples\", \"Consumer Staples\", \"Consumer Staples\", \"Consumer Staples\", \"Consumer Staples\", \"Consumer Staples\", \"Consumer Staples\", \"Consumer Staples\", \"Consumer Staples\", \"Consumer Staples\", \"Consumer Staples\", \"Consumer Staples\"], \"legendgroup\": \"Consumer Staples\", \"marker\": {\"color\": \"#FFA15A\", \"size\": [0, 2, 6, 0, 7, 7, 3, 35, 95, 106, 30, 32, 2, 5, 1, 5, 5, 0, 7, 0, 34], \"sizemode\": \"area\", \"sizeref\": 0.043611111111111114, \"symbol\": \"circle\"}, \"mode\": \"markers\", \"name\": \"Consumer Staples\", \"orientation\": \"v\", \"showlegend\": true, \"type\": \"scatter\", \"x\": [2000, 2001, 2002, 2003, 2004, 2005, 2006, 2007, 2008, 2009, 2010, 2011, 2012, 2013, 2014, 2015, 2016, 2017, 2018, 2019, 2020], \"xaxis\": \"x\", \"y\": [0, 2, 6, 0, 7, 7, 3, 35, 95, 106, 30, 32, 2, 5, 1, 5, 5, 0, 7, 0, 34], \"yaxis\": \"y\"}, {\"hovertemplate\": \"<b>%{hovertext}</b><br><br>sector=Energy<br>year=%{x}<br>jumpcount=%{marker.size}<extra></extra>\", \"hovertext\": [\"Energy\", \"Energy\", \"Energy\", \"Energy\", \"Energy\", \"Energy\", \"Energy\", \"Energy\", \"Energy\", \"Energy\", \"Energy\", \"Energy\", \"Energy\", \"Energy\", \"Energy\", \"Energy\", \"Energy\", \"Energy\", \"Energy\", \"Energy\", \"Energy\"], \"legendgroup\": \"Energy\", \"marker\": {\"color\": \"#19d3f3\", \"size\": [24, 32, 76, 24, 2, 0, 0, 14, 74, 38, 13, 17, 3, 1, 3, 7, 14, 8, 9, 4, 26], \"sizemode\": \"area\", \"sizeref\": 0.043611111111111114, \"symbol\": \"circle\"}, \"mode\": \"markers\", \"name\": \"Energy\", \"orientation\": \"v\", \"showlegend\": true, \"type\": \"scatter\", \"x\": [2000, 2001, 2002, 2003, 2004, 2005, 2006, 2007, 2008, 2009, 2010, 2011, 2012, 2013, 2014, 2015, 2016, 2017, 2018, 2019, 2020], \"xaxis\": \"x\", \"y\": [24, 32, 76, 24, 2, 0, 0, 14, 74, 38, 13, 17, 3, 1, 3, 7, 14, 8, 9, 4, 26], \"yaxis\": \"y\"}, {\"hovertemplate\": \"<b>%{hovertext}</b><br><br>sector=Financials<br>year=%{x}<br>jumpcount=%{marker.size}<extra></extra>\", \"hovertext\": [\"Financials\", \"Financials\", \"Financials\", \"Financials\", \"Financials\", \"Financials\", \"Financials\", \"Financials\", \"Financials\", \"Financials\", \"Financials\", \"Financials\", \"Financials\", \"Financials\", \"Financials\", \"Financials\", \"Financials\", \"Financials\", \"Financials\", \"Financials\", \"Financials\"], \"legendgroup\": \"Financials\", \"marker\": {\"color\": \"#FF6692\", \"size\": [0, 60, 120, 70, 49, 12, 28, 19, 81, 65, 42, 48, 14, 5, 8, 21, 22, 7, 35, 31, 47], \"sizemode\": \"area\", \"sizeref\": 0.043611111111111114, \"symbol\": \"circle\"}, \"mode\": \"markers\", \"name\": \"Financials\", \"orientation\": \"v\", \"showlegend\": true, \"type\": \"scatter\", \"x\": [2000, 2001, 2002, 2003, 2004, 2005, 2006, 2007, 2008, 2009, 2010, 2011, 2012, 2013, 2014, 2015, 2016, 2017, 2018, 2019, 2020], \"xaxis\": \"x\", \"y\": [0, 60, 120, 70, 49, 12, 28, 19, 81, 65, 42, 48, 14, 5, 8, 21, 22, 7, 35, 31, 47], \"yaxis\": \"y\"}, {\"hovertemplate\": \"<b>%{hovertext}</b><br><br>sector=Health Care<br>year=%{x}<br>jumpcount=%{marker.size}<extra></extra>\", \"hovertext\": [\"Health Care\", \"Health Care\", \"Health Care\", \"Health Care\", \"Health Care\", \"Health Care\", \"Health Care\", \"Health Care\", \"Health Care\", \"Health Care\", \"Health Care\", \"Health Care\", \"Health Care\", \"Health Care\", \"Health Care\", \"Health Care\", \"Health Care\", \"Health Care\", \"Health Care\", \"Health Care\", \"Health Care\"], \"legendgroup\": \"Health Care\", \"marker\": {\"color\": \"#B6E880\", \"size\": [5, 12, 25, 6, 0, 0, 0, 10, 55, 36, 13, 24, 2, 3, 0, 5, 4, 0, 8, 5, 30], \"sizemode\": \"area\", \"sizeref\": 0.043611111111111114, \"symbol\": \"circle\"}, \"mode\": \"markers\", \"name\": \"Health Care\", \"orientation\": \"v\", \"showlegend\": true, \"type\": \"scatter\", \"x\": [2000, 2001, 2002, 2003, 2004, 2005, 2006, 2007, 2008, 2009, 2010, 2011, 2012, 2013, 2014, 2015, 2016, 2017, 2018, 2019, 2020], \"xaxis\": \"x\", \"y\": [5, 12, 25, 6, 0, 0, 0, 10, 55, 36, 13, 24, 2, 3, 0, 5, 4, 0, 8, 5, 30], \"yaxis\": \"y\"}, {\"hovertemplate\": \"<b>%{hovertext}</b><br><br>sector=Industrial<br>year=%{x}<br>jumpcount=%{marker.size}<extra></extra>\", \"hovertext\": [\"Industrial\", \"Industrial\", \"Industrial\", \"Industrial\", \"Industrial\", \"Industrial\", \"Industrial\", \"Industrial\", \"Industrial\", \"Industrial\", \"Industrial\", \"Industrial\", \"Industrial\", \"Industrial\", \"Industrial\", \"Industrial\", \"Industrial\", \"Industrial\", \"Industrial\", \"Industrial\", \"Industrial\"], \"legendgroup\": \"Industrial\", \"marker\": {\"color\": \"#FF97FF\", \"size\": [45, 32, 38, 8, 6, 5, 11, 20, 69, 59, 29, 43, 9, 4, 4, 10, 12, 1, 13, 6, 34], \"sizemode\": \"area\", \"sizeref\": 0.043611111111111114, \"symbol\": \"circle\"}, \"mode\": \"markers\", \"name\": \"Industrial\", \"orientation\": \"v\", \"showlegend\": true, \"type\": \"scatter\", \"x\": [2000, 2001, 2002, 2003, 2004, 2005, 2006, 2007, 2008, 2009, 2010, 2011, 2012, 2013, 2014, 2015, 2016, 2017, 2018, 2019, 2020], \"xaxis\": \"x\", \"y\": [45, 32, 38, 8, 6, 5, 11, 20, 69, 59, 29, 43, 9, 4, 4, 10, 12, 1, 13, 6, 34], \"yaxis\": \"y\"}, {\"hovertemplate\": \"<b>%{hovertext}</b><br><br>sector=Technology<br>year=%{x}<br>jumpcount=%{marker.size}<extra></extra>\", \"hovertext\": [\"Technology\", \"Technology\", \"Technology\", \"Technology\", \"Technology\", \"Technology\", \"Technology\", \"Technology\", \"Technology\", \"Technology\", \"Technology\", \"Technology\", \"Technology\", \"Technology\", \"Technology\", \"Technology\", \"Technology\", \"Technology\", \"Technology\", \"Technology\", \"Technology\"], \"legendgroup\": \"Technology\", \"marker\": {\"color\": \"#FECB52\", \"size\": [43, 28, 35, 6, 3, 29, 23, 31, 93, 60, 23, 45, 7, 3, 8, 27, 29, 1, 18, 9, 48], \"sizemode\": \"area\", \"sizeref\": 0.043611111111111114, \"symbol\": \"circle\"}, \"mode\": \"markers\", \"name\": \"Technology\", \"orientation\": \"v\", \"showlegend\": true, \"type\": \"scatter\", \"x\": [2000, 2001, 2002, 2003, 2004, 2005, 2006, 2007, 2008, 2009, 2010, 2011, 2012, 2013, 2014, 2015, 2016, 2017, 2018, 2019, 2020], \"xaxis\": \"x\", \"y\": [43, 28, 35, 6, 3, 29, 23, 31, 93, 60, 23, 45, 7, 3, 8, 27, 29, 1, 18, 9, 48], \"yaxis\": \"y\"}, {\"hovertemplate\": \"<b>%{hovertext}</b><br><br>sector=Real Estate<br>year=%{x}<br>jumpcount=%{marker.size}<extra></extra>\", \"hovertext\": [\"Real Estate\", \"Real Estate\", \"Real Estate\", \"Real Estate\", \"Real Estate\", \"Real Estate\", \"Real Estate\", \"Real Estate\", \"Real Estate\", \"Real Estate\", \"Real Estate\", \"Real Estate\", \"Real Estate\", \"Real Estate\", \"Real Estate\", \"Real Estate\", \"Real Estate\", \"Real Estate\", \"Real Estate\", \"Real Estate\", \"Real Estate\"], \"legendgroup\": \"Real Estate\", \"marker\": {\"color\": \"#636efa\", \"size\": [24, 20, 38, 10, 0, 1, 0, 7, 59, 51, 20, 31, 3, 2, 3, 7, 5, 0, 12, 6, 34], \"sizemode\": \"area\", \"sizeref\": 0.043611111111111114, \"symbol\": \"circle\"}, \"mode\": \"markers\", \"name\": \"Real Estate\", \"orientation\": \"v\", \"showlegend\": true, \"type\": \"scatter\", \"x\": [2000, 2001, 2002, 2003, 2004, 2005, 2006, 2007, 2008, 2009, 2010, 2011, 2012, 2013, 2014, 2015, 2016, 2017, 2018, 2019, 2020], \"xaxis\": \"x\", \"y\": [24, 20, 38, 10, 0, 1, 0, 7, 59, 51, 20, 31, 3, 2, 3, 7, 5, 0, 12, 6, 34], \"yaxis\": \"y\"}, {\"hovertemplate\": \"<b>%{hovertext}</b><br><br>sector=Utilities<br>year=%{x}<br>jumpcount=%{marker.size}<extra></extra>\", \"hovertext\": [\"Utilities\", \"Utilities\", \"Utilities\", \"Utilities\", \"Utilities\", \"Utilities\", \"Utilities\", \"Utilities\", \"Utilities\", \"Utilities\", \"Utilities\", \"Utilities\", \"Utilities\", \"Utilities\", \"Utilities\", \"Utilities\", \"Utilities\", \"Utilities\", \"Utilities\", \"Utilities\", \"Utilities\"], \"legendgroup\": \"Utilities\", \"marker\": {\"color\": \"#EF553B\", \"size\": [87, 79, 90, 26, 5, 2, 3, 5, 59, 37, 16, 19, 4, 1, 2, 8, 8, 2, 23, 10, 30], \"sizemode\": \"area\", \"sizeref\": 0.043611111111111114, \"symbol\": \"circle\"}, \"mode\": \"markers\", \"name\": \"Utilities\", \"orientation\": \"v\", \"showlegend\": true, \"type\": \"scatter\", \"x\": [2000, 2001, 2002, 2003, 2004, 2005, 2006, 2007, 2008, 2009, 2010, 2011, 2012, 2013, 2014, 2015, 2016, 2017, 2018, 2019, 2020], \"xaxis\": \"x\", \"y\": [87, 79, 90, 26, 5, 2, 3, 5, 59, 37, 16, 19, 4, 1, 2, 8, 8, 2, 23, 10, 30], \"yaxis\": \"y\"}, {\"hovertemplate\": \"<b>%{hovertext}</b><br><br>sector=BioTech<br>year=%{x}<br>jumpcount=%{marker.size}<extra></extra>\", \"hovertext\": [\"BioTech\", \"BioTech\", \"BioTech\", \"BioTech\", \"BioTech\", \"BioTech\", \"BioTech\", \"BioTech\", \"BioTech\", \"BioTech\", \"BioTech\", \"BioTech\", \"BioTech\", \"BioTech\", \"BioTech\", \"BioTech\", \"BioTech\", \"BioTech\", \"BioTech\", \"BioTech\", \"BioTech\"], \"legendgroup\": \"BioTech\", \"marker\": {\"color\": \"#00cc96\", \"size\": [22, 12, 11, 4, 1, 0, 0, 1, 21, 7, 3, 4, 0, 2, 0, 3, 2, 0, 4, 1, 20], \"sizemode\": \"area\", \"sizeref\": 0.043611111111111114, \"symbol\": \"circle\"}, \"mode\": \"markers\", \"name\": \"BioTech\", \"orientation\": \"v\", \"showlegend\": true, \"type\": \"scatter\", \"x\": [2000, 2001, 2002, 2003, 2004, 2005, 2006, 2007, 2008, 2009, 2010, 2011, 2012, 2013, 2014, 2015, 2016, 2017, 2018, 2019, 2020], \"xaxis\": \"x\", \"y\": [22, 12, 11, 4, 1, 0, 0, 1, 21, 7, 3, 4, 0, 2, 0, 3, 2, 0, 4, 1, 20], \"yaxis\": \"y\"}, {\"hovertemplate\": \"<b>%{hovertext}</b><br><br>sector=Defense<br>year=%{x}<br>jumpcount=%{marker.size}<extra></extra>\", \"hovertext\": [\"Defense\", \"Defense\", \"Defense\", \"Defense\", \"Defense\", \"Defense\", \"Defense\", \"Defense\", \"Defense\", \"Defense\", \"Defense\", \"Defense\", \"Defense\", \"Defense\", \"Defense\", \"Defense\", \"Defense\", \"Defense\", \"Defense\", \"Defense\", \"Defense\"], \"legendgroup\": \"Defense\", \"marker\": {\"color\": \"#ab63fa\", \"size\": [25, 10, 37, 6, 1, 3, 0, 8, 45, 15, 6, 6, 0, 2, 0, 8, 5, 0, 4, 0, 34], \"sizemode\": \"area\", \"sizeref\": 0.043611111111111114, \"symbol\": \"circle\"}, \"mode\": \"markers\", \"name\": \"Defense\", \"orientation\": \"v\", \"showlegend\": true, \"type\": \"scatter\", \"x\": [2000, 2001, 2002, 2003, 2004, 2005, 2006, 2007, 2008, 2009, 2010, 2011, 2012, 2013, 2014, 2015, 2016, 2017, 2018, 2019, 2020], \"xaxis\": \"x\", \"y\": [25, 10, 37, 6, 1, 3, 0, 8, 45, 15, 6, 6, 0, 2, 0, 8, 5, 0, 4, 0, 34], \"yaxis\": \"y\"}, {\"hovertemplate\": \"<b>%{hovertext}</b><br><br>sector=Semiconductor<br>year=%{x}<br>jumpcount=%{marker.size}<extra></extra>\", \"hovertext\": [\"Semiconductor\", \"Semiconductor\", \"Semiconductor\", \"Semiconductor\", \"Semiconductor\", \"Semiconductor\", \"Semiconductor\", \"Semiconductor\", \"Semiconductor\", \"Semiconductor\", \"Semiconductor\", \"Semiconductor\", \"Semiconductor\", \"Semiconductor\", \"Semiconductor\", \"Semiconductor\", \"Semiconductor\", \"Semiconductor\", \"Semiconductor\", \"Semiconductor\", \"Semiconductor\"], \"legendgroup\": \"Semiconductor\", \"marker\": {\"color\": \"#FFA15A\", \"size\": [26, 21, 30, 7, 2, 0, 0, 1, 22, 13, 6, 14, 0, 1, 4, 8, 7, 0, 10, 3, 24], \"sizemode\": \"area\", \"sizeref\": 0.043611111111111114, \"symbol\": \"circle\"}, \"mode\": \"markers\", \"name\": \"Semiconductor\", \"orientation\": \"v\", \"showlegend\": true, \"type\": \"scatter\", \"x\": [2000, 2001, 2002, 2003, 2004, 2005, 2006, 2007, 2008, 2009, 2010, 2011, 2012, 2013, 2014, 2015, 2016, 2017, 2018, 2019, 2020], \"xaxis\": \"x\", \"y\": [26, 21, 30, 7, 2, 0, 0, 1, 22, 13, 6, 14, 0, 1, 4, 8, 7, 0, 10, 3, 24], \"yaxis\": \"y\"}, {\"hovertemplate\": \"<b>%{hovertext}</b><br><br>sector=Home Construction<br>year=%{x}<br>jumpcount=%{marker.size}<extra></extra>\", \"hovertext\": [\"Home Construction\", \"Home Construction\", \"Home Construction\", \"Home Construction\", \"Home Construction\", \"Home Construction\", \"Home Construction\", \"Home Construction\", \"Home Construction\", \"Home Construction\", \"Home Construction\", \"Home Construction\", \"Home Construction\", \"Home Construction\", \"Home Construction\", \"Home Construction\", \"Home Construction\", \"Home Construction\", \"Home Construction\", \"Home Construction\", \"Home Construction\"], \"legendgroup\": \"Home Construction\", \"marker\": {\"color\": \"#19d3f3\", \"size\": [44, 32, 37, 16, 0, 0, 0, 12, 66, 46, 17, 26, 2, 2, 1, 8, 4, 0, 15, 6, 27], \"sizemode\": \"area\", \"sizeref\": 0.043611111111111114, \"symbol\": \"circle\"}, \"mode\": \"markers\", \"name\": \"Home Construction\", \"orientation\": \"v\", \"showlegend\": true, \"type\": \"scatter\", \"x\": [2000, 2001, 2002, 2003, 2004, 2005, 2006, 2007, 2008, 2009, 2010, 2011, 2012, 2013, 2014, 2015, 2016, 2017, 2018, 2019, 2020], \"xaxis\": \"x\", \"y\": [44, 32, 37, 16, 0, 0, 0, 12, 66, 46, 17, 26, 2, 2, 1, 8, 4, 0, 15, 6, 27], \"yaxis\": \"y\"}],\n",
       "                        {\"legend\": {\"itemsizing\": \"constant\", \"title\": {\"text\": \"sector\"}, \"tracegroupgap\": 0}, \"margin\": {\"t\": 60}, \"template\": {\"data\": {\"bar\": [{\"error_x\": {\"color\": \"#2a3f5f\"}, \"error_y\": {\"color\": \"#2a3f5f\"}, \"marker\": {\"line\": {\"color\": \"#E5ECF6\", \"width\": 0.5}}, \"type\": \"bar\"}], \"barpolar\": [{\"marker\": {\"line\": {\"color\": \"#E5ECF6\", \"width\": 0.5}}, \"type\": \"barpolar\"}], \"carpet\": [{\"aaxis\": {\"endlinecolor\": \"#2a3f5f\", \"gridcolor\": \"white\", \"linecolor\": \"white\", \"minorgridcolor\": \"white\", \"startlinecolor\": \"#2a3f5f\"}, \"baxis\": {\"endlinecolor\": \"#2a3f5f\", \"gridcolor\": \"white\", \"linecolor\": \"white\", \"minorgridcolor\": \"white\", \"startlinecolor\": \"#2a3f5f\"}, \"type\": \"carpet\"}], \"choropleth\": [{\"colorbar\": {\"outlinewidth\": 0, \"ticks\": \"\"}, \"type\": \"choropleth\"}], \"contour\": [{\"colorbar\": {\"outlinewidth\": 0, \"ticks\": \"\"}, \"colorscale\": [[0.0, \"#0d0887\"], [0.1111111111111111, \"#46039f\"], [0.2222222222222222, \"#7201a8\"], [0.3333333333333333, \"#9c179e\"], [0.4444444444444444, \"#bd3786\"], [0.5555555555555556, \"#d8576b\"], [0.6666666666666666, \"#ed7953\"], [0.7777777777777778, \"#fb9f3a\"], [0.8888888888888888, \"#fdca26\"], [1.0, \"#f0f921\"]], \"type\": \"contour\"}], \"contourcarpet\": [{\"colorbar\": {\"outlinewidth\": 0, \"ticks\": \"\"}, \"type\": \"contourcarpet\"}], \"heatmap\": [{\"colorbar\": {\"outlinewidth\": 0, \"ticks\": \"\"}, \"colorscale\": [[0.0, \"#0d0887\"], [0.1111111111111111, \"#46039f\"], [0.2222222222222222, \"#7201a8\"], [0.3333333333333333, \"#9c179e\"], [0.4444444444444444, \"#bd3786\"], [0.5555555555555556, \"#d8576b\"], [0.6666666666666666, \"#ed7953\"], [0.7777777777777778, \"#fb9f3a\"], [0.8888888888888888, \"#fdca26\"], [1.0, \"#f0f921\"]], \"type\": \"heatmap\"}], \"heatmapgl\": [{\"colorbar\": {\"outlinewidth\": 0, \"ticks\": \"\"}, \"colorscale\": [[0.0, \"#0d0887\"], [0.1111111111111111, \"#46039f\"], [0.2222222222222222, \"#7201a8\"], [0.3333333333333333, \"#9c179e\"], [0.4444444444444444, \"#bd3786\"], [0.5555555555555556, \"#d8576b\"], [0.6666666666666666, \"#ed7953\"], [0.7777777777777778, \"#fb9f3a\"], [0.8888888888888888, \"#fdca26\"], [1.0, \"#f0f921\"]], \"type\": \"heatmapgl\"}], \"histogram\": [{\"marker\": {\"colorbar\": {\"outlinewidth\": 0, \"ticks\": \"\"}}, \"type\": \"histogram\"}], \"histogram2d\": [{\"colorbar\": {\"outlinewidth\": 0, \"ticks\": \"\"}, \"colorscale\": [[0.0, \"#0d0887\"], [0.1111111111111111, \"#46039f\"], [0.2222222222222222, \"#7201a8\"], [0.3333333333333333, \"#9c179e\"], [0.4444444444444444, \"#bd3786\"], [0.5555555555555556, \"#d8576b\"], [0.6666666666666666, \"#ed7953\"], [0.7777777777777778, \"#fb9f3a\"], [0.8888888888888888, \"#fdca26\"], [1.0, \"#f0f921\"]], \"type\": \"histogram2d\"}], \"histogram2dcontour\": [{\"colorbar\": {\"outlinewidth\": 0, \"ticks\": \"\"}, \"colorscale\": [[0.0, \"#0d0887\"], [0.1111111111111111, \"#46039f\"], [0.2222222222222222, \"#7201a8\"], [0.3333333333333333, \"#9c179e\"], [0.4444444444444444, \"#bd3786\"], [0.5555555555555556, \"#d8576b\"], [0.6666666666666666, \"#ed7953\"], [0.7777777777777778, \"#fb9f3a\"], [0.8888888888888888, \"#fdca26\"], [1.0, \"#f0f921\"]], \"type\": \"histogram2dcontour\"}], \"mesh3d\": [{\"colorbar\": {\"outlinewidth\": 0, \"ticks\": \"\"}, \"type\": \"mesh3d\"}], \"parcoords\": [{\"line\": {\"colorbar\": {\"outlinewidth\": 0, \"ticks\": \"\"}}, \"type\": \"parcoords\"}], \"pie\": [{\"automargin\": true, \"type\": \"pie\"}], \"scatter\": [{\"marker\": {\"colorbar\": {\"outlinewidth\": 0, \"ticks\": \"\"}}, \"type\": \"scatter\"}], \"scatter3d\": [{\"line\": {\"colorbar\": {\"outlinewidth\": 0, \"ticks\": \"\"}}, \"marker\": {\"colorbar\": {\"outlinewidth\": 0, \"ticks\": \"\"}}, \"type\": \"scatter3d\"}], \"scattercarpet\": [{\"marker\": {\"colorbar\": {\"outlinewidth\": 0, \"ticks\": \"\"}}, \"type\": \"scattercarpet\"}], \"scattergeo\": [{\"marker\": {\"colorbar\": {\"outlinewidth\": 0, \"ticks\": \"\"}}, \"type\": \"scattergeo\"}], \"scattergl\": [{\"marker\": {\"colorbar\": {\"outlinewidth\": 0, \"ticks\": \"\"}}, \"type\": \"scattergl\"}], \"scattermapbox\": [{\"marker\": {\"colorbar\": {\"outlinewidth\": 0, \"ticks\": \"\"}}, \"type\": \"scattermapbox\"}], \"scatterpolar\": [{\"marker\": {\"colorbar\": {\"outlinewidth\": 0, \"ticks\": \"\"}}, \"type\": \"scatterpolar\"}], \"scatterpolargl\": [{\"marker\": {\"colorbar\": {\"outlinewidth\": 0, \"ticks\": \"\"}}, \"type\": \"scatterpolargl\"}], \"scatterternary\": [{\"marker\": {\"colorbar\": {\"outlinewidth\": 0, \"ticks\": \"\"}}, \"type\": \"scatterternary\"}], \"surface\": [{\"colorbar\": {\"outlinewidth\": 0, \"ticks\": \"\"}, \"colorscale\": [[0.0, \"#0d0887\"], [0.1111111111111111, \"#46039f\"], [0.2222222222222222, \"#7201a8\"], [0.3333333333333333, \"#9c179e\"], [0.4444444444444444, \"#bd3786\"], [0.5555555555555556, \"#d8576b\"], [0.6666666666666666, \"#ed7953\"], [0.7777777777777778, \"#fb9f3a\"], [0.8888888888888888, \"#fdca26\"], [1.0, \"#f0f921\"]], \"type\": \"surface\"}], \"table\": [{\"cells\": {\"fill\": {\"color\": \"#EBF0F8\"}, \"line\": {\"color\": \"white\"}}, \"header\": {\"fill\": {\"color\": \"#C8D4E3\"}, \"line\": {\"color\": \"white\"}}, \"type\": \"table\"}]}, \"layout\": {\"annotationdefaults\": {\"arrowcolor\": \"#2a3f5f\", \"arrowhead\": 0, \"arrowwidth\": 1}, \"coloraxis\": {\"colorbar\": {\"outlinewidth\": 0, \"ticks\": \"\"}}, \"colorscale\": {\"diverging\": [[0, \"#8e0152\"], [0.1, \"#c51b7d\"], [0.2, \"#de77ae\"], [0.3, \"#f1b6da\"], [0.4, \"#fde0ef\"], [0.5, \"#f7f7f7\"], [0.6, \"#e6f5d0\"], [0.7, \"#b8e186\"], [0.8, \"#7fbc41\"], [0.9, \"#4d9221\"], [1, \"#276419\"]], \"sequential\": [[0.0, \"#0d0887\"], [0.1111111111111111, \"#46039f\"], [0.2222222222222222, \"#7201a8\"], [0.3333333333333333, \"#9c179e\"], [0.4444444444444444, \"#bd3786\"], [0.5555555555555556, \"#d8576b\"], [0.6666666666666666, \"#ed7953\"], [0.7777777777777778, \"#fb9f3a\"], [0.8888888888888888, \"#fdca26\"], [1.0, \"#f0f921\"]], \"sequentialminus\": [[0.0, \"#0d0887\"], [0.1111111111111111, \"#46039f\"], [0.2222222222222222, \"#7201a8\"], [0.3333333333333333, \"#9c179e\"], [0.4444444444444444, \"#bd3786\"], [0.5555555555555556, \"#d8576b\"], [0.6666666666666666, \"#ed7953\"], [0.7777777777777778, \"#fb9f3a\"], [0.8888888888888888, \"#fdca26\"], [1.0, \"#f0f921\"]]}, \"colorway\": [\"#636efa\", \"#EF553B\", \"#00cc96\", \"#ab63fa\", \"#FFA15A\", \"#19d3f3\", \"#FF6692\", \"#B6E880\", \"#FF97FF\", \"#FECB52\"], \"font\": {\"color\": \"#2a3f5f\"}, \"geo\": {\"bgcolor\": \"white\", \"lakecolor\": \"white\", \"landcolor\": \"#E5ECF6\", \"showlakes\": true, \"showland\": true, \"subunitcolor\": \"white\"}, \"hoverlabel\": {\"align\": \"left\"}, \"hovermode\": \"closest\", \"mapbox\": {\"style\": \"light\"}, \"paper_bgcolor\": \"white\", \"plot_bgcolor\": \"#E5ECF6\", \"polar\": {\"angularaxis\": {\"gridcolor\": \"white\", \"linecolor\": \"white\", \"ticks\": \"\"}, \"bgcolor\": \"#E5ECF6\", \"radialaxis\": {\"gridcolor\": \"white\", \"linecolor\": \"white\", \"ticks\": \"\"}}, \"scene\": {\"xaxis\": {\"backgroundcolor\": \"#E5ECF6\", \"gridcolor\": \"white\", \"gridwidth\": 2, \"linecolor\": \"white\", \"showbackground\": true, \"ticks\": \"\", \"zerolinecolor\": \"white\"}, \"yaxis\": {\"backgroundcolor\": \"#E5ECF6\", \"gridcolor\": \"white\", \"gridwidth\": 2, \"linecolor\": \"white\", \"showbackground\": true, \"ticks\": \"\", \"zerolinecolor\": \"white\"}, \"zaxis\": {\"backgroundcolor\": \"#E5ECF6\", \"gridcolor\": \"white\", \"gridwidth\": 2, \"linecolor\": \"white\", \"showbackground\": true, \"ticks\": \"\", \"zerolinecolor\": \"white\"}}, \"shapedefaults\": {\"line\": {\"color\": \"#2a3f5f\"}}, \"ternary\": {\"aaxis\": {\"gridcolor\": \"white\", \"linecolor\": \"white\", \"ticks\": \"\"}, \"baxis\": {\"gridcolor\": \"white\", \"linecolor\": \"white\", \"ticks\": \"\"}, \"bgcolor\": \"#E5ECF6\", \"caxis\": {\"gridcolor\": \"white\", \"linecolor\": \"white\", \"ticks\": \"\"}}, \"title\": {\"x\": 0.05}, \"xaxis\": {\"automargin\": true, \"gridcolor\": \"white\", \"linecolor\": \"white\", \"ticks\": \"\", \"title\": {\"standoff\": 15}, \"zerolinecolor\": \"white\", \"zerolinewidth\": 2}, \"yaxis\": {\"automargin\": true, \"gridcolor\": \"white\", \"linecolor\": \"white\", \"ticks\": \"\", \"title\": {\"standoff\": 15}, \"zerolinecolor\": \"white\", \"zerolinewidth\": 2}}}, \"xaxis\": {\"anchor\": \"y\", \"domain\": [0.0, 1.0], \"title\": {\"text\": \"year\"}, \"type\": \"log\"}, \"yaxis\": {\"anchor\": \"x\", \"domain\": [0.0, 1.0], \"title\": {\"text\": \"jumpcount\"}}},\n",
       "                        {\"responsive\": true}\n",
       "                    ).then(function(){\n",
       "                            \n",
       "var gd = document.getElementById('49d5e7c8-696c-4294-af05-71d0a853fa37');\n",
       "var x = new MutationObserver(function (mutations, observer) {{\n",
       "        var display = window.getComputedStyle(gd).display;\n",
       "        if (!display || display === 'none') {{\n",
       "            console.log([gd, 'removed!']);\n",
       "            Plotly.purge(gd);\n",
       "            observer.disconnect();\n",
       "        }}\n",
       "}});\n",
       "\n",
       "// Listen for the removal of the full notebook cells\n",
       "var notebookContainer = gd.closest('#notebook-container');\n",
       "if (notebookContainer) {{\n",
       "    x.observe(notebookContainer, {childList: true});\n",
       "}}\n",
       "\n",
       "// Listen for the clearing of the current output cell\n",
       "var outputEl = gd.closest('.output');\n",
       "if (outputEl) {{\n",
       "    x.observe(outputEl, {childList: true});\n",
       "}}\n",
       "\n",
       "                        })\n",
       "                };\n",
       "                });\n",
       "            </script>\n",
       "        </div>"
      ]
     },
     "metadata": {},
     "output_type": "display_data"
    }
   ],
   "source": [
    "fig.show()"
   ]
  },
  {
   "cell_type": "code",
   "execution_count": 49,
   "metadata": {},
   "outputs": [],
   "source": [
    "def plot_sector_jumps_totals_by_sector(sector):\n",
    "    df_sector_jumps_totals_sector= df_sector_jumps_totals[df_sector_jumps_totals.sector==sector]\n",
    "    fig = px.scatter(df_sector_jumps_totals_sector, x=\"year\", y=\"jumpcount\", size=\"jumpcount\", color=\"sector\",hover_name=\"sector\", log_x=True, size_max=60)\n",
    "    return fig"
   ]
  },
  {
   "cell_type": "code",
   "execution_count": 50,
   "metadata": {},
   "outputs": [
    {
     "data": {
      "application/vnd.holoviews_exec.v0+json": "",
      "text/html": [
       "<div id='1036'>\n",
       "\n",
       "\n",
       "\n",
       "\n",
       "\n",
       "  <div class=\"bk-root\" id=\"267502ba-b148-4713-9d76-c018781ef602\" data-root-id=\"1036\"></div>\n",
       "</div>\n",
       "<script type=\"application/javascript\">\n",
       "    function msg_handler(msg) {\n",
       "      var metadata = msg.metadata;\n",
       "      var buffers = msg.buffers;\n",
       "      var msg = msg.content.data;\n",
       "      if ((metadata.msg_type == \"Ready\")) {\n",
       "        if (metadata.content) {\n",
       "          console.log(\"Python callback returned following output:\", metadata.content);\n",
       "        }\n",
       "      } else if (metadata.msg_type == \"Error\") {\n",
       "        console.log(\"Python failed with the following traceback:\", metadata.traceback)\n",
       "      } else {\n",
       "        \n",
       "var plot_id = \"1036\";\n",
       "\n",
       "if ((plot_id in window.PyViz.plot_index) && (window.PyViz.plot_index[plot_id] != null)) {\n",
       "  var plot = window.PyViz.plot_index[plot_id];\n",
       "} else if ((Bokeh !== undefined) && (plot_id in Bokeh.index)) {\n",
       "  var plot = Bokeh.index[plot_id];\n",
       "}\n",
       "\n",
       "if (plot == null) {\n",
       "  return\n",
       "}\n",
       "\n",
       "if (plot_id in window.PyViz.receivers) {\n",
       "  var receiver = window.PyViz.receivers[plot_id];\n",
       "} else {\n",
       "  var receiver = new Bokeh.protocol.Receiver();\n",
       "  window.PyViz.receivers[plot_id] = receiver;\n",
       "}\n",
       "\n",
       "if ((buffers != undefined) && (buffers.length > 0)) {\n",
       "  receiver.consume(buffers[0].buffer)\n",
       "} else {\n",
       "  receiver.consume(msg)\n",
       "}\n",
       "\n",
       "const comm_msg = receiver.message;\n",
       "if ((comm_msg != null) && (Object.keys(comm_msg.content).length > 0)) {\n",
       "  plot.model.document.apply_json_patch(comm_msg.content, comm_msg.buffers)\n",
       "}\n",
       "\n",
       "      }\n",
       "    }\n",
       "    if ((window.PyViz == undefined) || (!window.PyViz.comm_manager)) {\n",
       "      console.log(\"Could not find comm manager\")\n",
       "    } else {\n",
       "      window.PyViz.comm_manager.register_target('1036', 'e8c578f8571c48e2abea987047cb2dab', msg_handler);\n",
       "    }\n",
       "    \n",
       "(function(root) {\n",
       "  function embed_document(root) {\n",
       "  var docs_json = {\"6621e4c7-c6b7-47e0-8eb2-37674e3dc664\":{\"roots\":{\"references\":[{\"attributes\":{\"children\":[{\"id\":\"1045\",\"type\":\"panel.models.plotly.PlotlyPlot\"}],\"margin\":[0,0,0,0],\"name\":\"Row01464\"},\"id\":\"1043\",\"type\":\"Row\"},{\"attributes\":{\"code\":\"\\nif (!window.PyViz) {\\n  return;\\n}\\nvar events = [];\\nvar receiver = window.PyViz.receivers['1036'];\\nif (receiver &&\\n        receiver._partial &&\\n        receiver._partial.content &&\\n        receiver._partial.content.events) {\\n    events = receiver._partial.content.events;\\n}\\n\\nvar value = cb_obj['options'];\\n\\n\\n\\nfor (var event of events) {\\n  if ((event.kind === 'ModelChanged') && (event.attr === 'options') &&\\n      (cb_obj.id === event.model.id) &&\\n      (JSON.stringify(value) === JSON.stringify(event.new))) {\\n    return;\\n  }\\n}\\n\\ndata = {options: value, 'id': cb_obj.id}; cb_obj.event_name = 'options';\\n\\nfunction unique_events(events) {\\n  // Processes the event queue ignoring duplicate events\\n  // of the same type\\n  var unique = [];\\n  var unique_events = [];\\n  for (var i=0; i<events.length; i++) {\\n    var _tmpevent = events[i];\\n    event = _tmpevent[0];\\n    data = _tmpevent[1];\\n    if (unique_events.indexOf(event)===-1) {\\n      unique.unshift(data);\\n      unique_events.push(event);\\n      }\\n  }\\n  return unique;\\n}\\n\\nfunction process_events(comm_status) {\\n  // Iterates over event queue and sends events via Comm\\n  var events = unique_events(comm_status.event_buffer);\\n  for (var i=0; i<events.length; i++) {\\n    var data = events[i];\\n    var comm = window.PyViz.comms[data[\\\"comm_id\\\"]];\\n    comm.send(data);\\n  }\\n  comm_status.event_buffer = [];\\n}\\n\\nfunction on_msg(msg) {\\n  // Receives acknowledgement from Python, processing event\\n  // and unblocking Comm if event queue empty\\n  var metadata = msg.metadata;\\n  var comm_id = metadata.comm_id\\n  var comm_status = window.PyViz.comm_status[comm_id];\\n  if (comm_status.event_buffer.length) {\\n    process_events(comm_status);\\n    comm_status.blocked = true;\\n    comm_status.time = Date.now()+50;\\n  } else {\\n    comm_status.blocked = false;\\n  }\\n  comm_status.event_buffer = [];\\n  if ((metadata.msg_type == \\\"Ready\\\") && metadata.content) {\\n    console.log(\\\"Python callback returned following output:\\\", metadata.content);\\n  } else if (metadata.msg_type == \\\"Error\\\") {\\n    console.log(\\\"Python failed with the following traceback:\\\", metadata.traceback)\\n  }\\n}\\n\\n// Initialize Comm\\nif ((window.PyViz == undefined) || (window.PyViz.comm_manager == undefined)) { return }\\nvar comm = window.PyViz.comm_manager.get_client_comm(\\\"1036\\\", \\\"245dcce800a7414cab89ad5fa08b9fe8\\\", on_msg);\\nif (!comm) {\\n  return\\n}\\n\\n// Initialize event queue and timeouts for Comm\\nvar comm_status = window.PyViz.comm_status[\\\"245dcce800a7414cab89ad5fa08b9fe8\\\"];\\nif (comm_status === undefined) {\\n  comm_status = {event_buffer: [], blocked: false, time: Date.now()}\\n  window.PyViz.comm_status[\\\"245dcce800a7414cab89ad5fa08b9fe8\\\"] = comm_status\\n}\\n\\n// Add current event to queue and process queue if not blocked\\nvar event_name = cb_obj.event_name;\\nif (event_name === undefined) {\\n  // we are a widget not an event... fake a key.\\n  event_name = Object.keys(data).join(',');\\n}\\ndata['comm_id'] = \\\"245dcce800a7414cab89ad5fa08b9fe8\\\";\\nvar timeout = comm_status.time + 20000;\\nif ((comm_status.blocked && (Date.now() < timeout))) {\\n  comm_status.event_buffer.unshift([event_name, data]);\\n} else {\\n  comm_status.event_buffer.unshift([event_name, data]);\\n  setTimeout(function() { process_events(comm_status); }, 50);\\n  comm_status.blocked = true;\\n  comm_status.time = Date.now()+50;\\n}\\n\"},\"id\":\"1041\",\"type\":\"CustomJS\"},{\"attributes\":{\"code\":\"\\nif (!window.PyViz) {\\n  return;\\n}\\nvar events = [];\\nvar receiver = window.PyViz.receivers['1036'];\\nif (receiver &&\\n        receiver._partial &&\\n        receiver._partial.content &&\\n        receiver._partial.content.events) {\\n    events = receiver._partial.content.events;\\n}\\n\\nvar value = cb_obj['hover_data'];\\n\\n\\n\\nfor (var event of events) {\\n  if ((event.kind === 'ModelChanged') && (event.attr === 'hover_data') &&\\n      (cb_obj.id === event.model.id) &&\\n      (JSON.stringify(value) === JSON.stringify(event.new))) {\\n    return;\\n  }\\n}\\n\\ndata = {hover_data: value, 'id': cb_obj.id}; cb_obj.event_name = 'hover_data';\\n\\nfunction unique_events(events) {\\n  // Processes the event queue ignoring duplicate events\\n  // of the same type\\n  var unique = [];\\n  var unique_events = [];\\n  for (var i=0; i<events.length; i++) {\\n    var _tmpevent = events[i];\\n    event = _tmpevent[0];\\n    data = _tmpevent[1];\\n    if (unique_events.indexOf(event)===-1) {\\n      unique.unshift(data);\\n      unique_events.push(event);\\n      }\\n  }\\n  return unique;\\n}\\n\\nfunction process_events(comm_status) {\\n  // Iterates over event queue and sends events via Comm\\n  var events = unique_events(comm_status.event_buffer);\\n  for (var i=0; i<events.length; i++) {\\n    var data = events[i];\\n    var comm = window.PyViz.comms[data[\\\"comm_id\\\"]];\\n    comm.send(data);\\n  }\\n  comm_status.event_buffer = [];\\n}\\n\\nfunction on_msg(msg) {\\n  // Receives acknowledgement from Python, processing event\\n  // and unblocking Comm if event queue empty\\n  var metadata = msg.metadata;\\n  var comm_id = metadata.comm_id\\n  var comm_status = window.PyViz.comm_status[comm_id];\\n  if (comm_status.event_buffer.length) {\\n    process_events(comm_status);\\n    comm_status.blocked = true;\\n    comm_status.time = Date.now()+50;\\n  } else {\\n    comm_status.blocked = false;\\n  }\\n  comm_status.event_buffer = [];\\n  if ((metadata.msg_type == \\\"Ready\\\") && metadata.content) {\\n    console.log(\\\"Python callback returned following output:\\\", metadata.content);\\n  } else if (metadata.msg_type == \\\"Error\\\") {\\n    console.log(\\\"Python failed with the following traceback:\\\", metadata.traceback)\\n  }\\n}\\n\\n// Initialize Comm\\nif ((window.PyViz == undefined) || (window.PyViz.comm_manager == undefined)) { return }\\nvar comm = window.PyViz.comm_manager.get_client_comm(\\\"1036\\\", \\\"4e8b2de99f394161993d37e4c5918eac\\\", on_msg);\\nif (!comm) {\\n  return\\n}\\n\\n// Initialize event queue and timeouts for Comm\\nvar comm_status = window.PyViz.comm_status[\\\"4e8b2de99f394161993d37e4c5918eac\\\"];\\nif (comm_status === undefined) {\\n  comm_status = {event_buffer: [], blocked: false, time: Date.now()}\\n  window.PyViz.comm_status[\\\"4e8b2de99f394161993d37e4c5918eac\\\"] = comm_status\\n}\\n\\n// Add current event to queue and process queue if not blocked\\nvar event_name = cb_obj.event_name;\\nif (event_name === undefined) {\\n  // we are a widget not an event... fake a key.\\n  event_name = Object.keys(data).join(',');\\n}\\ndata['comm_id'] = \\\"4e8b2de99f394161993d37e4c5918eac\\\";\\nvar timeout = comm_status.time + 20000;\\nif ((comm_status.blocked && (Date.now() < timeout))) {\\n  comm_status.event_buffer.unshift([event_name, data]);\\n} else {\\n  comm_status.event_buffer.unshift([event_name, data]);\\n  setTimeout(function() { process_events(comm_status); }, 50);\\n  comm_status.blocked = true;\\n  comm_status.time = Date.now()+50;\\n}\\n\"},\"id\":\"1050\",\"type\":\"CustomJS\"},{\"attributes\":{\"code\":\"\\nif (!window.PyViz) {\\n  return;\\n}\\nvar events = [];\\nvar receiver = window.PyViz.receivers['1036'];\\nif (receiver &&\\n        receiver._partial &&\\n        receiver._partial.content &&\\n        receiver._partial.content.events) {\\n    events = receiver._partial.content.events;\\n}\\n\\nvar value = cb_obj['value'];\\n\\n\\n\\nfor (var event of events) {\\n  if ((event.kind === 'ModelChanged') && (event.attr === 'value') &&\\n      (cb_obj.id === event.model.id) &&\\n      (JSON.stringify(value) === JSON.stringify(event.new))) {\\n    return;\\n  }\\n}\\n\\ndata = {value: value, 'id': cb_obj.id}; cb_obj.event_name = 'value';\\n\\nfunction unique_events(events) {\\n  // Processes the event queue ignoring duplicate events\\n  // of the same type\\n  var unique = [];\\n  var unique_events = [];\\n  for (var i=0; i<events.length; i++) {\\n    var _tmpevent = events[i];\\n    event = _tmpevent[0];\\n    data = _tmpevent[1];\\n    if (unique_events.indexOf(event)===-1) {\\n      unique.unshift(data);\\n      unique_events.push(event);\\n      }\\n  }\\n  return unique;\\n}\\n\\nfunction process_events(comm_status) {\\n  // Iterates over event queue and sends events via Comm\\n  var events = unique_events(comm_status.event_buffer);\\n  for (var i=0; i<events.length; i++) {\\n    var data = events[i];\\n    var comm = window.PyViz.comms[data[\\\"comm_id\\\"]];\\n    comm.send(data);\\n  }\\n  comm_status.event_buffer = [];\\n}\\n\\nfunction on_msg(msg) {\\n  // Receives acknowledgement from Python, processing event\\n  // and unblocking Comm if event queue empty\\n  var metadata = msg.metadata;\\n  var comm_id = metadata.comm_id\\n  var comm_status = window.PyViz.comm_status[comm_id];\\n  if (comm_status.event_buffer.length) {\\n    process_events(comm_status);\\n    comm_status.blocked = true;\\n    comm_status.time = Date.now()+50;\\n  } else {\\n    comm_status.blocked = false;\\n  }\\n  comm_status.event_buffer = [];\\n  if ((metadata.msg_type == \\\"Ready\\\") && metadata.content) {\\n    console.log(\\\"Python callback returned following output:\\\", metadata.content);\\n  } else if (metadata.msg_type == \\\"Error\\\") {\\n    console.log(\\\"Python failed with the following traceback:\\\", metadata.traceback)\\n  }\\n}\\n\\n// Initialize Comm\\nif ((window.PyViz == undefined) || (window.PyViz.comm_manager == undefined)) { return }\\nvar comm = window.PyViz.comm_manager.get_client_comm(\\\"1036\\\", \\\"245dcce800a7414cab89ad5fa08b9fe8\\\", on_msg);\\nif (!comm) {\\n  return\\n}\\n\\n// Initialize event queue and timeouts for Comm\\nvar comm_status = window.PyViz.comm_status[\\\"245dcce800a7414cab89ad5fa08b9fe8\\\"];\\nif (comm_status === undefined) {\\n  comm_status = {event_buffer: [], blocked: false, time: Date.now()}\\n  window.PyViz.comm_status[\\\"245dcce800a7414cab89ad5fa08b9fe8\\\"] = comm_status\\n}\\n\\n// Add current event to queue and process queue if not blocked\\nvar event_name = cb_obj.event_name;\\nif (event_name === undefined) {\\n  // we are a widget not an event... fake a key.\\n  event_name = Object.keys(data).join(',');\\n}\\ndata['comm_id'] = \\\"245dcce800a7414cab89ad5fa08b9fe8\\\";\\nvar timeout = comm_status.time + 20000;\\nif ((comm_status.blocked && (Date.now() < timeout))) {\\n  comm_status.event_buffer.unshift([event_name, data]);\\n} else {\\n  comm_status.event_buffer.unshift([event_name, data]);\\n  setTimeout(function() { process_events(comm_status); }, 50);\\n  comm_status.blocked = true;\\n  comm_status.time = Date.now()+50;\\n}\\n\"},\"id\":\"1042\",\"type\":\"CustomJS\"},{\"attributes\":{\"children\":[{\"id\":\"1038\",\"type\":\"Select\"}],\"margin\":[0,0,0,0],\"name\":\"Column01465\"},\"id\":\"1037\",\"type\":\"Column\"},{\"attributes\":{\"code\":\"\\nif (!window.PyViz) {\\n  return;\\n}\\nvar events = [];\\nvar receiver = window.PyViz.receivers['1036'];\\nif (receiver &&\\n        receiver._partial &&\\n        receiver._partial.content &&\\n        receiver._partial.content.events) {\\n    events = receiver._partial.content.events;\\n}\\n\\nvar value = cb_obj['clickannotation_data'];\\n\\n\\n\\nfor (var event of events) {\\n  if ((event.kind === 'ModelChanged') && (event.attr === 'clickannotation_data') &&\\n      (cb_obj.id === event.model.id) &&\\n      (JSON.stringify(value) === JSON.stringify(event.new))) {\\n    return;\\n  }\\n}\\n\\ndata = {clickannotation_data: value, 'id': cb_obj.id}; cb_obj.event_name = 'clickannotation_data';\\n\\nfunction unique_events(events) {\\n  // Processes the event queue ignoring duplicate events\\n  // of the same type\\n  var unique = [];\\n  var unique_events = [];\\n  for (var i=0; i<events.length; i++) {\\n    var _tmpevent = events[i];\\n    event = _tmpevent[0];\\n    data = _tmpevent[1];\\n    if (unique_events.indexOf(event)===-1) {\\n      unique.unshift(data);\\n      unique_events.push(event);\\n      }\\n  }\\n  return unique;\\n}\\n\\nfunction process_events(comm_status) {\\n  // Iterates over event queue and sends events via Comm\\n  var events = unique_events(comm_status.event_buffer);\\n  for (var i=0; i<events.length; i++) {\\n    var data = events[i];\\n    var comm = window.PyViz.comms[data[\\\"comm_id\\\"]];\\n    comm.send(data);\\n  }\\n  comm_status.event_buffer = [];\\n}\\n\\nfunction on_msg(msg) {\\n  // Receives acknowledgement from Python, processing event\\n  // and unblocking Comm if event queue empty\\n  var metadata = msg.metadata;\\n  var comm_id = metadata.comm_id\\n  var comm_status = window.PyViz.comm_status[comm_id];\\n  if (comm_status.event_buffer.length) {\\n    process_events(comm_status);\\n    comm_status.blocked = true;\\n    comm_status.time = Date.now()+50;\\n  } else {\\n    comm_status.blocked = false;\\n  }\\n  comm_status.event_buffer = [];\\n  if ((metadata.msg_type == \\\"Ready\\\") && metadata.content) {\\n    console.log(\\\"Python callback returned following output:\\\", metadata.content);\\n  } else if (metadata.msg_type == \\\"Error\\\") {\\n    console.log(\\\"Python failed with the following traceback:\\\", metadata.traceback)\\n  }\\n}\\n\\n// Initialize Comm\\nif ((window.PyViz == undefined) || (window.PyViz.comm_manager == undefined)) { return }\\nvar comm = window.PyViz.comm_manager.get_client_comm(\\\"1036\\\", \\\"4e8b2de99f394161993d37e4c5918eac\\\", on_msg);\\nif (!comm) {\\n  return\\n}\\n\\n// Initialize event queue and timeouts for Comm\\nvar comm_status = window.PyViz.comm_status[\\\"4e8b2de99f394161993d37e4c5918eac\\\"];\\nif (comm_status === undefined) {\\n  comm_status = {event_buffer: [], blocked: false, time: Date.now()}\\n  window.PyViz.comm_status[\\\"4e8b2de99f394161993d37e4c5918eac\\\"] = comm_status\\n}\\n\\n// Add current event to queue and process queue if not blocked\\nvar event_name = cb_obj.event_name;\\nif (event_name === undefined) {\\n  // we are a widget not an event... fake a key.\\n  event_name = Object.keys(data).join(',');\\n}\\ndata['comm_id'] = \\\"4e8b2de99f394161993d37e4c5918eac\\\";\\nvar timeout = comm_status.time + 20000;\\nif ((comm_status.blocked && (Date.now() < timeout))) {\\n  comm_status.event_buffer.unshift([event_name, data]);\\n} else {\\n  comm_status.event_buffer.unshift([event_name, data]);\\n  setTimeout(function() { process_events(comm_status); }, 50);\\n  comm_status.blocked = true;\\n  comm_status.time = Date.now()+50;\\n}\\n\"},\"id\":\"1051\",\"type\":\"CustomJS\"},{\"attributes\":{\"code\":\"\\nif (!window.PyViz) {\\n  return;\\n}\\nvar events = [];\\nvar receiver = window.PyViz.receivers['1036'];\\nif (receiver &&\\n        receiver._partial &&\\n        receiver._partial.content &&\\n        receiver._partial.content.events) {\\n    events = receiver._partial.content.events;\\n}\\n\\nvar value = cb_obj['relayout_data'];\\n\\n\\n\\nfor (var event of events) {\\n  if ((event.kind === 'ModelChanged') && (event.attr === 'relayout_data') &&\\n      (cb_obj.id === event.model.id) &&\\n      (JSON.stringify(value) === JSON.stringify(event.new))) {\\n    return;\\n  }\\n}\\n\\ndata = {relayout_data: value, 'id': cb_obj.id}; cb_obj.event_name = 'relayout_data';\\n\\nfunction unique_events(events) {\\n  // Processes the event queue ignoring duplicate events\\n  // of the same type\\n  var unique = [];\\n  var unique_events = [];\\n  for (var i=0; i<events.length; i++) {\\n    var _tmpevent = events[i];\\n    event = _tmpevent[0];\\n    data = _tmpevent[1];\\n    if (unique_events.indexOf(event)===-1) {\\n      unique.unshift(data);\\n      unique_events.push(event);\\n      }\\n  }\\n  return unique;\\n}\\n\\nfunction process_events(comm_status) {\\n  // Iterates over event queue and sends events via Comm\\n  var events = unique_events(comm_status.event_buffer);\\n  for (var i=0; i<events.length; i++) {\\n    var data = events[i];\\n    var comm = window.PyViz.comms[data[\\\"comm_id\\\"]];\\n    comm.send(data);\\n  }\\n  comm_status.event_buffer = [];\\n}\\n\\nfunction on_msg(msg) {\\n  // Receives acknowledgement from Python, processing event\\n  // and unblocking Comm if event queue empty\\n  var metadata = msg.metadata;\\n  var comm_id = metadata.comm_id\\n  var comm_status = window.PyViz.comm_status[comm_id];\\n  if (comm_status.event_buffer.length) {\\n    process_events(comm_status);\\n    comm_status.blocked = true;\\n    comm_status.time = Date.now()+50;\\n  } else {\\n    comm_status.blocked = false;\\n  }\\n  comm_status.event_buffer = [];\\n  if ((metadata.msg_type == \\\"Ready\\\") && metadata.content) {\\n    console.log(\\\"Python callback returned following output:\\\", metadata.content);\\n  } else if (metadata.msg_type == \\\"Error\\\") {\\n    console.log(\\\"Python failed with the following traceback:\\\", metadata.traceback)\\n  }\\n}\\n\\n// Initialize Comm\\nif ((window.PyViz == undefined) || (window.PyViz.comm_manager == undefined)) { return }\\nvar comm = window.PyViz.comm_manager.get_client_comm(\\\"1036\\\", \\\"4e8b2de99f394161993d37e4c5918eac\\\", on_msg);\\nif (!comm) {\\n  return\\n}\\n\\n// Initialize event queue and timeouts for Comm\\nvar comm_status = window.PyViz.comm_status[\\\"4e8b2de99f394161993d37e4c5918eac\\\"];\\nif (comm_status === undefined) {\\n  comm_status = {event_buffer: [], blocked: false, time: Date.now()}\\n  window.PyViz.comm_status[\\\"4e8b2de99f394161993d37e4c5918eac\\\"] = comm_status\\n}\\n\\n// Add current event to queue and process queue if not blocked\\nvar event_name = cb_obj.event_name;\\nif (event_name === undefined) {\\n  // we are a widget not an event... fake a key.\\n  event_name = Object.keys(data).join(',');\\n}\\ndata['comm_id'] = \\\"4e8b2de99f394161993d37e4c5918eac\\\";\\nvar timeout = comm_status.time + 20000;\\nif ((comm_status.blocked && (Date.now() < timeout))) {\\n  comm_status.event_buffer.unshift([event_name, data]);\\n} else {\\n  comm_status.event_buffer.unshift([event_name, data]);\\n  setTimeout(function() { process_events(comm_status); }, 50);\\n  comm_status.blocked = true;\\n  comm_status.time = Date.now()+50;\\n}\\n\"},\"id\":\"1047\",\"type\":\"CustomJS\"},{\"attributes\":{},\"id\":\"1057\",\"type\":\"UnionRenderers\"},{\"attributes\":{\"_render_count\":0,\"config\":null,\"data\":[{\"hovertemplate\":\"<b>%{hovertext}</b><br><br>sector=Total Stock Market<br>year=%{x}<br>jumpcount=%{marker.size}<extra></extra>\",\"legendgroup\":\"Total Stock Market\",\"marker\":{\"color\":\"#636efa\",\"sizemode\":\"area\",\"sizeref\":0.025833333333333333,\"symbol\":\"circle\"},\"mode\":\"markers\",\"name\":\"Total Stock Market\",\"orientation\":\"v\",\"showlegend\":true,\"type\":\"scatter\",\"xaxis\":\"x\",\"yaxis\":\"y\"}],\"data_sources\":[{\"id\":\"1044\",\"type\":\"ColumnDataSource\"}],\"js_property_callbacks\":{\"change:_render_count\":[{\"id\":\"1056\",\"type\":\"CustomJS\"}],\"change:click_data\":[{\"id\":\"1049\",\"type\":\"CustomJS\"}],\"change:clickannotation_data\":[{\"id\":\"1051\",\"type\":\"CustomJS\"}],\"change:config\":[{\"id\":\"1046\",\"type\":\"CustomJS\"}],\"change:hover_data\":[{\"id\":\"1050\",\"type\":\"CustomJS\"}],\"change:relayout_data\":[{\"id\":\"1047\",\"type\":\"CustomJS\"}],\"change:restyle_data\":[{\"id\":\"1048\",\"type\":\"CustomJS\"}],\"change:selected_data\":[{\"id\":\"1052\",\"type\":\"CustomJS\"}],\"change:viewport\":[{\"id\":\"1053\",\"type\":\"CustomJS\"}],\"change:viewport_update_policy\":[{\"id\":\"1054\",\"type\":\"CustomJS\"}],\"change:viewport_update_throttle\":[{\"id\":\"1055\",\"type\":\"CustomJS\"}]},\"layout\":{\"legend\":{\"itemsizing\":\"constant\",\"title\":{\"text\":\"sector\"},\"tracegroupgap\":0},\"margin\":{\"t\":60},\"template\":{\"data\":{\"bar\":[{\"error_x\":{\"color\":\"#2a3f5f\"},\"error_y\":{\"color\":\"#2a3f5f\"},\"marker\":{\"line\":{\"color\":\"#E5ECF6\",\"width\":0.5}},\"type\":\"bar\"}],\"barpolar\":[{\"marker\":{\"line\":{\"color\":\"#E5ECF6\",\"width\":0.5}},\"type\":\"barpolar\"}],\"carpet\":[{\"aaxis\":{\"endlinecolor\":\"#2a3f5f\",\"gridcolor\":\"white\",\"linecolor\":\"white\",\"minorgridcolor\":\"white\",\"startlinecolor\":\"#2a3f5f\"},\"baxis\":{\"endlinecolor\":\"#2a3f5f\",\"gridcolor\":\"white\",\"linecolor\":\"white\",\"minorgridcolor\":\"white\",\"startlinecolor\":\"#2a3f5f\"},\"type\":\"carpet\"}],\"choropleth\":[{\"colorbar\":{\"outlinewidth\":0,\"ticks\":\"\"},\"type\":\"choropleth\"}],\"contour\":[{\"colorbar\":{\"outlinewidth\":0,\"ticks\":\"\"},\"colorscale\":[[0.0,\"#0d0887\"],[0.1111111111111111,\"#46039f\"],[0.2222222222222222,\"#7201a8\"],[0.3333333333333333,\"#9c179e\"],[0.4444444444444444,\"#bd3786\"],[0.5555555555555556,\"#d8576b\"],[0.6666666666666666,\"#ed7953\"],[0.7777777777777778,\"#fb9f3a\"],[0.8888888888888888,\"#fdca26\"],[1.0,\"#f0f921\"]],\"type\":\"contour\"}],\"contourcarpet\":[{\"colorbar\":{\"outlinewidth\":0,\"ticks\":\"\"},\"type\":\"contourcarpet\"}],\"heatmap\":[{\"colorbar\":{\"outlinewidth\":0,\"ticks\":\"\"},\"colorscale\":[[0.0,\"#0d0887\"],[0.1111111111111111,\"#46039f\"],[0.2222222222222222,\"#7201a8\"],[0.3333333333333333,\"#9c179e\"],[0.4444444444444444,\"#bd3786\"],[0.5555555555555556,\"#d8576b\"],[0.6666666666666666,\"#ed7953\"],[0.7777777777777778,\"#fb9f3a\"],[0.8888888888888888,\"#fdca26\"],[1.0,\"#f0f921\"]],\"type\":\"heatmap\"}],\"heatmapgl\":[{\"colorbar\":{\"outlinewidth\":0,\"ticks\":\"\"},\"colorscale\":[[0.0,\"#0d0887\"],[0.1111111111111111,\"#46039f\"],[0.2222222222222222,\"#7201a8\"],[0.3333333333333333,\"#9c179e\"],[0.4444444444444444,\"#bd3786\"],[0.5555555555555556,\"#d8576b\"],[0.6666666666666666,\"#ed7953\"],[0.7777777777777778,\"#fb9f3a\"],[0.8888888888888888,\"#fdca26\"],[1.0,\"#f0f921\"]],\"type\":\"heatmapgl\"}],\"histogram\":[{\"marker\":{\"colorbar\":{\"outlinewidth\":0,\"ticks\":\"\"}},\"type\":\"histogram\"}],\"histogram2d\":[{\"colorbar\":{\"outlinewidth\":0,\"ticks\":\"\"},\"colorscale\":[[0.0,\"#0d0887\"],[0.1111111111111111,\"#46039f\"],[0.2222222222222222,\"#7201a8\"],[0.3333333333333333,\"#9c179e\"],[0.4444444444444444,\"#bd3786\"],[0.5555555555555556,\"#d8576b\"],[0.6666666666666666,\"#ed7953\"],[0.7777777777777778,\"#fb9f3a\"],[0.8888888888888888,\"#fdca26\"],[1.0,\"#f0f921\"]],\"type\":\"histogram2d\"}],\"histogram2dcontour\":[{\"colorbar\":{\"outlinewidth\":0,\"ticks\":\"\"},\"colorscale\":[[0.0,\"#0d0887\"],[0.1111111111111111,\"#46039f\"],[0.2222222222222222,\"#7201a8\"],[0.3333333333333333,\"#9c179e\"],[0.4444444444444444,\"#bd3786\"],[0.5555555555555556,\"#d8576b\"],[0.6666666666666666,\"#ed7953\"],[0.7777777777777778,\"#fb9f3a\"],[0.8888888888888888,\"#fdca26\"],[1.0,\"#f0f921\"]],\"type\":\"histogram2dcontour\"}],\"mesh3d\":[{\"colorbar\":{\"outlinewidth\":0,\"ticks\":\"\"},\"type\":\"mesh3d\"}],\"parcoords\":[{\"line\":{\"colorbar\":{\"outlinewidth\":0,\"ticks\":\"\"}},\"type\":\"parcoords\"}],\"pie\":[{\"automargin\":true,\"type\":\"pie\"}],\"scatter\":[{\"marker\":{\"colorbar\":{\"outlinewidth\":0,\"ticks\":\"\"}},\"type\":\"scatter\"}],\"scatter3d\":[{\"line\":{\"colorbar\":{\"outlinewidth\":0,\"ticks\":\"\"}},\"marker\":{\"colorbar\":{\"outlinewidth\":0,\"ticks\":\"\"}},\"type\":\"scatter3d\"}],\"scattercarpet\":[{\"marker\":{\"colorbar\":{\"outlinewidth\":0,\"ticks\":\"\"}},\"type\":\"scattercarpet\"}],\"scattergeo\":[{\"marker\":{\"colorbar\":{\"outlinewidth\":0,\"ticks\":\"\"}},\"type\":\"scattergeo\"}],\"scattergl\":[{\"marker\":{\"colorbar\":{\"outlinewidth\":0,\"ticks\":\"\"}},\"type\":\"scattergl\"}],\"scattermapbox\":[{\"marker\":{\"colorbar\":{\"outlinewidth\":0,\"ticks\":\"\"}},\"type\":\"scattermapbox\"}],\"scatterpolar\":[{\"marker\":{\"colorbar\":{\"outlinewidth\":0,\"ticks\":\"\"}},\"type\":\"scatterpolar\"}],\"scatterpolargl\":[{\"marker\":{\"colorbar\":{\"outlinewidth\":0,\"ticks\":\"\"}},\"type\":\"scatterpolargl\"}],\"scatterternary\":[{\"marker\":{\"colorbar\":{\"outlinewidth\":0,\"ticks\":\"\"}},\"type\":\"scatterternary\"}],\"surface\":[{\"colorbar\":{\"outlinewidth\":0,\"ticks\":\"\"},\"colorscale\":[[0.0,\"#0d0887\"],[0.1111111111111111,\"#46039f\"],[0.2222222222222222,\"#7201a8\"],[0.3333333333333333,\"#9c179e\"],[0.4444444444444444,\"#bd3786\"],[0.5555555555555556,\"#d8576b\"],[0.6666666666666666,\"#ed7953\"],[0.7777777777777778,\"#fb9f3a\"],[0.8888888888888888,\"#fdca26\"],[1.0,\"#f0f921\"]],\"type\":\"surface\"}],\"table\":[{\"cells\":{\"fill\":{\"color\":\"#EBF0F8\"},\"line\":{\"color\":\"white\"}},\"header\":{\"fill\":{\"color\":\"#C8D4E3\"},\"line\":{\"color\":\"white\"}},\"type\":\"table\"}]},\"layout\":{\"annotationdefaults\":{\"arrowcolor\":\"#2a3f5f\",\"arrowhead\":0,\"arrowwidth\":1},\"coloraxis\":{\"colorbar\":{\"outlinewidth\":0,\"ticks\":\"\"}},\"colorscale\":{\"diverging\":[[0,\"#8e0152\"],[0.1,\"#c51b7d\"],[0.2,\"#de77ae\"],[0.3,\"#f1b6da\"],[0.4,\"#fde0ef\"],[0.5,\"#f7f7f7\"],[0.6,\"#e6f5d0\"],[0.7,\"#b8e186\"],[0.8,\"#7fbc41\"],[0.9,\"#4d9221\"],[1,\"#276419\"]],\"sequential\":[[0.0,\"#0d0887\"],[0.1111111111111111,\"#46039f\"],[0.2222222222222222,\"#7201a8\"],[0.3333333333333333,\"#9c179e\"],[0.4444444444444444,\"#bd3786\"],[0.5555555555555556,\"#d8576b\"],[0.6666666666666666,\"#ed7953\"],[0.7777777777777778,\"#fb9f3a\"],[0.8888888888888888,\"#fdca26\"],[1.0,\"#f0f921\"]],\"sequentialminus\":[[0.0,\"#0d0887\"],[0.1111111111111111,\"#46039f\"],[0.2222222222222222,\"#7201a8\"],[0.3333333333333333,\"#9c179e\"],[0.4444444444444444,\"#bd3786\"],[0.5555555555555556,\"#d8576b\"],[0.6666666666666666,\"#ed7953\"],[0.7777777777777778,\"#fb9f3a\"],[0.8888888888888888,\"#fdca26\"],[1.0,\"#f0f921\"]]},\"colorway\":[\"#636efa\",\"#EF553B\",\"#00cc96\",\"#ab63fa\",\"#FFA15A\",\"#19d3f3\",\"#FF6692\",\"#B6E880\",\"#FF97FF\",\"#FECB52\"],\"font\":{\"color\":\"#2a3f5f\"},\"geo\":{\"bgcolor\":\"white\",\"lakecolor\":\"white\",\"landcolor\":\"#E5ECF6\",\"showlakes\":true,\"showland\":true,\"subunitcolor\":\"white\"},\"hoverlabel\":{\"align\":\"left\"},\"hovermode\":\"closest\",\"mapbox\":{\"style\":\"light\"},\"paper_bgcolor\":\"white\",\"plot_bgcolor\":\"#E5ECF6\",\"polar\":{\"angularaxis\":{\"gridcolor\":\"white\",\"linecolor\":\"white\",\"ticks\":\"\"},\"bgcolor\":\"#E5ECF6\",\"radialaxis\":{\"gridcolor\":\"white\",\"linecolor\":\"white\",\"ticks\":\"\"}},\"scene\":{\"xaxis\":{\"backgroundcolor\":\"#E5ECF6\",\"gridcolor\":\"white\",\"gridwidth\":2,\"linecolor\":\"white\",\"showbackground\":true,\"ticks\":\"\",\"zerolinecolor\":\"white\"},\"yaxis\":{\"backgroundcolor\":\"#E5ECF6\",\"gridcolor\":\"white\",\"gridwidth\":2,\"linecolor\":\"white\",\"showbackground\":true,\"ticks\":\"\",\"zerolinecolor\":\"white\"},\"zaxis\":{\"backgroundcolor\":\"#E5ECF6\",\"gridcolor\":\"white\",\"gridwidth\":2,\"linecolor\":\"white\",\"showbackground\":true,\"ticks\":\"\",\"zerolinecolor\":\"white\"}},\"shapedefaults\":{\"line\":{\"color\":\"#2a3f5f\"}},\"ternary\":{\"aaxis\":{\"gridcolor\":\"white\",\"linecolor\":\"white\",\"ticks\":\"\"},\"baxis\":{\"gridcolor\":\"white\",\"linecolor\":\"white\",\"ticks\":\"\"},\"bgcolor\":\"#E5ECF6\",\"caxis\":{\"gridcolor\":\"white\",\"linecolor\":\"white\",\"ticks\":\"\"}},\"title\":{\"x\":0.05},\"xaxis\":{\"automargin\":true,\"gridcolor\":\"white\",\"linecolor\":\"white\",\"ticks\":\"\",\"title\":{\"standoff\":15},\"zerolinecolor\":\"white\",\"zerolinewidth\":2},\"yaxis\":{\"automargin\":true,\"gridcolor\":\"white\",\"linecolor\":\"white\",\"ticks\":\"\",\"title\":{\"standoff\":15},\"zerolinecolor\":\"white\",\"zerolinewidth\":2}}},\"xaxis\":{\"anchor\":\"y\",\"domain\":[0.0,1.0],\"title\":{\"text\":\"year\"},\"type\":\"log\"},\"yaxis\":{\"anchor\":\"x\",\"domain\":[0.0,1.0],\"title\":{\"text\":\"jumpcount\"}}},\"margin\":[5,5,5,5],\"name\":\"interactive01459\",\"viewport_update_throttle\":200},\"id\":\"1045\",\"type\":\"panel.models.plotly.PlotlyPlot\"},{\"attributes\":{\"code\":\"\\nif (!window.PyViz) {\\n  return;\\n}\\nvar events = [];\\nvar receiver = window.PyViz.receivers['1036'];\\nif (receiver &&\\n        receiver._partial &&\\n        receiver._partial.content &&\\n        receiver._partial.content.events) {\\n    events = receiver._partial.content.events;\\n}\\n\\nvar value = cb_obj['selected_data'];\\n\\n\\n\\nfor (var event of events) {\\n  if ((event.kind === 'ModelChanged') && (event.attr === 'selected_data') &&\\n      (cb_obj.id === event.model.id) &&\\n      (JSON.stringify(value) === JSON.stringify(event.new))) {\\n    return;\\n  }\\n}\\n\\ndata = {selected_data: value, 'id': cb_obj.id}; cb_obj.event_name = 'selected_data';\\n\\nfunction unique_events(events) {\\n  // Processes the event queue ignoring duplicate events\\n  // of the same type\\n  var unique = [];\\n  var unique_events = [];\\n  for (var i=0; i<events.length; i++) {\\n    var _tmpevent = events[i];\\n    event = _tmpevent[0];\\n    data = _tmpevent[1];\\n    if (unique_events.indexOf(event)===-1) {\\n      unique.unshift(data);\\n      unique_events.push(event);\\n      }\\n  }\\n  return unique;\\n}\\n\\nfunction process_events(comm_status) {\\n  // Iterates over event queue and sends events via Comm\\n  var events = unique_events(comm_status.event_buffer);\\n  for (var i=0; i<events.length; i++) {\\n    var data = events[i];\\n    var comm = window.PyViz.comms[data[\\\"comm_id\\\"]];\\n    comm.send(data);\\n  }\\n  comm_status.event_buffer = [];\\n}\\n\\nfunction on_msg(msg) {\\n  // Receives acknowledgement from Python, processing event\\n  // and unblocking Comm if event queue empty\\n  var metadata = msg.metadata;\\n  var comm_id = metadata.comm_id\\n  var comm_status = window.PyViz.comm_status[comm_id];\\n  if (comm_status.event_buffer.length) {\\n    process_events(comm_status);\\n    comm_status.blocked = true;\\n    comm_status.time = Date.now()+50;\\n  } else {\\n    comm_status.blocked = false;\\n  }\\n  comm_status.event_buffer = [];\\n  if ((metadata.msg_type == \\\"Ready\\\") && metadata.content) {\\n    console.log(\\\"Python callback returned following output:\\\", metadata.content);\\n  } else if (metadata.msg_type == \\\"Error\\\") {\\n    console.log(\\\"Python failed with the following traceback:\\\", metadata.traceback)\\n  }\\n}\\n\\n// Initialize Comm\\nif ((window.PyViz == undefined) || (window.PyViz.comm_manager == undefined)) { return }\\nvar comm = window.PyViz.comm_manager.get_client_comm(\\\"1036\\\", \\\"4e8b2de99f394161993d37e4c5918eac\\\", on_msg);\\nif (!comm) {\\n  return\\n}\\n\\n// Initialize event queue and timeouts for Comm\\nvar comm_status = window.PyViz.comm_status[\\\"4e8b2de99f394161993d37e4c5918eac\\\"];\\nif (comm_status === undefined) {\\n  comm_status = {event_buffer: [], blocked: false, time: Date.now()}\\n  window.PyViz.comm_status[\\\"4e8b2de99f394161993d37e4c5918eac\\\"] = comm_status\\n}\\n\\n// Add current event to queue and process queue if not blocked\\nvar event_name = cb_obj.event_name;\\nif (event_name === undefined) {\\n  // we are a widget not an event... fake a key.\\n  event_name = Object.keys(data).join(',');\\n}\\ndata['comm_id'] = \\\"4e8b2de99f394161993d37e4c5918eac\\\";\\nvar timeout = comm_status.time + 20000;\\nif ((comm_status.blocked && (Date.now() < timeout))) {\\n  comm_status.event_buffer.unshift([event_name, data]);\\n} else {\\n  comm_status.event_buffer.unshift([event_name, data]);\\n  setTimeout(function() { process_events(comm_status); }, 50);\\n  comm_status.blocked = true;\\n  comm_status.time = Date.now()+50;\\n}\\n\"},\"id\":\"1052\",\"type\":\"CustomJS\"},{\"attributes\":{\"code\":\"\\nif (!window.PyViz) {\\n  return;\\n}\\nvar events = [];\\nvar receiver = window.PyViz.receivers['1036'];\\nif (receiver &&\\n        receiver._partial &&\\n        receiver._partial.content &&\\n        receiver._partial.content.events) {\\n    events = receiver._partial.content.events;\\n}\\n\\nvar value = cb_obj['title'];\\n\\n\\n\\nfor (var event of events) {\\n  if ((event.kind === 'ModelChanged') && (event.attr === 'title') &&\\n      (cb_obj.id === event.model.id) &&\\n      (JSON.stringify(value) === JSON.stringify(event.new))) {\\n    return;\\n  }\\n}\\n\\ndata = {title: value, 'id': cb_obj.id}; cb_obj.event_name = 'title';\\n\\nfunction unique_events(events) {\\n  // Processes the event queue ignoring duplicate events\\n  // of the same type\\n  var unique = [];\\n  var unique_events = [];\\n  for (var i=0; i<events.length; i++) {\\n    var _tmpevent = events[i];\\n    event = _tmpevent[0];\\n    data = _tmpevent[1];\\n    if (unique_events.indexOf(event)===-1) {\\n      unique.unshift(data);\\n      unique_events.push(event);\\n      }\\n  }\\n  return unique;\\n}\\n\\nfunction process_events(comm_status) {\\n  // Iterates over event queue and sends events via Comm\\n  var events = unique_events(comm_status.event_buffer);\\n  for (var i=0; i<events.length; i++) {\\n    var data = events[i];\\n    var comm = window.PyViz.comms[data[\\\"comm_id\\\"]];\\n    comm.send(data);\\n  }\\n  comm_status.event_buffer = [];\\n}\\n\\nfunction on_msg(msg) {\\n  // Receives acknowledgement from Python, processing event\\n  // and unblocking Comm if event queue empty\\n  var metadata = msg.metadata;\\n  var comm_id = metadata.comm_id\\n  var comm_status = window.PyViz.comm_status[comm_id];\\n  if (comm_status.event_buffer.length) {\\n    process_events(comm_status);\\n    comm_status.blocked = true;\\n    comm_status.time = Date.now()+50;\\n  } else {\\n    comm_status.blocked = false;\\n  }\\n  comm_status.event_buffer = [];\\n  if ((metadata.msg_type == \\\"Ready\\\") && metadata.content) {\\n    console.log(\\\"Python callback returned following output:\\\", metadata.content);\\n  } else if (metadata.msg_type == \\\"Error\\\") {\\n    console.log(\\\"Python failed with the following traceback:\\\", metadata.traceback)\\n  }\\n}\\n\\n// Initialize Comm\\nif ((window.PyViz == undefined) || (window.PyViz.comm_manager == undefined)) { return }\\nvar comm = window.PyViz.comm_manager.get_client_comm(\\\"1036\\\", \\\"245dcce800a7414cab89ad5fa08b9fe8\\\", on_msg);\\nif (!comm) {\\n  return\\n}\\n\\n// Initialize event queue and timeouts for Comm\\nvar comm_status = window.PyViz.comm_status[\\\"245dcce800a7414cab89ad5fa08b9fe8\\\"];\\nif (comm_status === undefined) {\\n  comm_status = {event_buffer: [], blocked: false, time: Date.now()}\\n  window.PyViz.comm_status[\\\"245dcce800a7414cab89ad5fa08b9fe8\\\"] = comm_status\\n}\\n\\n// Add current event to queue and process queue if not blocked\\nvar event_name = cb_obj.event_name;\\nif (event_name === undefined) {\\n  // we are a widget not an event... fake a key.\\n  event_name = Object.keys(data).join(',');\\n}\\ndata['comm_id'] = \\\"245dcce800a7414cab89ad5fa08b9fe8\\\";\\nvar timeout = comm_status.time + 20000;\\nif ((comm_status.blocked && (Date.now() < timeout))) {\\n  comm_status.event_buffer.unshift([event_name, data]);\\n} else {\\n  comm_status.event_buffer.unshift([event_name, data]);\\n  setTimeout(function() { process_events(comm_status); }, 50);\\n  comm_status.blocked = true;\\n  comm_status.time = Date.now()+50;\\n}\\n\"},\"id\":\"1040\",\"type\":\"CustomJS\"},{\"attributes\":{},\"id\":\"1058\",\"type\":\"Selection\"},{\"attributes\":{\"children\":[{\"id\":\"1037\",\"type\":\"Column\"},{\"id\":\"1043\",\"type\":\"Row\"}],\"margin\":[0,0,0,0],\"name\":\"Column01460\"},\"id\":\"1036\",\"type\":\"Column\"},{\"attributes\":{\"code\":\"\\nif (!window.PyViz) {\\n  return;\\n}\\nvar events = [];\\nvar receiver = window.PyViz.receivers['1036'];\\nif (receiver &&\\n        receiver._partial &&\\n        receiver._partial.content &&\\n        receiver._partial.content.events) {\\n    events = receiver._partial.content.events;\\n}\\n\\nvar value = cb_obj['config'];\\n\\n\\n\\nfor (var event of events) {\\n  if ((event.kind === 'ModelChanged') && (event.attr === 'config') &&\\n      (cb_obj.id === event.model.id) &&\\n      (JSON.stringify(value) === JSON.stringify(event.new))) {\\n    return;\\n  }\\n}\\n\\ndata = {config: value, 'id': cb_obj.id}; cb_obj.event_name = 'config';\\n\\nfunction unique_events(events) {\\n  // Processes the event queue ignoring duplicate events\\n  // of the same type\\n  var unique = [];\\n  var unique_events = [];\\n  for (var i=0; i<events.length; i++) {\\n    var _tmpevent = events[i];\\n    event = _tmpevent[0];\\n    data = _tmpevent[1];\\n    if (unique_events.indexOf(event)===-1) {\\n      unique.unshift(data);\\n      unique_events.push(event);\\n      }\\n  }\\n  return unique;\\n}\\n\\nfunction process_events(comm_status) {\\n  // Iterates over event queue and sends events via Comm\\n  var events = unique_events(comm_status.event_buffer);\\n  for (var i=0; i<events.length; i++) {\\n    var data = events[i];\\n    var comm = window.PyViz.comms[data[\\\"comm_id\\\"]];\\n    comm.send(data);\\n  }\\n  comm_status.event_buffer = [];\\n}\\n\\nfunction on_msg(msg) {\\n  // Receives acknowledgement from Python, processing event\\n  // and unblocking Comm if event queue empty\\n  var metadata = msg.metadata;\\n  var comm_id = metadata.comm_id\\n  var comm_status = window.PyViz.comm_status[comm_id];\\n  if (comm_status.event_buffer.length) {\\n    process_events(comm_status);\\n    comm_status.blocked = true;\\n    comm_status.time = Date.now()+50;\\n  } else {\\n    comm_status.blocked = false;\\n  }\\n  comm_status.event_buffer = [];\\n  if ((metadata.msg_type == \\\"Ready\\\") && metadata.content) {\\n    console.log(\\\"Python callback returned following output:\\\", metadata.content);\\n  } else if (metadata.msg_type == \\\"Error\\\") {\\n    console.log(\\\"Python failed with the following traceback:\\\", metadata.traceback)\\n  }\\n}\\n\\n// Initialize Comm\\nif ((window.PyViz == undefined) || (window.PyViz.comm_manager == undefined)) { return }\\nvar comm = window.PyViz.comm_manager.get_client_comm(\\\"1036\\\", \\\"4e8b2de99f394161993d37e4c5918eac\\\", on_msg);\\nif (!comm) {\\n  return\\n}\\n\\n// Initialize event queue and timeouts for Comm\\nvar comm_status = window.PyViz.comm_status[\\\"4e8b2de99f394161993d37e4c5918eac\\\"];\\nif (comm_status === undefined) {\\n  comm_status = {event_buffer: [], blocked: false, time: Date.now()}\\n  window.PyViz.comm_status[\\\"4e8b2de99f394161993d37e4c5918eac\\\"] = comm_status\\n}\\n\\n// Add current event to queue and process queue if not blocked\\nvar event_name = cb_obj.event_name;\\nif (event_name === undefined) {\\n  // we are a widget not an event... fake a key.\\n  event_name = Object.keys(data).join(',');\\n}\\ndata['comm_id'] = \\\"4e8b2de99f394161993d37e4c5918eac\\\";\\nvar timeout = comm_status.time + 20000;\\nif ((comm_status.blocked && (Date.now() < timeout))) {\\n  comm_status.event_buffer.unshift([event_name, data]);\\n} else {\\n  comm_status.event_buffer.unshift([event_name, data]);\\n  setTimeout(function() { process_events(comm_status); }, 50);\\n  comm_status.blocked = true;\\n  comm_status.time = Date.now()+50;\\n}\\n\"},\"id\":\"1046\",\"type\":\"CustomJS\"},{\"attributes\":{\"code\":\"\\nif (!window.PyViz) {\\n  return;\\n}\\nvar events = [];\\nvar receiver = window.PyViz.receivers['1036'];\\nif (receiver &&\\n        receiver._partial &&\\n        receiver._partial.content &&\\n        receiver._partial.content.events) {\\n    events = receiver._partial.content.events;\\n}\\n\\nvar value = cb_obj['viewport'];\\n\\n\\n\\nfor (var event of events) {\\n  if ((event.kind === 'ModelChanged') && (event.attr === 'viewport') &&\\n      (cb_obj.id === event.model.id) &&\\n      (JSON.stringify(value) === JSON.stringify(event.new))) {\\n    return;\\n  }\\n}\\n\\ndata = {viewport: value, 'id': cb_obj.id}; cb_obj.event_name = 'viewport';\\n\\nfunction unique_events(events) {\\n  // Processes the event queue ignoring duplicate events\\n  // of the same type\\n  var unique = [];\\n  var unique_events = [];\\n  for (var i=0; i<events.length; i++) {\\n    var _tmpevent = events[i];\\n    event = _tmpevent[0];\\n    data = _tmpevent[1];\\n    if (unique_events.indexOf(event)===-1) {\\n      unique.unshift(data);\\n      unique_events.push(event);\\n      }\\n  }\\n  return unique;\\n}\\n\\nfunction process_events(comm_status) {\\n  // Iterates over event queue and sends events via Comm\\n  var events = unique_events(comm_status.event_buffer);\\n  for (var i=0; i<events.length; i++) {\\n    var data = events[i];\\n    var comm = window.PyViz.comms[data[\\\"comm_id\\\"]];\\n    comm.send(data);\\n  }\\n  comm_status.event_buffer = [];\\n}\\n\\nfunction on_msg(msg) {\\n  // Receives acknowledgement from Python, processing event\\n  // and unblocking Comm if event queue empty\\n  var metadata = msg.metadata;\\n  var comm_id = metadata.comm_id\\n  var comm_status = window.PyViz.comm_status[comm_id];\\n  if (comm_status.event_buffer.length) {\\n    process_events(comm_status);\\n    comm_status.blocked = true;\\n    comm_status.time = Date.now()+50;\\n  } else {\\n    comm_status.blocked = false;\\n  }\\n  comm_status.event_buffer = [];\\n  if ((metadata.msg_type == \\\"Ready\\\") && metadata.content) {\\n    console.log(\\\"Python callback returned following output:\\\", metadata.content);\\n  } else if (metadata.msg_type == \\\"Error\\\") {\\n    console.log(\\\"Python failed with the following traceback:\\\", metadata.traceback)\\n  }\\n}\\n\\n// Initialize Comm\\nif ((window.PyViz == undefined) || (window.PyViz.comm_manager == undefined)) { return }\\nvar comm = window.PyViz.comm_manager.get_client_comm(\\\"1036\\\", \\\"4e8b2de99f394161993d37e4c5918eac\\\", on_msg);\\nif (!comm) {\\n  return\\n}\\n\\n// Initialize event queue and timeouts for Comm\\nvar comm_status = window.PyViz.comm_status[\\\"4e8b2de99f394161993d37e4c5918eac\\\"];\\nif (comm_status === undefined) {\\n  comm_status = {event_buffer: [], blocked: false, time: Date.now()}\\n  window.PyViz.comm_status[\\\"4e8b2de99f394161993d37e4c5918eac\\\"] = comm_status\\n}\\n\\n// Add current event to queue and process queue if not blocked\\nvar event_name = cb_obj.event_name;\\nif (event_name === undefined) {\\n  // we are a widget not an event... fake a key.\\n  event_name = Object.keys(data).join(',');\\n}\\ndata['comm_id'] = \\\"4e8b2de99f394161993d37e4c5918eac\\\";\\nvar timeout = comm_status.time + 20000;\\nif ((comm_status.blocked && (Date.now() < timeout))) {\\n  comm_status.event_buffer.unshift([event_name, data]);\\n} else {\\n  comm_status.event_buffer.unshift([event_name, data]);\\n  setTimeout(function() { process_events(comm_status); }, 50);\\n  comm_status.blocked = true;\\n  comm_status.time = Date.now()+50;\\n}\\n\"},\"id\":\"1053\",\"type\":\"CustomJS\"},{\"attributes\":{\"callback\":null,\"data\":{\"hovertext\":[[\"Total Stock Market\",\"Total Stock Market\",\"Total Stock Market\",\"Total Stock Market\",\"Total Stock Market\",\"Total Stock Market\",\"Total Stock Market\",\"Total Stock Market\",\"Total Stock Market\",\"Total Stock Market\",\"Total Stock Market\",\"Total Stock Market\",\"Total Stock Market\",\"Total Stock Market\",\"Total Stock Market\",\"Total Stock Market\",\"Total Stock Market\",\"Total Stock Market\",\"Total Stock Market\",\"Total Stock Market\",\"Total Stock Market\"]],\"marker.size\":[[0,78,93,47,21,12,6,3,48,23,15,24,8,19,33,39,45,9,23,11,30]],\"x\":[[2000,2001,2002,2003,2004,2005,2006,2007,2008,2009,2010,2011,2012,2013,2014,2015,2016,2017,2018,2019,2020]],\"y\":[[0,78,93,47,21,12,6,3,48,23,15,24,8,19,33,39,45,9,23,11,30]]},\"selected\":{\"id\":\"1058\",\"type\":\"Selection\"},\"selection_policy\":{\"id\":\"1057\",\"type\":\"UnionRenderers\"}},\"id\":\"1044\",\"type\":\"ColumnDataSource\"},{\"attributes\":{\"code\":\"\\nif (!window.PyViz) {\\n  return;\\n}\\nvar events = [];\\nvar receiver = window.PyViz.receivers['1036'];\\nif (receiver &&\\n        receiver._partial &&\\n        receiver._partial.content &&\\n        receiver._partial.content.events) {\\n    events = receiver._partial.content.events;\\n}\\n\\nvar value = cb_obj['disabled'];\\n\\n\\n\\nfor (var event of events) {\\n  if ((event.kind === 'ModelChanged') && (event.attr === 'disabled') &&\\n      (cb_obj.id === event.model.id) &&\\n      (JSON.stringify(value) === JSON.stringify(event.new))) {\\n    return;\\n  }\\n}\\n\\ndata = {disabled: value, 'id': cb_obj.id}; cb_obj.event_name = 'disabled';\\n\\nfunction unique_events(events) {\\n  // Processes the event queue ignoring duplicate events\\n  // of the same type\\n  var unique = [];\\n  var unique_events = [];\\n  for (var i=0; i<events.length; i++) {\\n    var _tmpevent = events[i];\\n    event = _tmpevent[0];\\n    data = _tmpevent[1];\\n    if (unique_events.indexOf(event)===-1) {\\n      unique.unshift(data);\\n      unique_events.push(event);\\n      }\\n  }\\n  return unique;\\n}\\n\\nfunction process_events(comm_status) {\\n  // Iterates over event queue and sends events via Comm\\n  var events = unique_events(comm_status.event_buffer);\\n  for (var i=0; i<events.length; i++) {\\n    var data = events[i];\\n    var comm = window.PyViz.comms[data[\\\"comm_id\\\"]];\\n    comm.send(data);\\n  }\\n  comm_status.event_buffer = [];\\n}\\n\\nfunction on_msg(msg) {\\n  // Receives acknowledgement from Python, processing event\\n  // and unblocking Comm if event queue empty\\n  var metadata = msg.metadata;\\n  var comm_id = metadata.comm_id\\n  var comm_status = window.PyViz.comm_status[comm_id];\\n  if (comm_status.event_buffer.length) {\\n    process_events(comm_status);\\n    comm_status.blocked = true;\\n    comm_status.time = Date.now()+50;\\n  } else {\\n    comm_status.blocked = false;\\n  }\\n  comm_status.event_buffer = [];\\n  if ((metadata.msg_type == \\\"Ready\\\") && metadata.content) {\\n    console.log(\\\"Python callback returned following output:\\\", metadata.content);\\n  } else if (metadata.msg_type == \\\"Error\\\") {\\n    console.log(\\\"Python failed with the following traceback:\\\", metadata.traceback)\\n  }\\n}\\n\\n// Initialize Comm\\nif ((window.PyViz == undefined) || (window.PyViz.comm_manager == undefined)) { return }\\nvar comm = window.PyViz.comm_manager.get_client_comm(\\\"1036\\\", \\\"245dcce800a7414cab89ad5fa08b9fe8\\\", on_msg);\\nif (!comm) {\\n  return\\n}\\n\\n// Initialize event queue and timeouts for Comm\\nvar comm_status = window.PyViz.comm_status[\\\"245dcce800a7414cab89ad5fa08b9fe8\\\"];\\nif (comm_status === undefined) {\\n  comm_status = {event_buffer: [], blocked: false, time: Date.now()}\\n  window.PyViz.comm_status[\\\"245dcce800a7414cab89ad5fa08b9fe8\\\"] = comm_status\\n}\\n\\n// Add current event to queue and process queue if not blocked\\nvar event_name = cb_obj.event_name;\\nif (event_name === undefined) {\\n  // we are a widget not an event... fake a key.\\n  event_name = Object.keys(data).join(',');\\n}\\ndata['comm_id'] = \\\"245dcce800a7414cab89ad5fa08b9fe8\\\";\\nvar timeout = comm_status.time + 20000;\\nif ((comm_status.blocked && (Date.now() < timeout))) {\\n  comm_status.event_buffer.unshift([event_name, data]);\\n} else {\\n  comm_status.event_buffer.unshift([event_name, data]);\\n  setTimeout(function() { process_events(comm_status); }, 50);\\n  comm_status.blocked = true;\\n  comm_status.time = Date.now()+50;\\n}\\n\"},\"id\":\"1039\",\"type\":\"CustomJS\"},{\"attributes\":{\"code\":\"\\nif (!window.PyViz) {\\n  return;\\n}\\nvar events = [];\\nvar receiver = window.PyViz.receivers['1036'];\\nif (receiver &&\\n        receiver._partial &&\\n        receiver._partial.content &&\\n        receiver._partial.content.events) {\\n    events = receiver._partial.content.events;\\n}\\n\\nvar value = cb_obj['viewport_update_policy'];\\n\\n\\n\\nfor (var event of events) {\\n  if ((event.kind === 'ModelChanged') && (event.attr === 'viewport_update_policy') &&\\n      (cb_obj.id === event.model.id) &&\\n      (JSON.stringify(value) === JSON.stringify(event.new))) {\\n    return;\\n  }\\n}\\n\\ndata = {viewport_update_policy: value, 'id': cb_obj.id}; cb_obj.event_name = 'viewport_update_policy';\\n\\nfunction unique_events(events) {\\n  // Processes the event queue ignoring duplicate events\\n  // of the same type\\n  var unique = [];\\n  var unique_events = [];\\n  for (var i=0; i<events.length; i++) {\\n    var _tmpevent = events[i];\\n    event = _tmpevent[0];\\n    data = _tmpevent[1];\\n    if (unique_events.indexOf(event)===-1) {\\n      unique.unshift(data);\\n      unique_events.push(event);\\n      }\\n  }\\n  return unique;\\n}\\n\\nfunction process_events(comm_status) {\\n  // Iterates over event queue and sends events via Comm\\n  var events = unique_events(comm_status.event_buffer);\\n  for (var i=0; i<events.length; i++) {\\n    var data = events[i];\\n    var comm = window.PyViz.comms[data[\\\"comm_id\\\"]];\\n    comm.send(data);\\n  }\\n  comm_status.event_buffer = [];\\n}\\n\\nfunction on_msg(msg) {\\n  // Receives acknowledgement from Python, processing event\\n  // and unblocking Comm if event queue empty\\n  var metadata = msg.metadata;\\n  var comm_id = metadata.comm_id\\n  var comm_status = window.PyViz.comm_status[comm_id];\\n  if (comm_status.event_buffer.length) {\\n    process_events(comm_status);\\n    comm_status.blocked = true;\\n    comm_status.time = Date.now()+50;\\n  } else {\\n    comm_status.blocked = false;\\n  }\\n  comm_status.event_buffer = [];\\n  if ((metadata.msg_type == \\\"Ready\\\") && metadata.content) {\\n    console.log(\\\"Python callback returned following output:\\\", metadata.content);\\n  } else if (metadata.msg_type == \\\"Error\\\") {\\n    console.log(\\\"Python failed with the following traceback:\\\", metadata.traceback)\\n  }\\n}\\n\\n// Initialize Comm\\nif ((window.PyViz == undefined) || (window.PyViz.comm_manager == undefined)) { return }\\nvar comm = window.PyViz.comm_manager.get_client_comm(\\\"1036\\\", \\\"4e8b2de99f394161993d37e4c5918eac\\\", on_msg);\\nif (!comm) {\\n  return\\n}\\n\\n// Initialize event queue and timeouts for Comm\\nvar comm_status = window.PyViz.comm_status[\\\"4e8b2de99f394161993d37e4c5918eac\\\"];\\nif (comm_status === undefined) {\\n  comm_status = {event_buffer: [], blocked: false, time: Date.now()}\\n  window.PyViz.comm_status[\\\"4e8b2de99f394161993d37e4c5918eac\\\"] = comm_status\\n}\\n\\n// Add current event to queue and process queue if not blocked\\nvar event_name = cb_obj.event_name;\\nif (event_name === undefined) {\\n  // we are a widget not an event... fake a key.\\n  event_name = Object.keys(data).join(',');\\n}\\ndata['comm_id'] = \\\"4e8b2de99f394161993d37e4c5918eac\\\";\\nvar timeout = comm_status.time + 20000;\\nif ((comm_status.blocked && (Date.now() < timeout))) {\\n  comm_status.event_buffer.unshift([event_name, data]);\\n} else {\\n  comm_status.event_buffer.unshift([event_name, data]);\\n  setTimeout(function() { process_events(comm_status); }, 50);\\n  comm_status.blocked = true;\\n  comm_status.time = Date.now()+50;\\n}\\n\"},\"id\":\"1054\",\"type\":\"CustomJS\"},{\"attributes\":{\"code\":\"\\nif (!window.PyViz) {\\n  return;\\n}\\nvar events = [];\\nvar receiver = window.PyViz.receivers['1036'];\\nif (receiver &&\\n        receiver._partial &&\\n        receiver._partial.content &&\\n        receiver._partial.content.events) {\\n    events = receiver._partial.content.events;\\n}\\n\\nvar value = cb_obj['viewport_update_throttle'];\\n\\n\\n\\nfor (var event of events) {\\n  if ((event.kind === 'ModelChanged') && (event.attr === 'viewport_update_throttle') &&\\n      (cb_obj.id === event.model.id) &&\\n      (JSON.stringify(value) === JSON.stringify(event.new))) {\\n    return;\\n  }\\n}\\n\\ndata = {viewport_update_throttle: value, 'id': cb_obj.id}; cb_obj.event_name = 'viewport_update_throttle';\\n\\nfunction unique_events(events) {\\n  // Processes the event queue ignoring duplicate events\\n  // of the same type\\n  var unique = [];\\n  var unique_events = [];\\n  for (var i=0; i<events.length; i++) {\\n    var _tmpevent = events[i];\\n    event = _tmpevent[0];\\n    data = _tmpevent[1];\\n    if (unique_events.indexOf(event)===-1) {\\n      unique.unshift(data);\\n      unique_events.push(event);\\n      }\\n  }\\n  return unique;\\n}\\n\\nfunction process_events(comm_status) {\\n  // Iterates over event queue and sends events via Comm\\n  var events = unique_events(comm_status.event_buffer);\\n  for (var i=0; i<events.length; i++) {\\n    var data = events[i];\\n    var comm = window.PyViz.comms[data[\\\"comm_id\\\"]];\\n    comm.send(data);\\n  }\\n  comm_status.event_buffer = [];\\n}\\n\\nfunction on_msg(msg) {\\n  // Receives acknowledgement from Python, processing event\\n  // and unblocking Comm if event queue empty\\n  var metadata = msg.metadata;\\n  var comm_id = metadata.comm_id\\n  var comm_status = window.PyViz.comm_status[comm_id];\\n  if (comm_status.event_buffer.length) {\\n    process_events(comm_status);\\n    comm_status.blocked = true;\\n    comm_status.time = Date.now()+50;\\n  } else {\\n    comm_status.blocked = false;\\n  }\\n  comm_status.event_buffer = [];\\n  if ((metadata.msg_type == \\\"Ready\\\") && metadata.content) {\\n    console.log(\\\"Python callback returned following output:\\\", metadata.content);\\n  } else if (metadata.msg_type == \\\"Error\\\") {\\n    console.log(\\\"Python failed with the following traceback:\\\", metadata.traceback)\\n  }\\n}\\n\\n// Initialize Comm\\nif ((window.PyViz == undefined) || (window.PyViz.comm_manager == undefined)) { return }\\nvar comm = window.PyViz.comm_manager.get_client_comm(\\\"1036\\\", \\\"4e8b2de99f394161993d37e4c5918eac\\\", on_msg);\\nif (!comm) {\\n  return\\n}\\n\\n// Initialize event queue and timeouts for Comm\\nvar comm_status = window.PyViz.comm_status[\\\"4e8b2de99f394161993d37e4c5918eac\\\"];\\nif (comm_status === undefined) {\\n  comm_status = {event_buffer: [], blocked: false, time: Date.now()}\\n  window.PyViz.comm_status[\\\"4e8b2de99f394161993d37e4c5918eac\\\"] = comm_status\\n}\\n\\n// Add current event to queue and process queue if not blocked\\nvar event_name = cb_obj.event_name;\\nif (event_name === undefined) {\\n  // we are a widget not an event... fake a key.\\n  event_name = Object.keys(data).join(',');\\n}\\ndata['comm_id'] = \\\"4e8b2de99f394161993d37e4c5918eac\\\";\\nvar timeout = comm_status.time + 20000;\\nif ((comm_status.blocked && (Date.now() < timeout))) {\\n  comm_status.event_buffer.unshift([event_name, data]);\\n} else {\\n  comm_status.event_buffer.unshift([event_name, data]);\\n  setTimeout(function() { process_events(comm_status); }, 50);\\n  comm_status.blocked = true;\\n  comm_status.time = Date.now()+50;\\n}\\n\"},\"id\":\"1055\",\"type\":\"CustomJS\"},{\"attributes\":{\"code\":\"\\nif (!window.PyViz) {\\n  return;\\n}\\nvar events = [];\\nvar receiver = window.PyViz.receivers['1036'];\\nif (receiver &&\\n        receiver._partial &&\\n        receiver._partial.content &&\\n        receiver._partial.content.events) {\\n    events = receiver._partial.content.events;\\n}\\n\\nvar value = cb_obj['restyle_data'];\\n\\n\\n\\nfor (var event of events) {\\n  if ((event.kind === 'ModelChanged') && (event.attr === 'restyle_data') &&\\n      (cb_obj.id === event.model.id) &&\\n      (JSON.stringify(value) === JSON.stringify(event.new))) {\\n    return;\\n  }\\n}\\n\\ndata = {restyle_data: value, 'id': cb_obj.id}; cb_obj.event_name = 'restyle_data';\\n\\nfunction unique_events(events) {\\n  // Processes the event queue ignoring duplicate events\\n  // of the same type\\n  var unique = [];\\n  var unique_events = [];\\n  for (var i=0; i<events.length; i++) {\\n    var _tmpevent = events[i];\\n    event = _tmpevent[0];\\n    data = _tmpevent[1];\\n    if (unique_events.indexOf(event)===-1) {\\n      unique.unshift(data);\\n      unique_events.push(event);\\n      }\\n  }\\n  return unique;\\n}\\n\\nfunction process_events(comm_status) {\\n  // Iterates over event queue and sends events via Comm\\n  var events = unique_events(comm_status.event_buffer);\\n  for (var i=0; i<events.length; i++) {\\n    var data = events[i];\\n    var comm = window.PyViz.comms[data[\\\"comm_id\\\"]];\\n    comm.send(data);\\n  }\\n  comm_status.event_buffer = [];\\n}\\n\\nfunction on_msg(msg) {\\n  // Receives acknowledgement from Python, processing event\\n  // and unblocking Comm if event queue empty\\n  var metadata = msg.metadata;\\n  var comm_id = metadata.comm_id\\n  var comm_status = window.PyViz.comm_status[comm_id];\\n  if (comm_status.event_buffer.length) {\\n    process_events(comm_status);\\n    comm_status.blocked = true;\\n    comm_status.time = Date.now()+50;\\n  } else {\\n    comm_status.blocked = false;\\n  }\\n  comm_status.event_buffer = [];\\n  if ((metadata.msg_type == \\\"Ready\\\") && metadata.content) {\\n    console.log(\\\"Python callback returned following output:\\\", metadata.content);\\n  } else if (metadata.msg_type == \\\"Error\\\") {\\n    console.log(\\\"Python failed with the following traceback:\\\", metadata.traceback)\\n  }\\n}\\n\\n// Initialize Comm\\nif ((window.PyViz == undefined) || (window.PyViz.comm_manager == undefined)) { return }\\nvar comm = window.PyViz.comm_manager.get_client_comm(\\\"1036\\\", \\\"4e8b2de99f394161993d37e4c5918eac\\\", on_msg);\\nif (!comm) {\\n  return\\n}\\n\\n// Initialize event queue and timeouts for Comm\\nvar comm_status = window.PyViz.comm_status[\\\"4e8b2de99f394161993d37e4c5918eac\\\"];\\nif (comm_status === undefined) {\\n  comm_status = {event_buffer: [], blocked: false, time: Date.now()}\\n  window.PyViz.comm_status[\\\"4e8b2de99f394161993d37e4c5918eac\\\"] = comm_status\\n}\\n\\n// Add current event to queue and process queue if not blocked\\nvar event_name = cb_obj.event_name;\\nif (event_name === undefined) {\\n  // we are a widget not an event... fake a key.\\n  event_name = Object.keys(data).join(',');\\n}\\ndata['comm_id'] = \\\"4e8b2de99f394161993d37e4c5918eac\\\";\\nvar timeout = comm_status.time + 20000;\\nif ((comm_status.blocked && (Date.now() < timeout))) {\\n  comm_status.event_buffer.unshift([event_name, data]);\\n} else {\\n  comm_status.event_buffer.unshift([event_name, data]);\\n  setTimeout(function() { process_events(comm_status); }, 50);\\n  comm_status.blocked = true;\\n  comm_status.time = Date.now()+50;\\n}\\n\"},\"id\":\"1048\",\"type\":\"CustomJS\"},{\"attributes\":{\"callback\":null,\"js_property_callbacks\":{\"change:disabled\":[{\"id\":\"1039\",\"type\":\"CustomJS\"}],\"change:options\":[{\"id\":\"1041\",\"type\":\"CustomJS\"}],\"change:title\":[{\"id\":\"1040\",\"type\":\"CustomJS\"}],\"change:value\":[{\"id\":\"1042\",\"type\":\"CustomJS\"}]},\"margin\":[5,10,5,10],\"options\":[\"Total Stock Market\",\"Communications\",\"Materials\",\"Consumer Discretionary\",\"Consumer Staples\",\"Energy\",\"Financials\",\"Health Care\",\"Industrial\",\"Technology\",\"Real Estate\",\"Utilities\",\"BioTech\",\"Defense\",\"Semiconductor\",\"Home Construction\",\"Total Stock Market\",\"Communications\",\"Materials\",\"Consumer Discretionary\",\"Consumer Staples\",\"Energy\",\"Financials\",\"Health Care\",\"Industrial\",\"Technology\",\"Real Estate\",\"Utilities\",\"BioTech\",\"Defense\",\"Semiconductor\",\"Home Construction\",\"Total Stock Market\",\"Communications\",\"Materials\",\"Consumer Discretionary\",\"Consumer Staples\",\"Energy\",\"Financials\",\"Health Care\",\"Industrial\",\"Technology\",\"Real Estate\",\"Utilities\",\"BioTech\",\"Defense\",\"Semiconductor\",\"Home Construction\",\"Total Stock Market\",\"Communications\",\"Materials\",\"Consumer Discretionary\",\"Consumer Staples\",\"Energy\",\"Financials\",\"Health Care\",\"Industrial\",\"Technology\",\"Real Estate\",\"Utilities\",\"BioTech\",\"Defense\",\"Semiconductor\",\"Home Construction\",\"Total Stock Market\",\"Communications\",\"Materials\",\"Consumer Discretionary\",\"Consumer Staples\",\"Energy\",\"Financials\",\"Health Care\",\"Industrial\",\"Technology\",\"Real Estate\",\"Utilities\",\"BioTech\",\"Defense\",\"Semiconductor\",\"Home Construction\",\"Total Stock Market\",\"Communications\",\"Materials\",\"Consumer Discretionary\",\"Consumer Staples\",\"Energy\",\"Financials\",\"Health Care\",\"Industrial\",\"Technology\",\"Real Estate\",\"Utilities\",\"BioTech\",\"Defense\",\"Semiconductor\",\"Home Construction\",\"Total Stock Market\",\"Communications\",\"Materials\",\"Consumer Discretionary\",\"Consumer Staples\",\"Energy\",\"Financials\",\"Health Care\",\"Industrial\",\"Technology\",\"Real Estate\",\"Utilities\",\"BioTech\",\"Defense\",\"Semiconductor\",\"Home Construction\",\"Total Stock Market\",\"Communications\",\"Materials\",\"Consumer Discretionary\",\"Consumer Staples\",\"Energy\",\"Financials\",\"Health Care\",\"Industrial\",\"Technology\",\"Real Estate\",\"Utilities\",\"BioTech\",\"Defense\",\"Semiconductor\",\"Home Construction\",\"Total Stock Market\",\"Communications\",\"Materials\",\"Consumer Discretionary\",\"Consumer Staples\",\"Energy\",\"Financials\",\"Health Care\",\"Industrial\",\"Technology\",\"Real Estate\",\"Utilities\",\"BioTech\",\"Defense\",\"Semiconductor\",\"Home Construction\",\"Total Stock Market\",\"Communications\",\"Materials\",\"Consumer Discretionary\",\"Consumer Staples\",\"Energy\",\"Financials\",\"Health Care\",\"Industrial\",\"Technology\",\"Real Estate\",\"Utilities\",\"BioTech\",\"Defense\",\"Semiconductor\",\"Home Construction\",\"Total Stock Market\",\"Communications\",\"Materials\",\"Consumer Discretionary\",\"Consumer Staples\",\"Energy\",\"Financials\",\"Health Care\",\"Industrial\",\"Technology\",\"Real Estate\",\"Utilities\",\"BioTech\",\"Defense\",\"Semiconductor\",\"Home Construction\",\"Total Stock Market\",\"Communications\",\"Materials\",\"Consumer Discretionary\",\"Consumer Staples\",\"Energy\",\"Financials\",\"Health Care\",\"Industrial\",\"Technology\",\"Real Estate\",\"Utilities\",\"BioTech\",\"Defense\",\"Semiconductor\",\"Home Construction\",\"Total Stock Market\",\"Communications\",\"Materials\",\"Consumer Discretionary\",\"Consumer Staples\",\"Energy\",\"Financials\",\"Health Care\",\"Industrial\",\"Technology\",\"Real Estate\",\"Utilities\",\"BioTech\",\"Defense\",\"Semiconductor\",\"Home Construction\",\"Total Stock Market\",\"Communications\",\"Materials\",\"Consumer Discretionary\",\"Consumer Staples\",\"Energy\",\"Financials\",\"Health Care\",\"Industrial\",\"Technology\",\"Real Estate\",\"Utilities\",\"BioTech\",\"Defense\",\"Semiconductor\",\"Home Construction\",\"Total Stock Market\",\"Communications\",\"Materials\",\"Consumer Discretionary\",\"Consumer Staples\",\"Energy\",\"Financials\",\"Health Care\",\"Industrial\",\"Technology\",\"Real Estate\",\"Utilities\",\"BioTech\",\"Defense\",\"Semiconductor\",\"Home Construction\",\"Total Stock Market\",\"Communications\",\"Materials\",\"Consumer Discretionary\",\"Consumer Staples\",\"Energy\",\"Financials\",\"Health Care\",\"Industrial\",\"Technology\",\"Real Estate\",\"Utilities\",\"BioTech\",\"Defense\",\"Semiconductor\",\"Home Construction\",\"Total Stock Market\",\"Communications\",\"Materials\",\"Consumer Discretionary\",\"Consumer Staples\",\"Energy\",\"Financials\",\"Health Care\",\"Industrial\",\"Technology\",\"Real Estate\",\"Utilities\",\"BioTech\",\"Defense\",\"Semiconductor\",\"Home Construction\",\"Total Stock Market\",\"Communications\",\"Materials\",\"Consumer Discretionary\",\"Consumer Staples\",\"Energy\",\"Financials\",\"Health Care\",\"Industrial\",\"Technology\",\"Real Estate\",\"Utilities\",\"BioTech\",\"Defense\",\"Semiconductor\",\"Home Construction\",\"Total Stock Market\",\"Communications\",\"Materials\",\"Consumer Discretionary\",\"Consumer Staples\",\"Energy\",\"Financials\",\"Health Care\",\"Industrial\",\"Technology\",\"Real Estate\",\"Utilities\",\"BioTech\",\"Defense\",\"Semiconductor\",\"Home Construction\",\"Total Stock Market\",\"Communications\",\"Materials\",\"Consumer Discretionary\",\"Consumer Staples\",\"Energy\",\"Financials\",\"Health Care\",\"Industrial\",\"Technology\",\"Real Estate\",\"Utilities\",\"BioTech\",\"Defense\",\"Semiconductor\",\"Home Construction\",\"Total Stock Market\",\"Communications\",\"Materials\",\"Consumer Discretionary\",\"Consumer Staples\",\"Energy\",\"Financials\",\"Health Care\",\"Industrial\",\"Technology\",\"Real Estate\",\"Utilities\",\"BioTech\",\"Defense\",\"Semiconductor\",\"Home Construction\"],\"title\":\"sector\",\"value\":\"Total Stock Market\"},\"id\":\"1038\",\"type\":\"Select\"},{\"attributes\":{\"code\":\"\\nif (!window.PyViz) {\\n  return;\\n}\\nvar events = [];\\nvar receiver = window.PyViz.receivers['1036'];\\nif (receiver &&\\n        receiver._partial &&\\n        receiver._partial.content &&\\n        receiver._partial.content.events) {\\n    events = receiver._partial.content.events;\\n}\\n\\nvar value = cb_obj['_render_count'];\\n\\n\\n\\nfor (var event of events) {\\n  if ((event.kind === 'ModelChanged') && (event.attr === '_render_count') &&\\n      (cb_obj.id === event.model.id) &&\\n      (JSON.stringify(value) === JSON.stringify(event.new))) {\\n    return;\\n  }\\n}\\n\\ndata = {_render_count: value, 'id': cb_obj.id}; cb_obj.event_name = '_render_count';\\n\\nfunction unique_events(events) {\\n  // Processes the event queue ignoring duplicate events\\n  // of the same type\\n  var unique = [];\\n  var unique_events = [];\\n  for (var i=0; i<events.length; i++) {\\n    var _tmpevent = events[i];\\n    event = _tmpevent[0];\\n    data = _tmpevent[1];\\n    if (unique_events.indexOf(event)===-1) {\\n      unique.unshift(data);\\n      unique_events.push(event);\\n      }\\n  }\\n  return unique;\\n}\\n\\nfunction process_events(comm_status) {\\n  // Iterates over event queue and sends events via Comm\\n  var events = unique_events(comm_status.event_buffer);\\n  for (var i=0; i<events.length; i++) {\\n    var data = events[i];\\n    var comm = window.PyViz.comms[data[\\\"comm_id\\\"]];\\n    comm.send(data);\\n  }\\n  comm_status.event_buffer = [];\\n}\\n\\nfunction on_msg(msg) {\\n  // Receives acknowledgement from Python, processing event\\n  // and unblocking Comm if event queue empty\\n  var metadata = msg.metadata;\\n  var comm_id = metadata.comm_id\\n  var comm_status = window.PyViz.comm_status[comm_id];\\n  if (comm_status.event_buffer.length) {\\n    process_events(comm_status);\\n    comm_status.blocked = true;\\n    comm_status.time = Date.now()+50;\\n  } else {\\n    comm_status.blocked = false;\\n  }\\n  comm_status.event_buffer = [];\\n  if ((metadata.msg_type == \\\"Ready\\\") && metadata.content) {\\n    console.log(\\\"Python callback returned following output:\\\", metadata.content);\\n  } else if (metadata.msg_type == \\\"Error\\\") {\\n    console.log(\\\"Python failed with the following traceback:\\\", metadata.traceback)\\n  }\\n}\\n\\n// Initialize Comm\\nif ((window.PyViz == undefined) || (window.PyViz.comm_manager == undefined)) { return }\\nvar comm = window.PyViz.comm_manager.get_client_comm(\\\"1036\\\", \\\"4e8b2de99f394161993d37e4c5918eac\\\", on_msg);\\nif (!comm) {\\n  return\\n}\\n\\n// Initialize event queue and timeouts for Comm\\nvar comm_status = window.PyViz.comm_status[\\\"4e8b2de99f394161993d37e4c5918eac\\\"];\\nif (comm_status === undefined) {\\n  comm_status = {event_buffer: [], blocked: false, time: Date.now()}\\n  window.PyViz.comm_status[\\\"4e8b2de99f394161993d37e4c5918eac\\\"] = comm_status\\n}\\n\\n// Add current event to queue and process queue if not blocked\\nvar event_name = cb_obj.event_name;\\nif (event_name === undefined) {\\n  // we are a widget not an event... fake a key.\\n  event_name = Object.keys(data).join(',');\\n}\\ndata['comm_id'] = \\\"4e8b2de99f394161993d37e4c5918eac\\\";\\nvar timeout = comm_status.time + 20000;\\nif ((comm_status.blocked && (Date.now() < timeout))) {\\n  comm_status.event_buffer.unshift([event_name, data]);\\n} else {\\n  comm_status.event_buffer.unshift([event_name, data]);\\n  setTimeout(function() { process_events(comm_status); }, 50);\\n  comm_status.blocked = true;\\n  comm_status.time = Date.now()+50;\\n}\\n\"},\"id\":\"1056\",\"type\":\"CustomJS\"},{\"attributes\":{\"code\":\"\\nif (!window.PyViz) {\\n  return;\\n}\\nvar events = [];\\nvar receiver = window.PyViz.receivers['1036'];\\nif (receiver &&\\n        receiver._partial &&\\n        receiver._partial.content &&\\n        receiver._partial.content.events) {\\n    events = receiver._partial.content.events;\\n}\\n\\nvar value = cb_obj['click_data'];\\n\\n\\n\\nfor (var event of events) {\\n  if ((event.kind === 'ModelChanged') && (event.attr === 'click_data') &&\\n      (cb_obj.id === event.model.id) &&\\n      (JSON.stringify(value) === JSON.stringify(event.new))) {\\n    return;\\n  }\\n}\\n\\ndata = {click_data: value, 'id': cb_obj.id}; cb_obj.event_name = 'click_data';\\n\\nfunction unique_events(events) {\\n  // Processes the event queue ignoring duplicate events\\n  // of the same type\\n  var unique = [];\\n  var unique_events = [];\\n  for (var i=0; i<events.length; i++) {\\n    var _tmpevent = events[i];\\n    event = _tmpevent[0];\\n    data = _tmpevent[1];\\n    if (unique_events.indexOf(event)===-1) {\\n      unique.unshift(data);\\n      unique_events.push(event);\\n      }\\n  }\\n  return unique;\\n}\\n\\nfunction process_events(comm_status) {\\n  // Iterates over event queue and sends events via Comm\\n  var events = unique_events(comm_status.event_buffer);\\n  for (var i=0; i<events.length; i++) {\\n    var data = events[i];\\n    var comm = window.PyViz.comms[data[\\\"comm_id\\\"]];\\n    comm.send(data);\\n  }\\n  comm_status.event_buffer = [];\\n}\\n\\nfunction on_msg(msg) {\\n  // Receives acknowledgement from Python, processing event\\n  // and unblocking Comm if event queue empty\\n  var metadata = msg.metadata;\\n  var comm_id = metadata.comm_id\\n  var comm_status = window.PyViz.comm_status[comm_id];\\n  if (comm_status.event_buffer.length) {\\n    process_events(comm_status);\\n    comm_status.blocked = true;\\n    comm_status.time = Date.now()+50;\\n  } else {\\n    comm_status.blocked = false;\\n  }\\n  comm_status.event_buffer = [];\\n  if ((metadata.msg_type == \\\"Ready\\\") && metadata.content) {\\n    console.log(\\\"Python callback returned following output:\\\", metadata.content);\\n  } else if (metadata.msg_type == \\\"Error\\\") {\\n    console.log(\\\"Python failed with the following traceback:\\\", metadata.traceback)\\n  }\\n}\\n\\n// Initialize Comm\\nif ((window.PyViz == undefined) || (window.PyViz.comm_manager == undefined)) { return }\\nvar comm = window.PyViz.comm_manager.get_client_comm(\\\"1036\\\", \\\"4e8b2de99f394161993d37e4c5918eac\\\", on_msg);\\nif (!comm) {\\n  return\\n}\\n\\n// Initialize event queue and timeouts for Comm\\nvar comm_status = window.PyViz.comm_status[\\\"4e8b2de99f394161993d37e4c5918eac\\\"];\\nif (comm_status === undefined) {\\n  comm_status = {event_buffer: [], blocked: false, time: Date.now()}\\n  window.PyViz.comm_status[\\\"4e8b2de99f394161993d37e4c5918eac\\\"] = comm_status\\n}\\n\\n// Add current event to queue and process queue if not blocked\\nvar event_name = cb_obj.event_name;\\nif (event_name === undefined) {\\n  // we are a widget not an event... fake a key.\\n  event_name = Object.keys(data).join(',');\\n}\\ndata['comm_id'] = \\\"4e8b2de99f394161993d37e4c5918eac\\\";\\nvar timeout = comm_status.time + 20000;\\nif ((comm_status.blocked && (Date.now() < timeout))) {\\n  comm_status.event_buffer.unshift([event_name, data]);\\n} else {\\n  comm_status.event_buffer.unshift([event_name, data]);\\n  setTimeout(function() { process_events(comm_status); }, 50);\\n  comm_status.blocked = true;\\n  comm_status.time = Date.now()+50;\\n}\\n\"},\"id\":\"1049\",\"type\":\"CustomJS\"}],\"root_ids\":[\"1036\"]},\"title\":\"Bokeh Application\",\"version\":\"1.4.0\"}};\n",
       "  var render_items = [{\"docid\":\"6621e4c7-c6b7-47e0-8eb2-37674e3dc664\",\"roots\":{\"1036\":\"267502ba-b148-4713-9d76-c018781ef602\"}}];\n",
       "  root.Bokeh.embed.embed_items_notebook(docs_json, render_items);\n",
       "  }\n",
       "if (root.Bokeh !== undefined) {\n",
       "    embed_document(root);\n",
       "  } else {\n",
       "    var attempts = 0;\n",
       "    var timer = setInterval(function(root) {\n",
       "      if (root.Bokeh !== undefined) {\n",
       "        clearInterval(timer);\n",
       "        embed_document(root);\n",
       "      } else if (document.readyState == \"complete\") {\n",
       "        attempts++;\n",
       "        if (attempts > 100) {\n",
       "          clearInterval(timer);\n",
       "          console.log(\"Bokeh: ERROR: Unable to run BokehJS code because BokehJS library is missing\");\n",
       "        }\n",
       "      }\n",
       "    }, 10, root)\n",
       "  }\n",
       "})(window);</script>"
      ],
      "text/plain": [
       "Column\n",
       "    [0] Column\n",
       "        [0] Select(name='sector', options=['Total Stock Market', ...], value='Total Stock Market')\n",
       "    [1] Row\n",
       "        [0] Plotly(Figure, name='interactive01459')"
      ]
     },
     "execution_count": 50,
     "metadata": {
      "application/vnd.holoviews_exec.v0+json": {
       "id": "1036"
      }
     },
     "output_type": "execute_result"
    }
   ],
   "source": [
    "interact(plot_sector_jumps_totals_by_sector, sector=df_sector_jumps_totals[\"sector\"])"
   ]
  },
  {
   "cell_type": "code",
   "execution_count": null,
   "metadata": {},
   "outputs": [],
   "source": []
  }
 ],
 "metadata": {
  "kernelspec": {
   "display_name": "Python 3",
   "language": "python",
   "name": "python3"
  },
  "language_info": {
   "codemirror_mode": {
    "name": "ipython",
    "version": 3
   },
   "file_extension": ".py",
   "mimetype": "text/x-python",
   "name": "python",
   "nbconvert_exporter": "python",
   "pygments_lexer": "ipython3",
   "version": "3.7.6"
  }
 },
 "nbformat": 4,
 "nbformat_minor": 4
}
