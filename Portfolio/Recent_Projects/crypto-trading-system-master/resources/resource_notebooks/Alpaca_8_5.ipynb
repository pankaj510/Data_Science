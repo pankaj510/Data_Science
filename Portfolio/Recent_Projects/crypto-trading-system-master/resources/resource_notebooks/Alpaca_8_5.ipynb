{
  "nbformat": 4,
  "nbformat_minor": 0,
  "metadata": {
    "kernel_info": {
      "name": "python3"
    },
    "kernelspec": {
      "display_name": "Python 3",
      "language": "python",
      "name": "python3"
    },
    "language_info": {
      "codemirror_mode": {
        "name": "ipython",
        "version": 3
      },
      "file_extension": ".py",
      "mimetype": "text/x-python",
      "name": "python",
      "nbconvert_exporter": "python",
      "pygments_lexer": "ipython3",
      "version": "3.7.6"
    },
    "nteract": {
      "version": "0.12.3"
    },
    "colab": {
      "name": "Alpaca_8_5.ipynb",
      "provenance": [],
      "collapsed_sections": []
    },
    "accelerator": "GPU"
  },
  "cells": [
    {
      "cell_type": "markdown",
      "metadata": {
        "id": "FP0iahaClC9q",
        "colab_type": "text"
      },
      "source": [
        "### Consistency Check Alpaca\n",
        "\n",
        "\n"
      ]
    },
    {
      "cell_type": "code",
      "metadata": {
        "id": "m89_v85AlC9t",
        "colab_type": "code",
        "colab": {
          "base_uri": "https://localhost:8080/",
          "height": 256
        },
        "outputId": "76fc093b-9ca7-4cf2-e04d-d48615cee51d",
        "tags": []
      },
      "source": [
        "# Import libraries and dependencies\n",
        "!pip install alpaca-trade-api\n",
        "import numpy as np\n",
        "import pandas as pd\n",
        "#import os\n",
        "import matplotlib.pyplot as plt\n",
        "import alpaca_trade_api as tradeapi\n",
        "from sklearn.ensemble import RandomForestClassifier\n",
        "from sklearn.datasets import make_classification\n",
        "from joblib import dump, load\n",
        "%matplotlib inline"
      ],
      "execution_count": 1,
      "outputs": [
        {
          "output_type": "stream",
          "name": "stdout",
          "text": "Requirement already satisfied: alpaca-trade-api in c:\\users\\metin\\anaconda3\\lib\\site-packages (0.46)\nCollecting urllib3<1.25\n  Using cached urllib3-1.24.3-py2.py3-none-any.whl (118 kB)\nRequirement already satisfied: requests in c:\\users\\metin\\anaconda3\\lib\\site-packages (from alpaca-trade-api) (2.22.0)\nRequirement already satisfied: websockets>=8.0 in c:\\users\\metin\\anaconda3\\lib\\site-packages (from alpaca-trade-api) (8.1)\nRequirement already satisfied: asyncio-nats-client in c:\\users\\metin\\anaconda3\\lib\\site-packages (from alpaca-trade-api) (0.10.0)\nRequirement already satisfied: pandas in c:\\users\\metin\\anaconda3\\lib\\site-packages (from alpaca-trade-api) (0.24.2)\nRequirement already satisfied: alpha-vantage in c:\\users\\metin\\anaconda3\\lib\\site-packages (from alpaca-trade-api) (2.2.0)\nRequirement already satisfied: websocket-client in c:\\users\\metin\\anaconda3\\lib\\site-packages (from alpaca-trade-api) (0.48.0)\nRequirement already satisfied: deprecated in c:\\users\\metin\\anaconda3\\lib\\site-packages (from alpaca-trade-api) (1.2.9)\nRequirement already satisfied: certifi>=2017.4.17 in c:\\users\\metin\\anaconda3\\lib\\site-packages (from requests->alpaca-trade-api) (2020.6.20)\nRequirement already satisfied: idna<2.9,>=2.5 in c:\\users\\metin\\anaconda3\\lib\\site-packages (from requests->alpaca-trade-api) (2.8)\nRequirement already satisfied: chardet<3.1.0,>=3.0.2 in c:\\users\\metin\\anaconda3\\lib\\site-packages (from requests->alpaca-trade-api) (3.0.4)\nRequirement already satisfied: pytz>=2011k in c:\\users\\metin\\anaconda3\\lib\\site-packages (from pandas->alpaca-trade-api) (2019.3)\nRequirement already satisfied: python-dateutil>=2.5.0 in c:\\users\\metin\\anaconda3\\lib\\site-packages (from pandas->alpaca-trade-api) (2.8.1)\nRequirement already satisfied: numpy>=1.12.0 in c:\\users\\metin\\anaconda3\\lib\\site-packages (from pandas->alpaca-trade-api) (1.18.1)\nRequirement already satisfied: aiohttp in c:\\users\\metin\\anaconda3\\lib\\site-packages (from alpha-vantage->alpaca-trade-api) (3.6.2)\nRequirement already satisfied: six in c:\\users\\metin\\anaconda3\\lib\\site-packages (from websocket-client->alpaca-trade-api) (1.14.0)\nRequirement already satisfied: wrapt<2,>=1.10 in c:\\users\\metin\\anaconda3\\lib\\site-packages (from deprecated->alpaca-trade-api) (1.11.2)\nRequirement already satisfied: yarl<2.0,>=1.0 in c:\\users\\metin\\anaconda3\\lib\\site-packages (from aiohttp->alpha-vantage->alpaca-trade-api) (1.1.0)\nRequirement already satisfied: async-timeout<4.0,>=3.0 in c:\\users\\metin\\anaconda3\\lib\\site-packages (from aiohttp->alpha-vantage->alpaca-trade-api) (3.0.1)\nRequirement already satisfied: attrs>=17.3.0 in c:\\users\\metin\\anaconda3\\lib\\site-packages (from aiohttp->alpha-vantage->alpaca-trade-api) (19.3.0)\nRequirement already satisfied: multidict<5.0,>=4.5 in c:\\users\\metin\\anaconda3\\lib\\site-packages (from aiohttp->alpha-vantage->alpaca-trade-api) (4.7.5)\nInstalling collected packages: urllib3\n  Attempting uninstall: urllib3\n    Found existing installation: urllib3 1.25.9\n    Uninstalling urllib3-1.25.9:\n      Successfully uninstalled urllib3-1.25.9\nSuccessfully installed urllib3-1.24.3\nERROR: holoviz 0.11.3 has requirement matplotlib==3.0.3, but you'll have matplotlib 3.1.3 which is incompatible.\nERROR: botocore 1.17.7 has requirement docutils<0.16,>=0.10, but you'll have docutils 0.16 which is incompatible.\n"
        }
      ]
    },
    {
      "cell_type": "code",
      "metadata": {
        "id": "V8YrHdXylC-C",
        "colab_type": "code",
        "colab": {}
      },
      "source": [
        "# Load .nv enviroment variables\n",
        "#from dotenv import load_dotenv\n",
        "#load_dotenv()\n",
        "\n",
        "# Set Alpaca API key and secret\n",
        "#alpaca_api_key = os.getenv(\"ALPACA_API_KEY\")\n",
        "#alpaca_secret_key = os.getenv(\"ALPACA_SECRET_KEY\")\n",
        "\n",
        "# REPLACE THESE WITH YOUR API KEY\n",
        "api = tradeapi.REST(alpaca_api_key, alpaca_secret_key, api_version='v2')"
      ],
      "execution_count": 2,
      "outputs": [
        {
          "output_type": "error",
          "ename": "NameError",
          "evalue": "name 'alpaca_api_key' is not defined",
          "traceback": [
            "\u001b[1;31m---------------------------------------------------------------------------\u001b[0m",
            "\u001b[1;31mNameError\u001b[0m                                 Traceback (most recent call last)",
            "\u001b[1;32m<ipython-input-2-78f3ceb79865>\u001b[0m in \u001b[0;36m<module>\u001b[1;34m\u001b[0m\n\u001b[0;32m      8\u001b[0m \u001b[1;33m\u001b[0m\u001b[0m\n\u001b[0;32m      9\u001b[0m \u001b[1;31m# REPLACE THESE WITH YOUR API KEY\u001b[0m\u001b[1;33m\u001b[0m\u001b[1;33m\u001b[0m\u001b[1;33m\u001b[0m\u001b[0m\n\u001b[1;32m---> 10\u001b[1;33m \u001b[0mapi\u001b[0m \u001b[1;33m=\u001b[0m \u001b[0mtradeapi\u001b[0m\u001b[1;33m.\u001b[0m\u001b[0mREST\u001b[0m\u001b[1;33m(\u001b[0m\u001b[0malpaca_api_key\u001b[0m\u001b[1;33m,\u001b[0m \u001b[0malpaca_secret_key\u001b[0m\u001b[1;33m,\u001b[0m \u001b[0mapi_version\u001b[0m\u001b[1;33m=\u001b[0m\u001b[1;34m'v2'\u001b[0m\u001b[1;33m)\u001b[0m\u001b[1;33m\u001b[0m\u001b[1;33m\u001b[0m\u001b[0m\n\u001b[0m",
            "\u001b[1;31mNameError\u001b[0m: name 'alpaca_api_key' is not defined"
          ]
        }
      ]
    },
    {
      "cell_type": "markdown",
      "metadata": {
        "id": "BpMtRwpflC-P",
        "colab_type": "text"
      },
      "source": [
        "### Check Available Tickers from Alpaca Markets API"
      ]
    },
    {
      "cell_type": "code",
      "metadata": {
        "inputHidden": false,
        "outputHidden": false,
        "scrolled": true,
        "id": "CL3FKCu1lC-S",
        "colab_type": "code",
        "colab": {
          "base_uri": "https://localhost:8080/",
          "height": 1000
        },
        "outputId": "5bd03773-0d83-46e1-bf2a-1e49c93ff2bf"
      },
      "source": [
        "# Get all Assets\n",
        "assets = api.list_assets()\n",
        "\n",
        "# Keep only tradeable assets\n",
        "tradeable = [asset for asset in assets if asset.tradable ]\n"
      ],
      "execution_count": null,
      "outputs": []
    },
    {
      "cell_type": "code",
      "metadata": {
        "id": "4aYZH9Y3lC-h",
        "colab_type": "code",
        "colab": {
          "base_uri": "https://localhost:8080/",
          "height": 363
        },
        "outputId": "945551b0-8910-4e71-d7d6-be62b1320626"
      },
      "source": [
        "# Create a new empty DataFrame\n",
        "asset_info_df = pd.DataFrame()\n",
        "asset_info_df['symbol'] = pd.Series([asset.symbol for asset in assets])\n",
        "\n",
        "# Display the first 10 asset tickers\n",
        "display(asset_info_df.head(10))"
      ],
      "execution_count": null,
      "outputs": []
    },
    {
      "cell_type": "markdown",
      "metadata": {
        "id": "Ar2MO9dtlC-t",
        "colab_type": "text"
      },
      "source": [
        "### Get 1 Year's Worth of Data via API Call and Read in as DataFrame "
      ]
    },
    {
      "cell_type": "code",
      "metadata": {
        "id": "xAaBv5OIlC-v",
        "colab_type": "code",
        "colab": {
          "base_uri": "https://localhost:8080/",
          "height": 455
        },
        "outputId": "6f2cb1a0-51de-4885-b312-5d5583f5e5ce"
      },
      "source": [
        "# Set the list of tickers\n",
        "tickers = [\"AAPL\", \"MSFT\",\"FB\",\"NFLX\",\"AMZN\"]\n",
        "\n",
        "# Pulling S&P Tickers\n",
        "#table=pd.read_html('https://en.wikipedia.org/wiki/List_of_S%26P_500_companies')\n",
        "#tickers=[table[0]['Symbol'].values][0]\n",
        "#tickers = tickers[:100]\n",
        "\n",
        "# Set timeframe to '1D' 1Min\n",
        "timeframe = '1D'\n",
        "\n",
        "# Set start and end datetimes of 1 year, between now and 365 days ago.\n",
        "start_date = pd.Timestamp(\"2017-5-04 09:30\", tz=\"America/New_York\").isoformat()\n",
        "end_date = pd.Timestamp(\"2019-5-11 16:01\", tz=\"America/New_York\").isoformat()\n",
        "\n",
        "# Get 1 year's worth of historical data for JNJ and MU.\n",
        "df = api.get_barset(\n",
        "    tickers,\n",
        "    timeframe,\n",
        "    limit=None,\n",
        "    start=start_date,\n",
        "    end=end_date,\n",
        "    after=None,\n",
        "    until=None,\n",
        ").df\n",
        "\n",
        "df.head()\n",
        "#df.tail(10)\n",
        "#df.describe()"
      ],
      "execution_count": 5,
      "outputs": [
        {
          "output_type": "error",
          "ename": "NameError",
          "evalue": "name 'api' is not defined",
          "traceback": [
            "\u001b[1;31m---------------------------------------------------------------------------\u001b[0m",
            "\u001b[1;31mNameError\u001b[0m                                 Traceback (most recent call last)",
            "\u001b[1;32m<ipython-input-5-17bd6124e8be>\u001b[0m in \u001b[0;36m<module>\u001b[1;34m\u001b[0m\n\u001b[0;32m     15\u001b[0m \u001b[1;33m\u001b[0m\u001b[0m\n\u001b[0;32m     16\u001b[0m \u001b[1;31m# Get 1 year's worth of historical data for JNJ and MU.\u001b[0m\u001b[1;33m\u001b[0m\u001b[1;33m\u001b[0m\u001b[1;33m\u001b[0m\u001b[0m\n\u001b[1;32m---> 17\u001b[1;33m df = api.get_barset(\n\u001b[0m\u001b[0;32m     18\u001b[0m     \u001b[0mtickers\u001b[0m\u001b[1;33m,\u001b[0m\u001b[1;33m\u001b[0m\u001b[1;33m\u001b[0m\u001b[0m\n\u001b[0;32m     19\u001b[0m     \u001b[0mtimeframe\u001b[0m\u001b[1;33m,\u001b[0m\u001b[1;33m\u001b[0m\u001b[1;33m\u001b[0m\u001b[0m\n",
            "\u001b[1;31mNameError\u001b[0m: name 'api' is not defined"
          ]
        }
      ]
    },
    {
      "cell_type": "code",
      "metadata": {
        "id": "G4ROaR9KSc5W",
        "colab_type": "code",
        "colab": {
          "base_uri": "https://localhost:8080/",
          "height": 495
        },
        "outputId": "418e5d86-53ea-42a6-e188-53746b73d38e"
      },
      "source": [
        "df.isna().mean()"
      ],
      "execution_count": null,
      "outputs": [
        {
          "output_type": "execute_result",
          "data": {
            "text/plain": [
              "AAPL  open      0.0\n",
              "      high      0.0\n",
              "      low       0.0\n",
              "      close     0.0\n",
              "      volume    0.0\n",
              "AMZN  open      0.0\n",
              "      high      0.0\n",
              "      low       0.0\n",
              "      close     0.0\n",
              "      volume    0.0\n",
              "FB    open      0.0\n",
              "      high      0.0\n",
              "      low       0.0\n",
              "      close     0.0\n",
              "      volume    0.0\n",
              "MSFT  open      0.0\n",
              "      high      0.0\n",
              "      low       0.0\n",
              "      close     0.0\n",
              "      volume    0.0\n",
              "NFLX  open      0.0\n",
              "      high      0.0\n",
              "      low       0.0\n",
              "      close     0.0\n",
              "      volume    0.0\n",
              "dtype: float64"
            ]
          },
          "metadata": {
            "tags": []
          },
          "execution_count": 24
        }
      ]
    },
    {
      "cell_type": "markdown",
      "metadata": {
        "id": "FKuu4342lC-8",
        "colab_type": "text"
      },
      "source": [
        "### Drop Extraneous Columns"
      ]
    },
    {
      "cell_type": "code",
      "metadata": {
        "id": "Wnr_NufxlC--",
        "colab_type": "code",
        "colab": {
          "base_uri": "https://localhost:8080/",
          "height": 238
        },
        "outputId": "8953f343-3dde-4208-cfe6-863e1fd63edb"
      },
      "source": [
        "# Use the `drop` function with the `level` parameter to drop extra columns in the multi-index DataFrame\n",
        "df.drop(columns=['open', 'high', 'low', 'volume'], level=1, inplace=True)\n",
        "df.head()"
      ],
      "execution_count": null,
      "outputs": [
        {
          "output_type": "execute_result",
          "data": {
            "text/html": [
              "<div>\n",
              "<style scoped>\n",
              "    .dataframe tbody tr th:only-of-type {\n",
              "        vertical-align: middle;\n",
              "    }\n",
              "\n",
              "    .dataframe tbody tr th {\n",
              "        vertical-align: top;\n",
              "    }\n",
              "\n",
              "    .dataframe thead tr th {\n",
              "        text-align: left;\n",
              "    }\n",
              "</style>\n",
              "<table border=\"1\" class=\"dataframe\">\n",
              "  <thead>\n",
              "    <tr>\n",
              "      <th></th>\n",
              "      <th>AAPL</th>\n",
              "      <th>AMZN</th>\n",
              "      <th>FB</th>\n",
              "      <th>MSFT</th>\n",
              "      <th>NFLX</th>\n",
              "    </tr>\n",
              "    <tr>\n",
              "      <th></th>\n",
              "      <th>close</th>\n",
              "      <th>close</th>\n",
              "      <th>close</th>\n",
              "      <th>close</th>\n",
              "      <th>close</th>\n",
              "    </tr>\n",
              "  </thead>\n",
              "  <tbody>\n",
              "    <tr>\n",
              "      <th>2017-05-04 00:00:00-04:00</th>\n",
              "      <td>146.54</td>\n",
              "      <td>937.53</td>\n",
              "      <td>150.84</td>\n",
              "      <td>68.81</td>\n",
              "      <td>157.26</td>\n",
              "    </tr>\n",
              "    <tr>\n",
              "      <th>2017-05-05 00:00:00-04:00</th>\n",
              "      <td>148.96</td>\n",
              "      <td>934.15</td>\n",
              "      <td>150.20</td>\n",
              "      <td>68.99</td>\n",
              "      <td>156.59</td>\n",
              "    </tr>\n",
              "    <tr>\n",
              "      <th>2017-05-08 00:00:00-04:00</th>\n",
              "      <td>153.01</td>\n",
              "      <td>949.02</td>\n",
              "      <td>151.05</td>\n",
              "      <td>68.94</td>\n",
              "      <td>156.38</td>\n",
              "    </tr>\n",
              "    <tr>\n",
              "      <th>2017-05-09 00:00:00-04:00</th>\n",
              "      <td>153.98</td>\n",
              "      <td>952.80</td>\n",
              "      <td>150.49</td>\n",
              "      <td>69.03</td>\n",
              "      <td>157.46</td>\n",
              "    </tr>\n",
              "    <tr>\n",
              "      <th>2017-05-10 00:00:00-04:00</th>\n",
              "      <td>153.26</td>\n",
              "      <td>948.95</td>\n",
              "      <td>150.29</td>\n",
              "      <td>69.31</td>\n",
              "      <td>160.28</td>\n",
              "    </tr>\n",
              "  </tbody>\n",
              "</table>\n",
              "</div>"
            ],
            "text/plain": [
              "                             AAPL    AMZN      FB   MSFT    NFLX\n",
              "                            close   close   close  close   close\n",
              "2017-05-04 00:00:00-04:00  146.54  937.53  150.84  68.81  157.26\n",
              "2017-05-05 00:00:00-04:00  148.96  934.15  150.20  68.99  156.59\n",
              "2017-05-08 00:00:00-04:00  153.01  949.02  151.05  68.94  156.38\n",
              "2017-05-09 00:00:00-04:00  153.98  952.80  150.49  69.03  157.46\n",
              "2017-05-10 00:00:00-04:00  153.26  948.95  150.29  69.31  160.28"
            ]
          },
          "metadata": {
            "tags": []
          },
          "execution_count": 7
        }
      ]
    },
    {
      "cell_type": "code",
      "metadata": {
        "id": "EHr7wAvSq2C9",
        "colab_type": "code",
        "colab": {}
      },
      "source": [
        "returns_pct_change1 = df.pct_change(1) \n",
        "returns_pct_change2 = df.pct_change(2) \n",
        "returns_pct_change3 = df.pct_change(3) \n",
        "returns_pct_change4 = df.pct_change(4) \n",
        "returns_pct_change5 = df.pct_change(5)\n",
        "returns_pct_change10 = df.pct_change(10) \n",
        "returns_pct_change30 = df.pct_change(30) \n",
        "returns_pct_change60 = df.pct_change(60) "
      ],
      "execution_count": null,
      "outputs": []
    },
    {
      "cell_type": "code",
      "metadata": {
        "id": "ogqz0iK6rMju",
        "colab_type": "code",
        "colab": {
          "base_uri": "https://localhost:8080/",
          "height": 206
        },
        "outputId": "0757f7d8-cfe1-46fd-c36f-89ad6495a94e"
      },
      "source": [
        "F_prices1m = returns_pct_change1.shift(-1)\n",
        "F_prices1m = pd.DataFrame(F_prices1m.unstack())\n",
        "F_prices1m.rename(columns={0: 'F_1m_returns'}, inplace = True)\n",
        "F_prices1m.reset_index(inplace = True)\n",
        "F_prices1m.drop(columns='level_1',inplace = True)\n",
        "F_prices1m.rename(columns = {'level_2' : 'level_1'}, inplace = True)\n",
        "#F_prices1m.head()\n",
        "\n",
        "prices1m = pd.DataFrame(returns_pct_change1.unstack())\n",
        "prices1m.rename(columns={0: '1m_returns'}, inplace = True)\n",
        "prices1m.reset_index(inplace = True)\n",
        "prices1m.drop(columns='level_1',inplace = True)\n",
        "prices1m.rename(columns = {'level_2' : 'level_1'},inplace = True)\n",
        "prices1m.head()\n",
        "\n",
        "prices2m = pd.DataFrame(returns_pct_change2.unstack())\n",
        "prices2m.rename(columns={0: '2m_returns'}, inplace = True)\n",
        "prices2m.reset_index(inplace = True)\n",
        "prices2m.drop(columns='level_1',inplace = True)\n",
        "prices2m.rename(columns = {'level_2' : 'level_1'},inplace = True)\n",
        "#prices2m.head()\n",
        "\n",
        "prices3m = pd.DataFrame(returns_pct_change3.unstack())\n",
        "prices3m.rename(columns={0: '3m_returns'}, inplace = True)\n",
        "prices3m.reset_index(inplace = True)\n",
        "prices3m.drop(columns='level_1',inplace = True)\n",
        "prices3m.rename(columns = {'level_2' : 'level_1'},inplace = True)\n",
        "#prices3m.head()\n",
        "\n",
        "prices4m = pd.DataFrame(returns_pct_change4.unstack())\n",
        "prices4m.rename(columns={0: '4m_returns'}, inplace = True)\n",
        "prices4m.reset_index(inplace = True)\n",
        "prices4m.drop(columns='level_1',inplace = True)\n",
        "prices4m.rename(columns = {'level_2' : 'level_1'},inplace = True)\n",
        "#prices4m.head()\n",
        "\n",
        "prices5m = pd.DataFrame(returns_pct_change5.unstack())\n",
        "prices5m.rename(columns={0: '5m_returns'}, inplace = True)\n",
        "prices5m.reset_index(inplace = True)\n",
        "prices5m.drop(columns='level_1',inplace = True)\n",
        "prices5m.rename(columns = {'level_2' : 'level_1'},inplace = True)\n",
        "#prices5m.head(10)\n",
        "\n",
        "prices10m = pd.DataFrame(returns_pct_change10.unstack())\n",
        "prices10m.rename(columns={0: '10m_returns'}, inplace = True)\n",
        "prices10m.reset_index(inplace = True)\n",
        "prices10m.drop(columns='level_1',inplace = True)\n",
        "prices10m.rename(columns = {'level_2' : 'level_1'},inplace = True)\n",
        "#prices10m.head(10)\n",
        "\n",
        "prices30m = pd.DataFrame(returns_pct_change30.unstack())\n",
        "prices30m.rename(columns={0: '30m_returns'}, inplace = True)\n",
        "prices30m.reset_index(inplace = True)\n",
        "prices30m.drop(columns='level_1',inplace = True)\n",
        "prices30m.rename(columns = {'level_2' : 'level_1'},inplace = True)\n",
        "#prices30m.head(10)\n",
        "\n",
        "prices60m = pd.DataFrame(returns_pct_change60.unstack())\n",
        "prices60m.rename(columns={0: '60m_returns'}, inplace = True)\n",
        "prices60m.reset_index(inplace = True)\n",
        "prices60m.drop(columns='level_1',inplace = True)\n",
        "prices60m.rename(columns = {'level_2' : 'level_1'},inplace = True)\n",
        "#prices60m.head(10)\n",
        "prices1m.head()"
      ],
      "execution_count": null,
      "outputs": [
        {
          "output_type": "execute_result",
          "data": {
            "text/html": [
              "<div>\n",
              "<style scoped>\n",
              "    .dataframe tbody tr th:only-of-type {\n",
              "        vertical-align: middle;\n",
              "    }\n",
              "\n",
              "    .dataframe tbody tr th {\n",
              "        vertical-align: top;\n",
              "    }\n",
              "\n",
              "    .dataframe thead th {\n",
              "        text-align: right;\n",
              "    }\n",
              "</style>\n",
              "<table border=\"1\" class=\"dataframe\">\n",
              "  <thead>\n",
              "    <tr style=\"text-align: right;\">\n",
              "      <th></th>\n",
              "      <th>level_0</th>\n",
              "      <th>level_1</th>\n",
              "      <th>1m_returns</th>\n",
              "    </tr>\n",
              "  </thead>\n",
              "  <tbody>\n",
              "    <tr>\n",
              "      <th>0</th>\n",
              "      <td>AAPL</td>\n",
              "      <td>2017-05-04 00:00:00-04:00</td>\n",
              "      <td>NaN</td>\n",
              "    </tr>\n",
              "    <tr>\n",
              "      <th>1</th>\n",
              "      <td>AAPL</td>\n",
              "      <td>2017-05-05 00:00:00-04:00</td>\n",
              "      <td>0.016514</td>\n",
              "    </tr>\n",
              "    <tr>\n",
              "      <th>2</th>\n",
              "      <td>AAPL</td>\n",
              "      <td>2017-05-08 00:00:00-04:00</td>\n",
              "      <td>0.027189</td>\n",
              "    </tr>\n",
              "    <tr>\n",
              "      <th>3</th>\n",
              "      <td>AAPL</td>\n",
              "      <td>2017-05-09 00:00:00-04:00</td>\n",
              "      <td>0.006339</td>\n",
              "    </tr>\n",
              "    <tr>\n",
              "      <th>4</th>\n",
              "      <td>AAPL</td>\n",
              "      <td>2017-05-10 00:00:00-04:00</td>\n",
              "      <td>-0.004676</td>\n",
              "    </tr>\n",
              "  </tbody>\n",
              "</table>\n",
              "</div>"
            ],
            "text/plain": [
              "  level_0                   level_1  1m_returns\n",
              "0    AAPL 2017-05-04 00:00:00-04:00         NaN\n",
              "1    AAPL 2017-05-05 00:00:00-04:00    0.016514\n",
              "2    AAPL 2017-05-08 00:00:00-04:00    0.027189\n",
              "3    AAPL 2017-05-09 00:00:00-04:00    0.006339\n",
              "4    AAPL 2017-05-10 00:00:00-04:00   -0.004676"
            ]
          },
          "metadata": {
            "tags": []
          },
          "execution_count": 9
        }
      ]
    },
    {
      "cell_type": "code",
      "metadata": {
        "id": "0ZD8fObHIi1E",
        "colab_type": "code",
        "colab": {
          "base_uri": "https://localhost:8080/",
          "height": 35
        },
        "outputId": "128b6886-37ba-4b5a-952b-6229befcd481"
      },
      "source": [
        "prices1m.tail()\n",
        "prices1m.shape"
      ],
      "execution_count": null,
      "outputs": [
        {
          "output_type": "execute_result",
          "data": {
            "text/plain": [
              "(25, 3)"
            ]
          },
          "metadata": {
            "tags": []
          },
          "execution_count": 12
        }
      ]
    },
    {
      "cell_type": "code",
      "metadata": {
        "id": "PHZHmdt4HNiZ",
        "colab_type": "code",
        "colab": {}
      },
      "source": [
        "prices1m= prices1m.iloc[:10,:]\n",
        "prices2m= prices2m.iloc[:10,:]\n",
        "prices3m= prices3m.iloc[:10,:]\n",
        "prices4m= prices4m.iloc[:10,:]\n",
        "prices5m= prices5m.iloc[:10,:]\n",
        "prices10m= prices10m.iloc[:10,:]\n",
        "prices30m= prices30m.iloc[:10,:]\n",
        "prices60m= prices60m.iloc[:10,:]"
      ],
      "execution_count": null,
      "outputs": []
    },
    {
      "cell_type": "code",
      "metadata": {
        "id": "HntnI5cUrtfM",
        "colab_type": "code",
        "colab": {
          "base_uri": "https://localhost:8080/",
          "height": 424
        },
        "outputId": "8bfa944e-b61e-43d0-8414-9405aeedffa1"
      },
      "source": [
        "data12 = pd.merge(prices1m,prices2m,left_on=['level_0', 'level_1'],right_on=['level_0', 'level_1'], how='left', suffixes=('_original', 'right'))\n",
        "data123 = pd.merge(data12,prices3m,left_on=['level_0', 'level_1'],right_on=['level_0', 'level_1'], how='left', suffixes=('_original', 'right'))\n",
        "data1234 = pd.merge(data123,prices4m,left_on=['level_0', 'level_1'],right_on=['level_0', 'level_1'], how='left', suffixes=('_original', 'right'))\n",
        "data12345 = pd.merge(data1234,prices5m,left_on=['level_0', 'level_1'],right_on=['level_0', 'level_1'], how='left', suffixes=('_original', 'right'))\n",
        "data1234510 = pd.merge(data12345,prices10m,left_on=['level_0', 'level_1'],right_on=['level_0', 'level_1'], how='left', suffixes=('_original', 'right'))\n",
        "data123451030 = pd.merge(data1234510,prices30m,left_on=['level_0', 'level_1'],right_on=['level_0', 'level_1'], how='left', suffixes=('_original', 'right'))\n",
        "data12345103060 = pd.merge(data123451030,prices60m,left_on=['level_0', 'level_1'],right_on=['level_0', 'level_1'], how='left', suffixes=('_original', 'right'))\n",
        "dataFinal = pd.merge(data12345103060,F_prices1m,left_on=['level_0', 'level_1'],right_on=['level_0', 'level_1'], how='left', suffixes=('_original', 'right'))\n",
        "dataFinal.head(100)\n"
      ],
      "execution_count": null,
      "outputs": [
        {
          "output_type": "execute_result",
          "data": {
            "text/html": [
              "<div>\n",
              "<style scoped>\n",
              "    .dataframe tbody tr th:only-of-type {\n",
              "        vertical-align: middle;\n",
              "    }\n",
              "\n",
              "    .dataframe tbody tr th {\n",
              "        vertical-align: top;\n",
              "    }\n",
              "\n",
              "    .dataframe thead th {\n",
              "        text-align: right;\n",
              "    }\n",
              "</style>\n",
              "<table border=\"1\" class=\"dataframe\">\n",
              "  <thead>\n",
              "    <tr style=\"text-align: right;\">\n",
              "      <th></th>\n",
              "      <th>level_0</th>\n",
              "      <th>level_1</th>\n",
              "      <th>1m_returns</th>\n",
              "      <th>2m_returns</th>\n",
              "      <th>3m_returns</th>\n",
              "      <th>4m_returns</th>\n",
              "      <th>5m_returns</th>\n",
              "      <th>10m_returns</th>\n",
              "      <th>30m_returns</th>\n",
              "      <th>60m_returns</th>\n",
              "      <th>F_1m_returns</th>\n",
              "    </tr>\n",
              "  </thead>\n",
              "  <tbody>\n",
              "    <tr>\n",
              "      <th>0</th>\n",
              "      <td>AAPL</td>\n",
              "      <td>2017-05-04 00:00:00-04:00</td>\n",
              "      <td>NaN</td>\n",
              "      <td>NaN</td>\n",
              "      <td>NaN</td>\n",
              "      <td>NaN</td>\n",
              "      <td>NaN</td>\n",
              "      <td>NaN</td>\n",
              "      <td>NaN</td>\n",
              "      <td>NaN</td>\n",
              "      <td>0.016514</td>\n",
              "    </tr>\n",
              "    <tr>\n",
              "      <th>1</th>\n",
              "      <td>AAPL</td>\n",
              "      <td>2017-05-05 00:00:00-04:00</td>\n",
              "      <td>0.016514</td>\n",
              "      <td>NaN</td>\n",
              "      <td>NaN</td>\n",
              "      <td>NaN</td>\n",
              "      <td>NaN</td>\n",
              "      <td>NaN</td>\n",
              "      <td>NaN</td>\n",
              "      <td>NaN</td>\n",
              "      <td>0.027189</td>\n",
              "    </tr>\n",
              "    <tr>\n",
              "      <th>2</th>\n",
              "      <td>AAPL</td>\n",
              "      <td>2017-05-08 00:00:00-04:00</td>\n",
              "      <td>0.027189</td>\n",
              "      <td>0.044152</td>\n",
              "      <td>NaN</td>\n",
              "      <td>NaN</td>\n",
              "      <td>NaN</td>\n",
              "      <td>NaN</td>\n",
              "      <td>NaN</td>\n",
              "      <td>NaN</td>\n",
              "      <td>0.006339</td>\n",
              "    </tr>\n",
              "    <tr>\n",
              "      <th>3</th>\n",
              "      <td>AAPL</td>\n",
              "      <td>2017-05-09 00:00:00-04:00</td>\n",
              "      <td>0.006339</td>\n",
              "      <td>0.033700</td>\n",
              "      <td>0.050771</td>\n",
              "      <td>NaN</td>\n",
              "      <td>NaN</td>\n",
              "      <td>NaN</td>\n",
              "      <td>NaN</td>\n",
              "      <td>NaN</td>\n",
              "      <td>-0.004676</td>\n",
              "    </tr>\n",
              "    <tr>\n",
              "      <th>4</th>\n",
              "      <td>AAPL</td>\n",
              "      <td>2017-05-10 00:00:00-04:00</td>\n",
              "      <td>-0.004676</td>\n",
              "      <td>0.001634</td>\n",
              "      <td>0.028867</td>\n",
              "      <td>0.045858</td>\n",
              "      <td>NaN</td>\n",
              "      <td>NaN</td>\n",
              "      <td>NaN</td>\n",
              "      <td>NaN</td>\n",
              "      <td>0.004437</td>\n",
              "    </tr>\n",
              "    <tr>\n",
              "      <th>...</th>\n",
              "      <td>...</td>\n",
              "      <td>...</td>\n",
              "      <td>...</td>\n",
              "      <td>...</td>\n",
              "      <td>...</td>\n",
              "      <td>...</td>\n",
              "      <td>...</td>\n",
              "      <td>...</td>\n",
              "      <td>...</td>\n",
              "      <td>...</td>\n",
              "      <td>...</td>\n",
              "    </tr>\n",
              "    <tr>\n",
              "      <th>95</th>\n",
              "      <td>AAPL</td>\n",
              "      <td>2017-09-19 00:00:00-04:00</td>\n",
              "      <td>0.000504</td>\n",
              "      <td>-0.007255</td>\n",
              "      <td>0.002843</td>\n",
              "      <td>-0.005638</td>\n",
              "      <td>-0.013242</td>\n",
              "      <td>-0.020731</td>\n",
              "      <td>-0.000441</td>\n",
              "      <td>0.084968</td>\n",
              "      <td>-0.016822</td>\n",
              "    </tr>\n",
              "    <tr>\n",
              "      <th>96</th>\n",
              "      <td>AAPL</td>\n",
              "      <td>2017-09-20 00:00:00-04:00</td>\n",
              "      <td>-0.016822</td>\n",
              "      <td>-0.016326</td>\n",
              "      <td>-0.023955</td>\n",
              "      <td>-0.014027</td>\n",
              "      <td>-0.022366</td>\n",
              "      <td>-0.036252</td>\n",
              "      <td>-0.025297</td>\n",
              "      <td>0.070302</td>\n",
              "      <td>-0.016918</td>\n",
              "    </tr>\n",
              "    <tr>\n",
              "      <th>97</th>\n",
              "      <td>AAPL</td>\n",
              "      <td>2017-09-21 00:00:00-04:00</td>\n",
              "      <td>-0.016918</td>\n",
              "      <td>-0.033455</td>\n",
              "      <td>-0.032968</td>\n",
              "      <td>-0.040468</td>\n",
              "      <td>-0.030707</td>\n",
              "      <td>-0.048738</td>\n",
              "      <td>-0.047734</td>\n",
              "      <td>0.066977</td>\n",
              "      <td>-0.010755</td>\n",
              "    </tr>\n",
              "    <tr>\n",
              "      <th>98</th>\n",
              "      <td>AAPL</td>\n",
              "      <td>2017-09-22 00:00:00-04:00</td>\n",
              "      <td>-0.010755</td>\n",
              "      <td>-0.027491</td>\n",
              "      <td>-0.043851</td>\n",
              "      <td>-0.043369</td>\n",
              "      <td>-0.050788</td>\n",
              "      <td>-0.043308</td>\n",
              "      <td>-0.022920</td>\n",
              "      <td>0.040664</td>\n",
              "      <td>-0.007907</td>\n",
              "    </tr>\n",
              "    <tr>\n",
              "      <th>99</th>\n",
              "      <td>AAPL</td>\n",
              "      <td>2017-09-25 00:00:00-04:00</td>\n",
              "      <td>-0.007907</td>\n",
              "      <td>-0.018578</td>\n",
              "      <td>-0.035181</td>\n",
              "      <td>-0.051411</td>\n",
              "      <td>-0.050933</td>\n",
              "      <td>-0.067682</td>\n",
              "      <td>-0.044003</td>\n",
              "      <td>0.047957</td>\n",
              "      <td>0.017667</td>\n",
              "    </tr>\n",
              "  </tbody>\n",
              "</table>\n",
              "<p>100 rows × 11 columns</p>\n",
              "</div>"
            ],
            "text/plain": [
              "   level_0                   level_1  ...  60m_returns  F_1m_returns\n",
              "0     AAPL 2017-05-04 00:00:00-04:00  ...          NaN      0.016514\n",
              "1     AAPL 2017-05-05 00:00:00-04:00  ...          NaN      0.027189\n",
              "2     AAPL 2017-05-08 00:00:00-04:00  ...          NaN      0.006339\n",
              "3     AAPL 2017-05-09 00:00:00-04:00  ...          NaN     -0.004676\n",
              "4     AAPL 2017-05-10 00:00:00-04:00  ...          NaN      0.004437\n",
              "..     ...                       ...  ...          ...           ...\n",
              "95    AAPL 2017-09-19 00:00:00-04:00  ...     0.084968     -0.016822\n",
              "96    AAPL 2017-09-20 00:00:00-04:00  ...     0.070302     -0.016918\n",
              "97    AAPL 2017-09-21 00:00:00-04:00  ...     0.066977     -0.010755\n",
              "98    AAPL 2017-09-22 00:00:00-04:00  ...     0.040664     -0.007907\n",
              "99    AAPL 2017-09-25 00:00:00-04:00  ...     0.047957      0.017667\n",
              "\n",
              "[100 rows x 11 columns]"
            ]
          },
          "metadata": {
            "tags": []
          },
          "execution_count": 10
        }
      ]
    },
    {
      "cell_type": "code",
      "metadata": {
        "id": "qMcfw78SD9Rz",
        "colab_type": "code",
        "colab": {}
      },
      "source": [
        "dataFinal.describe()\n",
        "dataFinal.dropna(inplace = True)\n",
        "#dataFinal.head()\n",
        "#dataFinal.iloc[:59]\n",
        "#dataFinal.drop(dataFinal.iloc[:59])"
      ],
      "execution_count": null,
      "outputs": []
    },
    {
      "cell_type": "code",
      "metadata": {
        "id": "I7sTHJxBBJ0n",
        "colab_type": "code",
        "colab": {
          "base_uri": "https://localhost:8080/",
          "height": 182
        },
        "outputId": "ec4acb0c-ebfd-40ee-ec96-e39484904fb6"
      },
      "source": [
        "dataFinal['4m_returns'].describe()"
      ],
      "execution_count": null,
      "outputs": [
        {
          "output_type": "execute_result",
          "data": {
            "text/plain": [
              "count    2235.000000\n",
              "mean        0.004824\n",
              "std         0.039328\n",
              "min        -0.206410\n",
              "25%        -0.014423\n",
              "50%         0.005528\n",
              "75%         0.024744\n",
              "max         0.223367\n",
              "Name: 4m_returns, dtype: float64"
            ]
          },
          "metadata": {
            "tags": []
          },
          "execution_count": 13
        }
      ]
    },
    {
      "cell_type": "code",
      "metadata": {
        "id": "gZhozn5VOLyB",
        "colab_type": "code",
        "colab": {
          "base_uri": "https://localhost:8080/",
          "height": 237
        },
        "outputId": "6a1829b6-4307-4232-d4ad-31cc0ad7f223"
      },
      "source": [
        "dataFinal.dropna(inplace=True)\n",
        "dataFinal.head()\n",
        "dataFinal.isna().mean()\n",
        "#dataFinal.tail()"
      ],
      "execution_count": null,
      "outputs": [
        {
          "output_type": "execute_result",
          "data": {
            "text/plain": [
              "level_0         0.0\n",
              "level_1         0.0\n",
              "1m_returns      0.0\n",
              "2m_returns      0.0\n",
              "3m_returns      0.0\n",
              "4m_returns      0.0\n",
              "5m_returns      0.0\n",
              "10m_returns     0.0\n",
              "30m_returns     0.0\n",
              "60m_returns     0.0\n",
              "F_1m_returns    0.0\n",
              "dtype: float64"
            ]
          },
          "metadata": {
            "tags": []
          },
          "execution_count": 14
        }
      ]
    },
    {
      "cell_type": "code",
      "metadata": {
        "id": "Cg6R54UHG4O-",
        "colab_type": "code",
        "colab": {}
      },
      "source": [
        ""
      ],
      "execution_count": null,
      "outputs": []
    },
    {
      "cell_type": "markdown",
      "metadata": {
        "id": "vUTydcC8lC_J",
        "colab_type": "text"
      },
      "source": [
        "### Calculate Daily Returns"
      ]
    },
    {
      "cell_type": "code",
      "metadata": {
        "id": "TBhw2pEolC_L",
        "colab_type": "code",
        "colab": {
          "base_uri": "https://localhost:8080/",
          "height": 206
        },
        "outputId": "ce96ed13-5f64-4ce1-c63b-8fdaf661d252"
      },
      "source": [
        "# Use the `pct_change` function to calculate daily returns of `JNJ` and `MU`.\n",
        "daily_returns_pctchange = df.pct_change()\n",
        "daily_returns = pd.DataFrame(daily_returns_pctchange.unstack())\n",
        "daily_returns.reset_index(inplace = True)\n",
        "daily_returns.head()"
      ],
      "execution_count": null,
      "outputs": [
        {
          "output_type": "execute_result",
          "data": {
            "text/html": [
              "<div>\n",
              "<style scoped>\n",
              "    .dataframe tbody tr th:only-of-type {\n",
              "        vertical-align: middle;\n",
              "    }\n",
              "\n",
              "    .dataframe tbody tr th {\n",
              "        vertical-align: top;\n",
              "    }\n",
              "\n",
              "    .dataframe thead th {\n",
              "        text-align: right;\n",
              "    }\n",
              "</style>\n",
              "<table border=\"1\" class=\"dataframe\">\n",
              "  <thead>\n",
              "    <tr style=\"text-align: right;\">\n",
              "      <th></th>\n",
              "      <th>level_0</th>\n",
              "      <th>level_1</th>\n",
              "      <th>level_2</th>\n",
              "      <th>0</th>\n",
              "    </tr>\n",
              "  </thead>\n",
              "  <tbody>\n",
              "    <tr>\n",
              "      <th>0</th>\n",
              "      <td>AAPL</td>\n",
              "      <td>close</td>\n",
              "      <td>2017-05-04 00:00:00-04:00</td>\n",
              "      <td>NaN</td>\n",
              "    </tr>\n",
              "    <tr>\n",
              "      <th>1</th>\n",
              "      <td>AAPL</td>\n",
              "      <td>close</td>\n",
              "      <td>2017-05-05 00:00:00-04:00</td>\n",
              "      <td>0.016514</td>\n",
              "    </tr>\n",
              "    <tr>\n",
              "      <th>2</th>\n",
              "      <td>AAPL</td>\n",
              "      <td>close</td>\n",
              "      <td>2017-05-08 00:00:00-04:00</td>\n",
              "      <td>0.027189</td>\n",
              "    </tr>\n",
              "    <tr>\n",
              "      <th>3</th>\n",
              "      <td>AAPL</td>\n",
              "      <td>close</td>\n",
              "      <td>2017-05-09 00:00:00-04:00</td>\n",
              "      <td>0.006339</td>\n",
              "    </tr>\n",
              "    <tr>\n",
              "      <th>4</th>\n",
              "      <td>AAPL</td>\n",
              "      <td>close</td>\n",
              "      <td>2017-05-10 00:00:00-04:00</td>\n",
              "      <td>-0.004676</td>\n",
              "    </tr>\n",
              "  </tbody>\n",
              "</table>\n",
              "</div>"
            ],
            "text/plain": [
              "  level_0 level_1                   level_2         0\n",
              "0    AAPL   close 2017-05-04 00:00:00-04:00       NaN\n",
              "1    AAPL   close 2017-05-05 00:00:00-04:00  0.016514\n",
              "2    AAPL   close 2017-05-08 00:00:00-04:00  0.027189\n",
              "3    AAPL   close 2017-05-09 00:00:00-04:00  0.006339\n",
              "4    AAPL   close 2017-05-10 00:00:00-04:00 -0.004676"
            ]
          },
          "metadata": {
            "tags": []
          },
          "execution_count": 15
        }
      ]
    },
    {
      "cell_type": "code",
      "metadata": {
        "id": "K1qHh9zQTS5g",
        "colab_type": "code",
        "colab": {}
      },
      "source": [
        ""
      ],
      "execution_count": null,
      "outputs": []
    },
    {
      "cell_type": "code",
      "metadata": {
        "colab_type": "code",
        "id": "sv4e9IMyTXe3",
        "colab": {}
      },
      "source": [
        "trading_signals_df = dataFinal.copy()\n",
        "trading_signals_df['Positive Return'] = np.where(trading_signals_df['F_1m_returns'] > 0, 1.0, 0.0)\n",
        "\n",
        "# Set x variable list of features\n",
        "x_var_list = ['1m_returns','2m_returns','3m_returns','4m_returns','5m_returns','10m_returns']\n",
        "\n",
        "# Filter by x-variable list\n",
        "trading_signals_df[x_var_list] = trading_signals_df[x_var_list].shift(1)"
      ],
      "execution_count": null,
      "outputs": []
    }
  ]
}