{
 "cells": [
  {
   "cell_type": "markdown",
   "metadata": {},
   "source": [
    "# Instructor Do: Tone Alysis"
   ]
  },
  {
   "cell_type": "code",
   "execution_count": 8,
   "metadata": {},
   "outputs": [],
   "source": [
    "# Initial imports\n",
    "import os\n",
    "import json\n",
    "from pandas.io.json import json_normalize\n",
    "from ibm_watson import ToneAnalyzerV3\n",
    "from ibm_cloud_sdk_core.authenticators import IAMAuthenticator\n",
    "from dotenv import load_dotenv\n",
    "load_dotenv()\n",
    "from path import Path\n",
    "\n",
    "# pip install --upgrade \"ibm-watson>=3.0.3\""
   ]
  },
  {
   "cell_type": "code",
   "execution_count": 9,
   "metadata": {},
   "outputs": [],
   "source": [
    "# Reading the News API key enviroment variable\n",
    "abs_path = Path(r'C:/Users/metin/Documents/nufintech/.env')\n",
    "load_dotenv(abs_path) \n",
    "\n",
    "tone_api = os.getenv(\"tone_key\")\n",
    "tone_url = os.getenv(\"tone_url\")"
   ]
  },
  {
   "cell_type": "code",
   "execution_count": 10,
   "metadata": {},
   "outputs": [],
   "source": [
    "# Initialize Tone Analyser Client\n",
    "\n",
    "# Create authentication object\n",
    "authenticator = IAMAuthenticator(tone_api)\n",
    "\n",
    "# Create tone_analyzer instance\n",
    "tone_analyzer = ToneAnalyzerV3(\n",
    "    version=\"2017-09-21\",\n",
    "    authenticator=authenticator\n",
    ")\n",
    "\n",
    "# Set the service endpoint\n",
    "tone_analyzer.set_service_url(tone_url)\n"
   ]
  },
  {
   "cell_type": "markdown",
   "metadata": {},
   "source": [
    "## General Tone Analysis Test"
   ]
  },
  {
   "cell_type": "code",
   "execution_count": 11,
   "metadata": {},
   "outputs": [
    {
     "ename": "ApiException",
     "evalue": "Error: Provided API key could not be found, Code: 400",
     "output_type": "error",
     "traceback": [
      "\u001b[1;31m---------------------------------------------------------------------------\u001b[0m",
      "\u001b[1;31mApiException\u001b[0m                              Traceback (most recent call last)",
      "\u001b[1;32m<ipython-input-11-567e08d6360b>\u001b[0m in \u001b[0;36m<module>\u001b[1;34m\u001b[0m\n\u001b[0;32m     11\u001b[0m     \u001b[0mcontent_type\u001b[0m\u001b[1;33m=\u001b[0m\u001b[1;34m\"application/json\"\u001b[0m\u001b[1;33m,\u001b[0m\u001b[1;33m\u001b[0m\u001b[1;33m\u001b[0m\u001b[0m\n\u001b[0;32m     12\u001b[0m     \u001b[0mcontent_language\u001b[0m\u001b[1;33m=\u001b[0m\u001b[1;34m\"en\"\u001b[0m\u001b[1;33m,\u001b[0m\u001b[1;33m\u001b[0m\u001b[1;33m\u001b[0m\u001b[0m\n\u001b[1;32m---> 13\u001b[1;33m     \u001b[0maccept_language\u001b[0m\u001b[1;33m=\u001b[0m\u001b[1;34m\"en\"\u001b[0m\u001b[1;33m,\u001b[0m\u001b[1;33m\u001b[0m\u001b[1;33m\u001b[0m\u001b[0m\n\u001b[0m\u001b[0;32m     14\u001b[0m ).get_result()\n\u001b[0;32m     15\u001b[0m \u001b[1;33m\u001b[0m\u001b[0m\n",
      "\u001b[1;32m~\\anaconda3\\lib\\site-packages\\ibm_watson\\tone_analyzer_v3.py\u001b[0m in \u001b[0;36mtone\u001b[1;34m(self, tone_input, content_type, sentences, tones, content_language, accept_language, **kwargs)\u001b[0m\n\u001b[0;32m    182\u001b[0m                                        \u001b[0mheaders\u001b[0m\u001b[1;33m=\u001b[0m\u001b[0mheaders\u001b[0m\u001b[1;33m,\u001b[0m\u001b[1;33m\u001b[0m\u001b[1;33m\u001b[0m\u001b[0m\n\u001b[0;32m    183\u001b[0m                                        \u001b[0mparams\u001b[0m\u001b[1;33m=\u001b[0m\u001b[0mparams\u001b[0m\u001b[1;33m,\u001b[0m\u001b[1;33m\u001b[0m\u001b[1;33m\u001b[0m\u001b[0m\n\u001b[1;32m--> 184\u001b[1;33m                                        data=data)\n\u001b[0m\u001b[0;32m    185\u001b[0m \u001b[1;33m\u001b[0m\u001b[0m\n\u001b[0;32m    186\u001b[0m         \u001b[0mresponse\u001b[0m \u001b[1;33m=\u001b[0m \u001b[0mself\u001b[0m\u001b[1;33m.\u001b[0m\u001b[0msend\u001b[0m\u001b[1;33m(\u001b[0m\u001b[0mrequest\u001b[0m\u001b[1;33m)\u001b[0m\u001b[1;33m\u001b[0m\u001b[1;33m\u001b[0m\u001b[0m\n",
      "\u001b[1;32m~\\anaconda3\\lib\\site-packages\\ibm_cloud_sdk_core\\base_service.py\u001b[0m in \u001b[0;36mprepare_request\u001b[1;34m(self, method, url, headers, params, data, files, **kwargs)\u001b[0m\n\u001b[0;32m    299\u001b[0m         \u001b[0mrequest\u001b[0m\u001b[1;33m[\u001b[0m\u001b[1;34m'data'\u001b[0m\u001b[1;33m]\u001b[0m \u001b[1;33m=\u001b[0m \u001b[0mdata\u001b[0m\u001b[1;33m\u001b[0m\u001b[1;33m\u001b[0m\u001b[0m\n\u001b[0;32m    300\u001b[0m \u001b[1;33m\u001b[0m\u001b[0m\n\u001b[1;32m--> 301\u001b[1;33m         \u001b[0mself\u001b[0m\u001b[1;33m.\u001b[0m\u001b[0mauthenticator\u001b[0m\u001b[1;33m.\u001b[0m\u001b[0mauthenticate\u001b[0m\u001b[1;33m(\u001b[0m\u001b[0mrequest\u001b[0m\u001b[1;33m)\u001b[0m\u001b[1;33m\u001b[0m\u001b[1;33m\u001b[0m\u001b[0m\n\u001b[0m\u001b[0;32m    302\u001b[0m \u001b[1;33m\u001b[0m\u001b[0m\n\u001b[0;32m    303\u001b[0m         \u001b[1;31m# Next, we need to process the 'files' argument to try to fill in\u001b[0m\u001b[1;33m\u001b[0m\u001b[1;33m\u001b[0m\u001b[1;33m\u001b[0m\u001b[0m\n",
      "\u001b[1;32m~\\anaconda3\\lib\\site-packages\\ibm_cloud_sdk_core\\authenticators\\iam_authenticator.py\u001b[0m in \u001b[0;36mauthenticate\u001b[1;34m(self, req)\u001b[0m\n\u001b[0;32m    104\u001b[0m         \"\"\"\n\u001b[0;32m    105\u001b[0m         \u001b[0mheaders\u001b[0m \u001b[1;33m=\u001b[0m \u001b[0mreq\u001b[0m\u001b[1;33m.\u001b[0m\u001b[0mget\u001b[0m\u001b[1;33m(\u001b[0m\u001b[1;34m'headers'\u001b[0m\u001b[1;33m)\u001b[0m\u001b[1;33m\u001b[0m\u001b[1;33m\u001b[0m\u001b[0m\n\u001b[1;32m--> 106\u001b[1;33m         \u001b[0mbearer_token\u001b[0m \u001b[1;33m=\u001b[0m \u001b[0mself\u001b[0m\u001b[1;33m.\u001b[0m\u001b[0mtoken_manager\u001b[0m\u001b[1;33m.\u001b[0m\u001b[0mget_token\u001b[0m\u001b[1;33m(\u001b[0m\u001b[1;33m)\u001b[0m\u001b[1;33m\u001b[0m\u001b[1;33m\u001b[0m\u001b[0m\n\u001b[0m\u001b[0;32m    107\u001b[0m         \u001b[0mheaders\u001b[0m\u001b[1;33m[\u001b[0m\u001b[1;34m'Authorization'\u001b[0m\u001b[1;33m]\u001b[0m \u001b[1;33m=\u001b[0m \u001b[1;34m'Bearer {0}'\u001b[0m\u001b[1;33m.\u001b[0m\u001b[0mformat\u001b[0m\u001b[1;33m(\u001b[0m\u001b[0mbearer_token\u001b[0m\u001b[1;33m)\u001b[0m\u001b[1;33m\u001b[0m\u001b[1;33m\u001b[0m\u001b[0m\n\u001b[0;32m    108\u001b[0m \u001b[1;33m\u001b[0m\u001b[0m\n",
      "\u001b[1;32m~\\anaconda3\\lib\\site-packages\\ibm_cloud_sdk_core\\jwt_token_manager.py\u001b[0m in \u001b[0;36mget_token\u001b[1;34m(self)\u001b[0m\n\u001b[0;32m     68\u001b[0m         \"\"\"\n\u001b[0;32m     69\u001b[0m         \u001b[1;32mif\u001b[0m \u001b[1;32mnot\u001b[0m \u001b[0mself\u001b[0m\u001b[1;33m.\u001b[0m\u001b[0mtoken_info\u001b[0m \u001b[1;32mor\u001b[0m \u001b[0mself\u001b[0m\u001b[1;33m.\u001b[0m\u001b[0m_is_token_expired\u001b[0m\u001b[1;33m(\u001b[0m\u001b[1;33m)\u001b[0m\u001b[1;33m:\u001b[0m\u001b[1;33m\u001b[0m\u001b[1;33m\u001b[0m\u001b[0m\n\u001b[1;32m---> 70\u001b[1;33m             \u001b[0mtoken_response\u001b[0m \u001b[1;33m=\u001b[0m \u001b[0mself\u001b[0m\u001b[1;33m.\u001b[0m\u001b[0mrequest_token\u001b[0m\u001b[1;33m(\u001b[0m\u001b[1;33m)\u001b[0m\u001b[1;33m\u001b[0m\u001b[1;33m\u001b[0m\u001b[0m\n\u001b[0m\u001b[0;32m     71\u001b[0m             \u001b[0mself\u001b[0m\u001b[1;33m.\u001b[0m\u001b[0m_save_token_info\u001b[0m\u001b[1;33m(\u001b[0m\u001b[0mtoken_response\u001b[0m\u001b[1;33m)\u001b[0m\u001b[1;33m\u001b[0m\u001b[1;33m\u001b[0m\u001b[0m\n\u001b[0;32m     72\u001b[0m \u001b[1;33m\u001b[0m\u001b[0m\n",
      "\u001b[1;32m~\\anaconda3\\lib\\site-packages\\ibm_cloud_sdk_core\\iam_token_manager.py\u001b[0m in \u001b[0;36mrequest_token\u001b[1;34m(self)\u001b[0m\n\u001b[0;32m    112\u001b[0m             \u001b[0mdata\u001b[0m\u001b[1;33m=\u001b[0m\u001b[0mdata\u001b[0m\u001b[1;33m,\u001b[0m\u001b[1;33m\u001b[0m\u001b[1;33m\u001b[0m\u001b[0m\n\u001b[0;32m    113\u001b[0m             \u001b[0mauth_tuple\u001b[0m\u001b[1;33m=\u001b[0m\u001b[0mauth_tuple\u001b[0m\u001b[1;33m,\u001b[0m\u001b[1;33m\u001b[0m\u001b[1;33m\u001b[0m\u001b[0m\n\u001b[1;32m--> 114\u001b[1;33m             proxies=self.proxies)\n\u001b[0m\u001b[0;32m    115\u001b[0m         \u001b[1;32mreturn\u001b[0m \u001b[0mresponse\u001b[0m\u001b[1;33m\u001b[0m\u001b[1;33m\u001b[0m\u001b[0m\n\u001b[0;32m    116\u001b[0m \u001b[1;33m\u001b[0m\u001b[0m\n",
      "\u001b[1;32m~\\anaconda3\\lib\\site-packages\\ibm_cloud_sdk_core\\jwt_token_manager.py\u001b[0m in \u001b[0;36m_request\u001b[1;34m(self, method, url, headers, params, data, auth_tuple, **kwargs)\u001b[0m\n\u001b[0;32m    164\u001b[0m             \u001b[1;32mreturn\u001b[0m \u001b[0mresponse\u001b[0m\u001b[1;33m.\u001b[0m\u001b[0mjson\u001b[0m\u001b[1;33m(\u001b[0m\u001b[1;33m)\u001b[0m\u001b[1;33m\u001b[0m\u001b[1;33m\u001b[0m\u001b[0m\n\u001b[0;32m    165\u001b[0m \u001b[1;33m\u001b[0m\u001b[0m\n\u001b[1;32m--> 166\u001b[1;33m         \u001b[1;32mraise\u001b[0m \u001b[0mApiException\u001b[0m\u001b[1;33m(\u001b[0m\u001b[0mresponse\u001b[0m\u001b[1;33m.\u001b[0m\u001b[0mstatus_code\u001b[0m\u001b[1;33m,\u001b[0m \u001b[0mhttp_response\u001b[0m\u001b[1;33m=\u001b[0m\u001b[0mresponse\u001b[0m\u001b[1;33m)\u001b[0m\u001b[1;33m\u001b[0m\u001b[1;33m\u001b[0m\u001b[0m\n\u001b[0m",
      "\u001b[1;31mApiException\u001b[0m: Error: Provided API key could not be found, Code: 400"
     ]
    }
   ],
   "source": [
    "# Define text to analyze\n",
    "text = \"\"\"\n",
    "Team, I know that times are tough!\n",
    "Product sales have been disappointing for the past three quarters.\n",
    "We have a competitive product, but we need to do a better job of selling it!\n",
    "\"\"\"\n",
    "\n",
    "# Analyze the text's tone with the 'tone()' method.\n",
    "tone_analysis = tone_analyzer.tone(\n",
    "    {\"text\": text},\n",
    "    content_type=\"application/json\",\n",
    "    content_language=\"en\",\n",
    "    accept_language=\"en\",\n",
    ").get_result()\n",
    "\n",
    "# Display tone analysis results\n",
    "print(json.dumps(tone_analysis, indent=2))\n"
   ]
  },
  {
   "cell_type": "markdown",
   "metadata": {},
   "source": [
    "### Transform Tone Analysis json to a DataFrame"
   ]
  },
  {
   "cell_type": "code",
   "execution_count": 22,
   "metadata": {},
   "outputs": [
    {
     "data": {
      "text/html": [
       "<div>\n",
       "<style scoped>\n",
       "    .dataframe tbody tr th:only-of-type {\n",
       "        vertical-align: middle;\n",
       "    }\n",
       "\n",
       "    .dataframe tbody tr th {\n",
       "        vertical-align: top;\n",
       "    }\n",
       "\n",
       "    .dataframe thead th {\n",
       "        text-align: right;\n",
       "    }\n",
       "</style>\n",
       "<table border=\"1\" class=\"dataframe\">\n",
       "  <thead>\n",
       "    <tr style=\"text-align: right;\">\n",
       "      <th></th>\n",
       "      <th>score</th>\n",
       "      <th>tone_id</th>\n",
       "      <th>tone_name</th>\n",
       "    </tr>\n",
       "  </thead>\n",
       "  <tbody>\n",
       "    <tr>\n",
       "      <th>0</th>\n",
       "      <td>0.616500</td>\n",
       "      <td>sadness</td>\n",
       "      <td>Sadness</td>\n",
       "    </tr>\n",
       "    <tr>\n",
       "      <th>1</th>\n",
       "      <td>0.829888</td>\n",
       "      <td>analytical</td>\n",
       "      <td>Analytical</td>\n",
       "    </tr>\n",
       "  </tbody>\n",
       "</table>\n",
       "</div>"
      ],
      "text/plain": [
       "      score     tone_id   tone_name\n",
       "0  0.616500     sadness     Sadness\n",
       "1  0.829888  analytical  Analytical"
      ]
     },
     "execution_count": 22,
     "metadata": {},
     "output_type": "execute_result"
    }
   ],
   "source": [
    "# Document Tones\n",
    "doc_tone_df = json_normalize(data=tone_analysis[\"document_tone\"], record_path=[\"tones\"])\n",
    "doc_tone_df\n",
    "\n"
   ]
  },
  {
   "cell_type": "code",
   "execution_count": 26,
   "metadata": {},
   "outputs": [
    {
     "data": {
      "text/html": [
       "<div>\n",
       "<style scoped>\n",
       "    .dataframe tbody tr th:only-of-type {\n",
       "        vertical-align: middle;\n",
       "    }\n",
       "\n",
       "    .dataframe tbody tr th {\n",
       "        vertical-align: top;\n",
       "    }\n",
       "\n",
       "    .dataframe thead th {\n",
       "        text-align: right;\n",
       "    }\n",
       "</style>\n",
       "<table border=\"1\" class=\"dataframe\">\n",
       "  <thead>\n",
       "    <tr style=\"text-align: right;\">\n",
       "      <th></th>\n",
       "      <th>score</th>\n",
       "      <th>tone_id</th>\n",
       "      <th>tone_name</th>\n",
       "      <th>sentence_id</th>\n",
       "      <th>text</th>\n",
       "    </tr>\n",
       "  </thead>\n",
       "  <tbody>\n",
       "    <tr>\n",
       "      <th>0</th>\n",
       "      <td>0.801827</td>\n",
       "      <td>analytical</td>\n",
       "      <td>Analytical</td>\n",
       "      <td>0</td>\n",
       "      <td>Team, I know that times are tough!</td>\n",
       "    </tr>\n",
       "    <tr>\n",
       "      <th>1</th>\n",
       "      <td>0.771241</td>\n",
       "      <td>sadness</td>\n",
       "      <td>Sadness</td>\n",
       "      <td>1</td>\n",
       "      <td>Product sales have been disappointing for the ...</td>\n",
       "    </tr>\n",
       "    <tr>\n",
       "      <th>2</th>\n",
       "      <td>0.687768</td>\n",
       "      <td>analytical</td>\n",
       "      <td>Analytical</td>\n",
       "      <td>1</td>\n",
       "      <td>Product sales have been disappointing for the ...</td>\n",
       "    </tr>\n",
       "    <tr>\n",
       "      <th>3</th>\n",
       "      <td>0.506763</td>\n",
       "      <td>analytical</td>\n",
       "      <td>Analytical</td>\n",
       "      <td>2</td>\n",
       "      <td>We have a competitive product, but we need to ...</td>\n",
       "    </tr>\n",
       "  </tbody>\n",
       "</table>\n",
       "</div>"
      ],
      "text/plain": [
       "      score     tone_id   tone_name  sentence_id  \\\n",
       "0  0.801827  analytical  Analytical            0   \n",
       "1  0.771241     sadness     Sadness            1   \n",
       "2  0.687768  analytical  Analytical            1   \n",
       "3  0.506763  analytical  Analytical            2   \n",
       "\n",
       "                                                text  \n",
       "0                 Team, I know that times are tough!  \n",
       "1  Product sales have been disappointing for the ...  \n",
       "2  Product sales have been disappointing for the ...  \n",
       "3  We have a competitive product, but we need to ...  "
      ]
     },
     "execution_count": 26,
     "metadata": {},
     "output_type": "execute_result"
    }
   ],
   "source": [
    "# Sentences Tones\n",
    "sentences_tone_df = json_normalize(\n",
    "    data=tone_analysis[\"sentences_tone\"],\n",
    "    record_path=[\"tones\"],\n",
    "    meta=[\"sentence_id\", \"text\"],\n",
    ")\n",
    "sentences_tone_df"
   ]
  },
  {
   "cell_type": "markdown",
   "metadata": {},
   "source": [
    "## Customer Engagement Tone Analysis"
   ]
  },
  {
   "cell_type": "code",
   "execution_count": 27,
   "metadata": {},
   "outputs": [
    {
     "name": "stdout",
     "output_type": "stream",
     "text": [
      "{\n",
      "  \"utterances_tone\": [\n",
      "    {\n",
      "      \"utterance_id\": 0,\n",
      "      \"utterance_text\": \"Hello, I'm having a problem with your product.\",\n",
      "      \"tones\": [\n",
      "        {\n",
      "          \"score\": 0.686361,\n",
      "          \"tone_id\": \"polite\",\n",
      "          \"tone_name\": \"Polite\"\n",
      "        }\n",
      "      ]\n",
      "    },\n",
      "    {\n",
      "      \"utterance_id\": 1,\n",
      "      \"utterance_text\": \"OK, let me know what's going on, please.\",\n",
      "      \"tones\": [\n",
      "        {\n",
      "          \"score\": 0.92724,\n",
      "          \"tone_id\": \"polite\",\n",
      "          \"tone_name\": \"Polite\"\n",
      "        }\n",
      "      ]\n",
      "    },\n",
      "    {\n",
      "      \"utterance_id\": 2,\n",
      "      \"utterance_text\": \"Well, nothing is working :(\",\n",
      "      \"tones\": [\n",
      "        {\n",
      "          \"score\": 0.997795,\n",
      "          \"tone_id\": \"sad\",\n",
      "          \"tone_name\": \"Sad\"\n",
      "        }\n",
      "      ]\n",
      "    },\n",
      "    {\n",
      "      \"utterance_id\": 3,\n",
      "      \"utterance_text\": \"Sorry to hear that.\",\n",
      "      \"tones\": [\n",
      "        {\n",
      "          \"score\": 0.730982,\n",
      "          \"tone_id\": \"polite\",\n",
      "          \"tone_name\": \"Polite\"\n",
      "        },\n",
      "        {\n",
      "          \"score\": 0.672499,\n",
      "          \"tone_id\": \"sympathetic\",\n",
      "          \"tone_name\": \"Sympathetic\"\n",
      "        }\n",
      "      ]\n",
      "    }\n",
      "  ]\n",
      "}\n"
     ]
    }
   ],
   "source": [
    "# Define conversational utterances\n",
    "utterances = [\n",
    "    {\"text\": \"Hello, I'm having a problem with your product.\", \"user\": \"customer\"},\n",
    "    {\"text\": \"OK, let me know what's going on, please.\", \"user\": \"agent\"},\n",
    "    {\"text\": \"Well, nothing is working :(\", \"user\": \"customer\"},\n",
    "    {\"text\": \"Sorry to hear that.\", \"user\": \"agent\"},\n",
    "]\n",
    "\n",
    "# Analyze utterances using the 'tone_chat()' method\n",
    "utterance_analysis = tone_analyzer.tone_chat(\n",
    "    utterances=utterances, content_language=\"en\", accept_language=\"en\"\n",
    ").get_result()\n",
    "print(json.dumps(utterance_analysis, indent=2))\n"
   ]
  },
  {
   "cell_type": "markdown",
   "metadata": {},
   "source": [
    "### Transform Chat Analysis json to DataFrame"
   ]
  },
  {
   "cell_type": "code",
   "execution_count": 28,
   "metadata": {},
   "outputs": [
    {
     "data": {
      "text/html": [
       "<div>\n",
       "<style scoped>\n",
       "    .dataframe tbody tr th:only-of-type {\n",
       "        vertical-align: middle;\n",
       "    }\n",
       "\n",
       "    .dataframe tbody tr th {\n",
       "        vertical-align: top;\n",
       "    }\n",
       "\n",
       "    .dataframe thead th {\n",
       "        text-align: right;\n",
       "    }\n",
       "</style>\n",
       "<table border=\"1\" class=\"dataframe\">\n",
       "  <thead>\n",
       "    <tr style=\"text-align: right;\">\n",
       "      <th></th>\n",
       "      <th>score</th>\n",
       "      <th>tone_id</th>\n",
       "      <th>tone_name</th>\n",
       "      <th>utterance_id</th>\n",
       "      <th>utterance_text</th>\n",
       "    </tr>\n",
       "  </thead>\n",
       "  <tbody>\n",
       "    <tr>\n",
       "      <th>0</th>\n",
       "      <td>0.686361</td>\n",
       "      <td>polite</td>\n",
       "      <td>Polite</td>\n",
       "      <td>0</td>\n",
       "      <td>Hello, I'm having a problem with your product.</td>\n",
       "    </tr>\n",
       "    <tr>\n",
       "      <th>1</th>\n",
       "      <td>0.927240</td>\n",
       "      <td>polite</td>\n",
       "      <td>Polite</td>\n",
       "      <td>1</td>\n",
       "      <td>OK, let me know what's going on, please.</td>\n",
       "    </tr>\n",
       "    <tr>\n",
       "      <th>2</th>\n",
       "      <td>0.997795</td>\n",
       "      <td>sad</td>\n",
       "      <td>Sad</td>\n",
       "      <td>2</td>\n",
       "      <td>Well, nothing is working :(</td>\n",
       "    </tr>\n",
       "    <tr>\n",
       "      <th>3</th>\n",
       "      <td>0.730982</td>\n",
       "      <td>polite</td>\n",
       "      <td>Polite</td>\n",
       "      <td>3</td>\n",
       "      <td>Sorry to hear that.</td>\n",
       "    </tr>\n",
       "    <tr>\n",
       "      <th>4</th>\n",
       "      <td>0.672499</td>\n",
       "      <td>sympathetic</td>\n",
       "      <td>Sympathetic</td>\n",
       "      <td>3</td>\n",
       "      <td>Sorry to hear that.</td>\n",
       "    </tr>\n",
       "  </tbody>\n",
       "</table>\n",
       "</div>"
      ],
      "text/plain": [
       "      score      tone_id    tone_name  utterance_id  \\\n",
       "0  0.686361       polite       Polite             0   \n",
       "1  0.927240       polite       Polite             1   \n",
       "2  0.997795          sad          Sad             2   \n",
       "3  0.730982       polite       Polite             3   \n",
       "4  0.672499  sympathetic  Sympathetic             3   \n",
       "\n",
       "                                   utterance_text  \n",
       "0  Hello, I'm having a problem with your product.  \n",
       "1        OK, let me know what's going on, please.  \n",
       "2                     Well, nothing is working :(  \n",
       "3                             Sorry to hear that.  \n",
       "4                             Sorry to hear that.  "
      ]
     },
     "execution_count": 28,
     "metadata": {},
     "output_type": "execute_result"
    }
   ],
   "source": [
    "chat_tone_df = json_normalize(\n",
    "    data=utterance_analysis[\"utterances_tone\"],\n",
    "    record_path=[\"tones\"],\n",
    "    meta=[\"utterance_id\", \"utterance_text\"],\n",
    ")\n",
    "chat_tone_df\n"
   ]
  }
 ],
 "metadata": {
  "file_extension": ".py",
  "kernelspec": {
   "display_name": "Python 3",
   "language": "python",
   "name": "python3"
  },
  "language_info": {
   "codemirror_mode": {
    "name": "ipython",
    "version": 3
   },
   "file_extension": ".py",
   "mimetype": "text/x-python",
   "name": "python",
   "nbconvert_exporter": "python",
   "pygments_lexer": "ipython3",
   "version": "3.7.6"
  },
  "mimetype": "text/x-python",
  "name": "python",
  "npconvert_exporter": "python",
  "pygments_lexer": "ipython3",
  "version": 3
 },
 "nbformat": 4,
 "nbformat_minor": 4
}
