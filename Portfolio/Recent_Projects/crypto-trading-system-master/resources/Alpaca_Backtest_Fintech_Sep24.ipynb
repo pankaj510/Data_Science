{
 "cells": [
  {
   "cell_type": "code",
   "execution_count": 1,
   "metadata": {},
   "outputs": [],
   "source": [
    "import os\n",
    "from pathlib import Path\n",
    "from dotenv import load_dotenv\n",
    "abs_path = Path(r'C:/users/makyol/documents/nufintech/.env')\n",
    "#load_dotenv(abs_path)\n",
    "load_dotenv()\n",
    "alpaca_api_key = os.getenv(\"ALPACA_API_KEY\")\n",
    "alpaca_secret_key = os.getenv(\"ALPACA_SECRET_KEY\")\n",
    "import datetime\n",
    "from datetime import date\n",
    "import pandas as pd\n",
    "import numpy as np\n",
    "import time\n",
    "import pytz\n",
    "from datetime import timedelta\n",
    "\n",
    "pd.set_option('display.float_format', lambda x: '%.5f' % x)\n",
    "pd.set_option('display.float_format', lambda x: '%.5f' % x)"
   ]
  },
  {
   "cell_type": "code",
   "execution_count": 2,
   "metadata": {},
   "outputs": [
    {
     "name": "stdout",
     "output_type": "stream",
     "text": [
      "Collecting alpaca-trade-api\n",
      "  Downloading alpaca_trade_api-0.50.1-py3-none-any.whl (39 kB)\n",
      "Requirement already satisfied: websocket-client<1,>=0.56.0 in /home/ec2-user/anaconda3/envs/python3/lib/python3.6/site-packages (from alpaca-trade-api) (0.57.0)\n",
      "Requirement already satisfied: urllib3<1.26,>1.24 in /home/ec2-user/anaconda3/envs/python3/lib/python3.6/site-packages (from alpaca-trade-api) (1.25.8)\n",
      "Requirement already satisfied: pandas in /home/ec2-user/anaconda3/envs/python3/lib/python3.6/site-packages (from alpaca-trade-api) (1.0.5)\n",
      "Collecting websockets<9,>=8.0\n",
      "  Downloading websockets-8.1-cp36-cp36m-manylinux2010_x86_64.whl (78 kB)\n",
      "\u001b[K     |████████████████████████████████| 78 kB 1.1 MB/s eta 0:00:011\n",
      "\u001b[?25hRequirement already satisfied: requests<3,>2 in /home/ec2-user/anaconda3/envs/python3/lib/python3.6/site-packages (from alpaca-trade-api) (2.23.0)\n",
      "Requirement already satisfied: six in /home/ec2-user/anaconda3/envs/python3/lib/python3.6/site-packages (from websocket-client<1,>=0.56.0->alpaca-trade-api) (1.14.0)\n",
      "Requirement already satisfied: python-dateutil>=2.6.1 in /home/ec2-user/anaconda3/envs/python3/lib/python3.6/site-packages (from pandas->alpaca-trade-api) (2.8.1)\n",
      "Requirement already satisfied: pytz>=2017.2 in /home/ec2-user/anaconda3/envs/python3/lib/python3.6/site-packages (from pandas->alpaca-trade-api) (2019.3)\n",
      "Requirement already satisfied: numpy>=1.13.3 in /home/ec2-user/anaconda3/envs/python3/lib/python3.6/site-packages (from pandas->alpaca-trade-api) (1.18.1)\n",
      "Requirement already satisfied: chardet<4,>=3.0.2 in /home/ec2-user/anaconda3/envs/python3/lib/python3.6/site-packages (from requests<3,>2->alpaca-trade-api) (3.0.4)\n",
      "Requirement already satisfied: certifi>=2017.4.17 in /home/ec2-user/anaconda3/envs/python3/lib/python3.6/site-packages (from requests<3,>2->alpaca-trade-api) (2020.6.20)\n",
      "Requirement already satisfied: idna<3,>=2.5 in /home/ec2-user/anaconda3/envs/python3/lib/python3.6/site-packages (from requests<3,>2->alpaca-trade-api) (2.9)\n",
      "Installing collected packages: websockets, alpaca-trade-api\n",
      "Successfully installed alpaca-trade-api-0.50.1 websockets-8.1\n",
      "\u001b[33mWARNING: You are using pip version 20.0.2; however, version 20.2.3 is available.\n",
      "You should consider upgrading via the '/home/ec2-user/anaconda3/envs/python3/bin/python -m pip install --upgrade pip' command.\u001b[0m\n"
     ]
    }
   ],
   "source": [
    "!pip install alpaca-trade-api\n",
    "import alpaca_trade_api as tradeapi"
   ]
  },
  {
   "cell_type": "code",
   "execution_count": 3,
   "metadata": {},
   "outputs": [],
   "source": [
    "api = tradeapi.REST(alpaca_api_key, alpaca_secret_key, api_version='v2')"
   ]
  },
  {
   "cell_type": "markdown",
   "metadata": {},
   "source": [
    "### df.info()"
   ]
  },
  {
   "cell_type": "code",
   "execution_count": 22,
   "metadata": {},
   "outputs": [
    {
     "data": {
      "text/plain": [
       "F_1_m_returns          0.00000\n",
       "1_m_returns            0.00000\n",
       "excess_F_1_m_returns   0.00000\n",
       "excess_1_m_returns     0.00000\n",
       "dtype: float64"
      ]
     },
     "execution_count": 22,
     "metadata": {},
     "output_type": "execute_result"
    }
   ],
   "source": [
    "df.dropna(axis=0, inplace=True)\n",
    "df.isna().mean()"
   ]
  },
  {
   "cell_type": "markdown",
   "metadata": {},
   "source": [
    "# Machine Learning"
   ]
  },
  {
   "cell_type": "code",
   "execution_count": 23,
   "metadata": {},
   "outputs": [],
   "source": [
    "df.replace([np.inf, -np.inf], np.nan,inplace=True)"
   ]
  },
  {
   "cell_type": "code",
   "execution_count": 24,
   "metadata": {},
   "outputs": [],
   "source": [
    "df.replace([np.inf, -np.inf], np.nan,inplace=True)\n",
    "df.dropna(inplace=True,axis=0)\n",
    "X = df.drop(columns=['F_1_m_returns','excess_F_1_m_returns'])\n",
    "# we can drop various columns depending on what we want to use for prediction\n",
    "#X.drop(columns=['60_m_vol_z_score'], inplace=True)\n",
    "X.drop(columns=['1_m_returns'], inplace=True)\n",
    "#X.drop(columns=['1_m_returns','2_m_returns','3_m_returns','4_m_returns','5_m_returns','10_m_returns','15_m_returns','30_m_returns','60_m_returns','60_m_vol_z_score'], inplace=True)\n",
    "#X.drop(columns=['excess_2_m_returns','excess_3_m_returns','excess_4_m_returns','excess_5_m_returns','excess_10_m_returns','excess_15_m_returns','excess_30_m_returns','excess_60_m_returns'], inplace=True)\n",
    "# creating the target variable\n",
    "y = np.where(df['excess_F_1_m_returns']>0,1,0)"
   ]
  },
  {
   "cell_type": "code",
   "execution_count": 25,
   "metadata": {},
   "outputs": [],
   "source": [
    "from sklearn.preprocessing import StandardScaler\n",
    "from sklearn.pipeline import Pipeline\n",
    "from sklearn.model_selection import cross_val_predict\n",
    "from sklearn.metrics import confusion_matrix\n",
    "from sklearn.metrics import classification_report"
   ]
  },
  {
   "cell_type": "code",
   "execution_count": 26,
   "metadata": {},
   "outputs": [
    {
     "data": {
      "text/html": [
       "<div>\n",
       "<style scoped>\n",
       "    .dataframe tbody tr th:only-of-type {\n",
       "        vertical-align: middle;\n",
       "    }\n",
       "\n",
       "    .dataframe tbody tr th {\n",
       "        vertical-align: top;\n",
       "    }\n",
       "\n",
       "    .dataframe thead th {\n",
       "        text-align: right;\n",
       "    }\n",
       "</style>\n",
       "<table border=\"1\" class=\"dataframe\">\n",
       "  <thead>\n",
       "    <tr style=\"text-align: right;\">\n",
       "      <th></th>\n",
       "      <th>excess_1_m_returns</th>\n",
       "    </tr>\n",
       "  </thead>\n",
       "  <tbody>\n",
       "    <tr>\n",
       "      <th>count</th>\n",
       "      <td>3112.00000</td>\n",
       "    </tr>\n",
       "    <tr>\n",
       "      <th>mean</th>\n",
       "      <td>0.00000</td>\n",
       "    </tr>\n",
       "    <tr>\n",
       "      <th>std</th>\n",
       "      <td>0.00057</td>\n",
       "    </tr>\n",
       "    <tr>\n",
       "      <th>min</th>\n",
       "      <td>-0.00670</td>\n",
       "    </tr>\n",
       "    <tr>\n",
       "      <th>25%</th>\n",
       "      <td>-0.00020</td>\n",
       "    </tr>\n",
       "    <tr>\n",
       "      <th>50%</th>\n",
       "      <td>0.00000</td>\n",
       "    </tr>\n",
       "    <tr>\n",
       "      <th>75%</th>\n",
       "      <td>0.00021</td>\n",
       "    </tr>\n",
       "    <tr>\n",
       "      <th>max</th>\n",
       "      <td>0.00479</td>\n",
       "    </tr>\n",
       "  </tbody>\n",
       "</table>\n",
       "</div>"
      ],
      "text/plain": [
       "       excess_1_m_returns\n",
       "count          3112.00000\n",
       "mean              0.00000\n",
       "std               0.00057\n",
       "min              -0.00670\n",
       "25%              -0.00020\n",
       "50%               0.00000\n",
       "75%               0.00021\n",
       "max               0.00479"
      ]
     },
     "execution_count": 26,
     "metadata": {},
     "output_type": "execute_result"
    }
   ],
   "source": [
    "X.describe()"
   ]
  },
  {
   "cell_type": "code",
   "execution_count": 27,
   "metadata": {},
   "outputs": [
    {
     "data": {
      "text/html": [
       "<div>\n",
       "<style scoped>\n",
       "    .dataframe tbody tr th:only-of-type {\n",
       "        vertical-align: middle;\n",
       "    }\n",
       "\n",
       "    .dataframe tbody tr th {\n",
       "        vertical-align: top;\n",
       "    }\n",
       "\n",
       "    .dataframe thead th {\n",
       "        text-align: right;\n",
       "    }\n",
       "</style>\n",
       "<table border=\"1\" class=\"dataframe\">\n",
       "  <thead>\n",
       "    <tr style=\"text-align: right;\">\n",
       "      <th></th>\n",
       "      <th></th>\n",
       "      <th>excess_1_m_returns</th>\n",
       "    </tr>\n",
       "    <tr>\n",
       "      <th>level_0</th>\n",
       "      <th>level_1</th>\n",
       "      <th></th>\n",
       "    </tr>\n",
       "  </thead>\n",
       "  <tbody>\n",
       "    <tr>\n",
       "      <th rowspan=\"5\" valign=\"top\">AAPL</th>\n",
       "      <th>2015-01-02 14:31:00+00:00</th>\n",
       "      <td>-0.00055</td>\n",
       "    </tr>\n",
       "    <tr>\n",
       "      <th>2015-01-02 14:32:00+00:00</th>\n",
       "      <td>-0.00062</td>\n",
       "    </tr>\n",
       "    <tr>\n",
       "      <th>2015-01-02 14:33:00+00:00</th>\n",
       "      <td>-0.00165</td>\n",
       "    </tr>\n",
       "    <tr>\n",
       "      <th>2015-01-02 14:34:00+00:00</th>\n",
       "      <td>-0.00017</td>\n",
       "    </tr>\n",
       "    <tr>\n",
       "      <th>2015-01-02 14:35:00+00:00</th>\n",
       "      <td>0.00090</td>\n",
       "    </tr>\n",
       "  </tbody>\n",
       "</table>\n",
       "</div>"
      ],
      "text/plain": [
       "                                   excess_1_m_returns\n",
       "level_0 level_1                                      \n",
       "AAPL    2015-01-02 14:31:00+00:00            -0.00055\n",
       "        2015-01-02 14:32:00+00:00            -0.00062\n",
       "        2015-01-02 14:33:00+00:00            -0.00165\n",
       "        2015-01-02 14:34:00+00:00            -0.00017\n",
       "        2015-01-02 14:35:00+00:00             0.00090"
      ]
     },
     "execution_count": 27,
     "metadata": {},
     "output_type": "execute_result"
    }
   ],
   "source": [
    "X.head()"
   ]
  },
  {
   "cell_type": "code",
   "execution_count": 28,
   "metadata": {},
   "outputs": [
    {
     "name": "stdout",
     "output_type": "stream",
     "text": [
      "[[1948    6]\n",
      " [1151    7]]\n",
      "              precision    recall  f1-score   support\n",
      "\n",
      "           0     0.6286    0.9969    0.7710      1954\n",
      "           1     0.5385    0.0060    0.0120      1158\n",
      "\n",
      "    accuracy                         0.6282      3112\n",
      "   macro avg     0.5835    0.5015    0.3915      3112\n",
      "weighted avg     0.5951    0.6282    0.4886      3112\n",
      "\n"
     ]
    }
   ],
   "source": [
    "from sklearn.linear_model import LogisticRegression\n",
    "steps = [('scaler', StandardScaler()),\n",
    "         ('model',LogisticRegression())]         \n",
    "pipeline = Pipeline(steps)        \n",
    "cv=pipeline\n",
    "cv.fit(X,y)    \n",
    "y_pred = cross_val_predict(cv, X, y)        \n",
    "print(confusion_matrix(y, y_pred))        \n",
    "print(classification_report(y, y_pred, digits=4))"
   ]
  },
  {
   "cell_type": "code",
   "execution_count": 36,
   "metadata": {},
   "outputs": [
    {
     "name": "stdout",
     "output_type": "stream",
     "text": [
      "Optimization terminated successfully.\n",
      "         Current function value: 0.691012\n",
      "         Iterations 5\n",
      "                           Logit Regression Results                           \n",
      "==============================================================================\n",
      "Dep. Variable:                      y   No. Observations:                 3112\n",
      "Model:                          Logit   Df Residuals:                     3111\n",
      "Method:                           MLE   Df Model:                            0\n",
      "Date:                Fri, 25 Sep 2020   Pseudo R-squ.:                -0.04688\n",
      "Time:                        04:57:42   Log-Likelihood:                -2150.4\n",
      "converged:                       True   LL-Null:                       -2054.1\n",
      "Covariance Type:            nonrobust   LLR p-value:                       nan\n",
      "======================================================================================\n",
      "                         coef    std err          z      P>|z|      [0.025      0.975]\n",
      "--------------------------------------------------------------------------------------\n",
      "excess_1_m_returns  -232.8452     64.898     -3.588      0.000    -360.043    -105.648\n",
      "======================================================================================\n"
     ]
    }
   ],
   "source": [
    "import statsmodels.api as sm \n",
    "import pandas as pd\n",
    "log_reg = sm.Logit(y, X).fit() \n",
    "print(log_reg.summary()) "
   ]
  },
  {
   "cell_type": "code",
   "execution_count": 37,
   "metadata": {},
   "outputs": [
    {
     "name": "stdout",
     "output_type": "stream",
     "text": [
      "[[1354  600]\n",
      " [ 575  583]]\n",
      "              precision    recall  f1-score   support\n",
      "\n",
      "           0     0.7019    0.6929    0.6974      1954\n",
      "           1     0.4928    0.5035    0.4981      1158\n",
      "\n",
      "    accuracy                         0.6224      3112\n",
      "   macro avg     0.5974    0.5982    0.5977      3112\n",
      "weighted avg     0.6241    0.6224    0.6232      3112\n",
      "\n"
     ]
    }
   ],
   "source": [
    "from sklearn.tree import DecisionTreeClassifier\n",
    "steps = [('scaler', StandardScaler()),\n",
    "         ('model',DecisionTreeClassifier(random_state=0))]         \n",
    "pipeline = Pipeline(steps)        \n",
    "y_pred = cross_val_predict(pipeline, X, y)        \n",
    "print(confusion_matrix(y, y_pred))        \n",
    "print(classification_report(y, y_pred, digits=4))"
   ]
  },
  {
   "cell_type": "code",
   "execution_count": 38,
   "metadata": {},
   "outputs": [
    {
     "name": "stdout",
     "output_type": "stream",
     "text": [
      "[[1351  603]\n",
      " [ 572  586]]\n",
      "              precision    recall  f1-score   support\n",
      "\n",
      "           0     0.7025    0.6914    0.6969      1954\n",
      "           1     0.4929    0.5060    0.4994      1158\n",
      "\n",
      "    accuracy                         0.6224      3112\n",
      "   macro avg     0.5977    0.5987    0.5981      3112\n",
      "weighted avg     0.6245    0.6224    0.6234      3112\n",
      "\n"
     ]
    }
   ],
   "source": [
    "from sklearn.ensemble import RandomForestClassifier\n",
    "#cv = RepeatedStratifiedKFold(n_splits=10, n_repeats=3, random_state=1)\n",
    "steps = [('scaler', StandardScaler()),\n",
    "         ('model',RandomForestClassifier(random_state=0))]         \n",
    "pipeline = Pipeline(steps)        \n",
    "y_pred = cross_val_predict(pipeline, X, y)   \n",
    "print(confusion_matrix(y, y_pred))        \n",
    "print(classification_report(y, y_pred, digits=4))"
   ]
  },
  {
   "cell_type": "code",
   "execution_count": 39,
   "metadata": {},
   "outputs": [
    {
     "name": "stdout",
     "output_type": "stream",
     "text": [
      "[[1337  617]\n",
      " [ 576  582]]\n",
      "              precision    recall  f1-score   support\n",
      "\n",
      "           0     0.6989    0.6842    0.6915      1954\n",
      "           1     0.4854    0.5026    0.4938      1158\n",
      "\n",
      "    accuracy                         0.6166      3112\n",
      "   macro avg     0.5922    0.5934    0.5927      3112\n",
      "weighted avg     0.6195    0.6166    0.6179      3112\n",
      "\n"
     ]
    }
   ],
   "source": [
    "from sklearn.ensemble import GradientBoostingClassifier\n",
    "#cv = RepeatedStratifiedKFold(n_splits=10, n_repeats=3, random_state=1)\n",
    "steps = [('scaler', StandardScaler()),\n",
    "         ('model',GradientBoostingClassifier(random_state=0))]         \n",
    "pipeline = Pipeline(steps)        \n",
    "y_pred = cross_val_predict(pipeline, X, y)       \n",
    "print(confusion_matrix(y, y_pred))        \n",
    "print(classification_report(y, y_pred, digits=4))  "
   ]
  },
  {
   "cell_type": "code",
   "execution_count": 40,
   "metadata": {},
   "outputs": [
    {
     "name": "stdout",
     "output_type": "stream",
     "text": [
      "[[1234  720]\n",
      " [ 531  627]]\n",
      "              precision    recall  f1-score   support\n",
      "\n",
      "           0     0.6992    0.6315    0.6636      1954\n",
      "           1     0.4655    0.5415    0.5006      1158\n",
      "\n",
      "    accuracy                         0.5980      3112\n",
      "   macro avg     0.5823    0.5865    0.5821      3112\n",
      "weighted avg     0.6122    0.5980    0.6030      3112\n",
      "\n"
     ]
    }
   ],
   "source": [
    "from sklearn.ensemble import AdaBoostClassifier\n",
    "steps = [('scaler', StandardScaler()),\n",
    "         ('model',AdaBoostClassifier(random_state=2108))]         \n",
    "pipeline = Pipeline(steps)        \n",
    "y_pred = cross_val_predict(pipeline, X, y)        \n",
    "print(confusion_matrix(y, y_pred))        \n",
    "print(classification_report(y, y_pred, digits=4))"
   ]
  },
  {
   "cell_type": "code",
   "execution_count": 41,
   "metadata": {},
   "outputs": [
    {
     "name": "stdout",
     "output_type": "stream",
     "text": [
      "[[1335  619]\n",
      " [ 573  585]]\n",
      "              precision    recall  f1-score   support\n",
      "\n",
      "           0     0.6997    0.6832    0.6914      1954\n",
      "           1     0.4859    0.5052    0.4953      1158\n",
      "\n",
      "    accuracy                         0.6170      3112\n",
      "   macro avg     0.5928    0.5942    0.5933      3112\n",
      "weighted avg     0.6201    0.6170    0.6184      3112\n",
      "\n"
     ]
    }
   ],
   "source": [
    "#!pip install xgboost\n",
    "from xgboost import XGBClassifier\n",
    "steps = [('scaler', StandardScaler()),\n",
    "         ('model',XGBClassifier())]         \n",
    "pipeline = Pipeline(steps)        \n",
    "y_pred = cross_val_predict(pipeline, X, y)          \n",
    "print(confusion_matrix(y, y_pred))        \n",
    "print(classification_report(y, y_pred, digits=4))"
   ]
  },
  {
   "cell_type": "markdown",
   "metadata": {},
   "source": [
    "# Return Analysis"
   ]
  },
  {
   "cell_type": "code",
   "execution_count": 42,
   "metadata": {},
   "outputs": [],
   "source": [
    "#!pip install hvplot\n",
    "#import hvplot.pandas  # noqa\n",
    "numPositions =30\n",
    "invested_fraction = 1/30\n",
    "def returnAnalysis(df,y_pred,returns='F_1_m_returns',invested_fraction = invested_fraction):\n",
    "    nameOfModel = 'XGBClassifier'\n",
    "    y_pred2  = pd.DataFrame(y_pred, index=df.index)\n",
    "    y_pred2  = y_pred2.rename(columns={y_pred2.columns[0]: nameOfModel})\n",
    "    y_pred2  = y_pred2.reset_index()\n",
    "    y_pred2  = y_pred2.drop_duplicates()\n",
    "    data2 = pd.merge(df,y_pred2, how='left', left_on=['level_0', 'level_1'],right_on=['level_0', 'level_1'])\n",
    "    y_temp= data2[(data2[nameOfModel]==1)]\n",
    "    print(y_temp['F_1_m_returns'].describe())\n",
    "    # We are computing the mean return per minute\n",
    "    df_returns=pd.DataFrame(y_temp.groupby('level_1')['F_1_m_returns'].apply(lambda x: x.mean()))\n",
    "    print(df_returns.head())\n",
    "    print(df_returns.describe())\n",
    "    #df_returns_sp500=pd.DataFrame(df[df.index.get_level_values(0)=='SPY'].reset_index().groupby('level_1')['F_1_m_returns'].mean())\n",
    "    # We are counting the number of trades per minute\n",
    "    df_count=pd.DataFrame(y_temp.groupby('level_1')['F_1_m_returns'].apply(lambda x: x.count()))\n",
    "    print(df_count.head())\n",
    "    print(df_count.describe())\n",
    "    # For every minute we equally weight each position by dividing the mean return per minute by the number of po\n",
    "    invested_fraction = 1/df_count\n",
    "    # when invested fraction is set to 1/df_count, they both cancel out below (but we keep the computation below as for cases where invested fraction is a constant)\n",
    "    df_tot_returns=pd.DataFrame(df_returns*df_count*invested_fraction)\n",
    "    #df_tot_returns_sp500 =pd.DataFrame(df_returns_sp500*df_count*invested_fraction)\n",
    "    df_cum_returns=pd.DataFrame(((df_tot_returns/100)+1).cumprod())\n",
    "    #df_cum_returns_sp500=pd.DataFrame(((df_tot_returns_sp500/100)+1).cumprod())\n",
    "    df_cum_returns.plot()\n",
    "    df_returns.plot()\n",
    "    df_count.plot()    \n",
    "    sharpe_ratio = df_returns.mean() * 390 * 252 / (df_returns.std() * np.sqrt(390*250))\n",
    "    print(f\"Sharpe Ratio: {sharpe_ratio}\")"
   ]
  },
  {
   "cell_type": "code",
   "execution_count": 43,
   "metadata": {},
   "outputs": [
    {
     "name": "stdout",
     "output_type": "stream",
     "text": [
      "count   1204.00000\n",
      "mean      -0.00004\n",
      "std        0.00079\n",
      "min       -0.00640\n",
      "25%       -0.00043\n",
      "50%        0.00000\n",
      "75%        0.00039\n",
      "max        0.00334\n",
      "Name: F_1_m_returns, dtype: float64\n",
      "                           F_1_m_returns\n",
      "level_1                                 \n",
      "2015-01-02 14:31:00+00:00        0.00027\n",
      "2015-01-02 14:32:00+00:00       -0.00051\n",
      "2015-01-02 14:33:00+00:00       -0.00045\n",
      "2015-01-02 14:34:00+00:00        0.00153\n",
      "2015-01-02 14:35:00+00:00        0.00256\n",
      "       F_1_m_returns\n",
      "count      703.00000\n",
      "mean        -0.00003\n",
      "std          0.00077\n",
      "min         -0.00640\n",
      "25%         -0.00043\n",
      "50%          0.00000\n",
      "75%          0.00036\n",
      "max          0.00334\n",
      "                           F_1_m_returns\n",
      "level_1                                 \n",
      "2015-01-02 14:31:00+00:00              2\n",
      "2015-01-02 14:32:00+00:00              3\n",
      "2015-01-02 14:33:00+00:00              2\n",
      "2015-01-02 14:34:00+00:00              1\n",
      "2015-01-02 14:35:00+00:00              1\n",
      "       F_1_m_returns\n",
      "count      703.00000\n",
      "mean         1.71266\n",
      "std          0.68766\n",
      "min          1.00000\n",
      "25%          1.00000\n",
      "50%          2.00000\n",
      "75%          2.00000\n",
      "max          3.00000\n",
      "Sharpe Ratio: F_1_m_returns   -11.71262\n",
      "dtype: float64\n"
     ]
    },
    {
     "data": {
      "image/png": "[encoded data removed]",
      "text/plain": [
       "<Figure size 432x288 with 1 Axes>"
      ]
     },
     "metadata": {
      "needs_background": "light"
     },
     "output_type": "display_data"
    },
    {
     "data": {
      "image/png": "[encoded data removed]",
      "text/plain": [
       "<Figure size 432x288 with 1 Axes>"
      ]
     },
     "metadata": {
      "needs_background": "light"
     },
     "output_type": "display_data"
    },
    {
     "data": {
      "image/png": "[encoded data removed]",
      "text/plain": [
       "<Figure size 432x288 with 1 Axes>"
      ]
     },
     "metadata": {
      "needs_background": "light"
     },
     "output_type": "display_data"
    }
   ],
   "source": [
    "returnAnalysis(df,y_pred,returns='excess_F_1_m_returns',invested_fraction = invested_fraction)"
   ]
  },
  {
   "cell_type": "markdown",
   "metadata": {},
   "source": [
    "# Preparing the model for Out of Sample and Production"
   ]
  },
  {
   "cell_type": "code",
   "execution_count": 35,
   "metadata": {},
   "outputs": [
    {
     "name": "stdout",
     "output_type": "stream",
     "text": [
      "Requirement already satisfied: joblib in /home/ec2-user/anaconda3/envs/python3/lib/python3.6/site-packages (0.14.1)\n",
      "\u001b[33mWARNING: You are using pip version 20.0.2; however, version 20.2.3 is available.\n",
      "You should consider upgrading via the '/home/ec2-user/anaconda3/envs/python3/bin/python -m pip install --upgrade pip' command.\u001b[0m\n"
     ]
    },
    {
     "data": {
      "text/plain": [
       "['log_reg_9_18_2020_trained_on_2015_1m_hedged_with_30_tickers.pkl']"
      ]
     },
     "execution_count": 35,
     "metadata": {},
     "output_type": "execute_result"
    }
   ],
   "source": [
    "!pip install joblib\n",
    "#from sklearn.externals import joblib \n",
    "import joblib\n",
    "joblib.dump(cv, 'log_reg_9_18_2020_trained_on_2015_1m_hedged_with_30_tickers.pkl')"
   ]
  },
  {
   "cell_type": "markdown",
   "metadata": {},
   "source": [
    "# Out of Sample Tests"
   ]
  },
  {
   "cell_type": "code",
   "execution_count": 26,
   "metadata": {},
   "outputs": [
    {
     "name": "stdout",
     "output_type": "stream",
     "text": [
      "Requirement already satisfied: joblib in /home/ec2-user/anaconda3/envs/python3/lib/python3.6/site-packages (0.14.1)\n",
      "\u001b[33mWARNING: You are using pip version 20.0.2; however, version 20.2.3 is available.\n",
      "You should consider upgrading via the '/home/ec2-user/anaconda3/envs/python3/bin/python -m pip install --upgrade pip' command.\u001b[0m\n"
     ]
    }
   ],
   "source": [
    "!pip install joblib\n",
    "#from sklearn.externals import joblib \n",
    "import joblib\n",
    "# Load the model from the file \n",
    "model = joblib.load('log_9_6_2020_trained_on_2019_data.pkl')  "
   ]
  },
  {
   "cell_type": "code",
   "execution_count": 7,
   "metadata": {},
   "outputs": [
    {
     "name": "stdout",
     "output_type": "stream",
     "text": [
      "Pulling Prices\n",
      "Creating Returns now\n",
      "Pulling Volume now\n",
      "Creating Volume Z-Score now\n",
      "Computing Hedged Forward Returns\n",
      "Computing Hedged 1m Returns\n",
      "Computing Hedged 2m Returns\n",
      "Computing Hedged 3m Returns\n",
      "Computing Hedged 4m Returns\n",
      "Computing Hedged 5m Returns\n",
      "Computing Hedged 10m Returns\n",
      "Computing Hedged 15m Returns\n",
      "Computing Hedged 30m Returns\n",
      "Created the table in 144.47 minutes\n"
     ]
    }
   ],
   "source": [
    "ticker_list = [\"AAPL\", \"MSFT\", \"GOOGL\",\"GOOG\", \"BAC\",\"FB\",\"NFLX\", \"V\", \"JPM\",\"TSLA\",\"SPY\"]\n",
    "timeframe = '1Min'\n",
    "#between 40 and 100 now\n",
    "numDays = 190\n",
    "#start_date_str = start_date_str = '2015-01' + '-01'\n",
    "#df_2015 = createData(start_date_str, ticker_list, timeframe, numDays)\n",
    "#df_2015.to_csv('df_2015.csv')\n",
    "\n",
    "\n",
    "start_date_str = start_date_str = '2020-01' + '-01'\n",
    "df_2020 = createData(start_date_str, ticker_list, timeframe, numDays)\n",
    "df_2020.to_csv('df_2020.csv')"
   ]
  },
  {
   "cell_type": "code",
   "execution_count": null,
   "metadata": {},
   "outputs": [
    {
     "name": "stdout",
     "output_type": "stream",
     "text": [
      "Pulling Prices\n",
      "Creating Returns now\n",
      "Pulling Volume now\n"
     ]
    }
   ],
   "source": [
    "start_date_str = '2016-01' + '-01'\n",
    "timeframe = '1Min'\n",
    "numDays = 365\n",
    "df_2016= createData(start_date_str,  timeframe, numDays,production=0, volumeOff=0)\n",
    "df_2016.to_csv('../df_2016_30_tickers.csv')"
   ]
  },
  {
   "cell_type": "code",
   "execution_count": null,
   "metadata": {},
   "outputs": [],
   "source": [
    "\n",
    "\n",
    "\n",
    "start_date_str = start_date_str = '2018-01' + '-01'\n",
    "df_2018 = createData(start_date_str, ticker_list, timeframe, numDays)\n",
    "#df_2018.to_csv('df_2018.csv')\n",
    "\n",
    "\n",
    "start_date_str = start_date_str = '2019-01' + '-01'\n",
    "df_2019 = createData(start_date_str, ticker_list, timeframe, numDays)\n",
    "df_2019.to_csv('df_2019.csv')"
   ]
  },
  {
   "cell_type": "markdown",
   "metadata": {},
   "source": [
    "## Loading previously saved data"
   ]
  },
  {
   "cell_type": "code",
   "execution_count": 74,
   "metadata": {},
   "outputs": [
    {
     "name": "stdout",
     "output_type": "stream",
     "text": [
      "loaded the table in 0.09 minutes\n"
     ]
    }
   ],
   "source": [
    "tic = time.perf_counter()\n",
    "df_2015 = pd.read_csv('../df_2015_1m_no_lag.csv')\n",
    "toc = time.perf_counter()\n",
    "df_2015.set_index(['level_0', 'level_1'], inplace=True)\n",
    "print(f\"loaded the table in {(toc - tic)/60:0.2f} minutes\")"
   ]
  },
  {
   "cell_type": "code",
   "execution_count": 9,
   "metadata": {},
   "outputs": [],
   "source": [
    "df_2020.dropna(inplace=True,axis=1)\n",
    "X = df_2020.drop(columns=['F_1_m_returns','excess_F_1_m_returns'])\n",
    "y = np.where(df_2020['F_1_m_returns']>0,1,0)\n",
    "y_pred= model.predict(X)"
   ]
  },
  {
   "cell_type": "code",
   "execution_count": 13,
   "metadata": {},
   "outputs": [
    {
     "name": "stdout",
     "output_type": "stream",
     "text": [
      "count   40977.00000\n",
      "mean        0.00034\n",
      "std         0.00206\n",
      "min        -0.03242\n",
      "25%        -0.00051\n",
      "50%         0.00011\n",
      "75%         0.00121\n",
      "max         0.02380\n",
      "Name: F_1_m_returns, dtype: float64\n"
     ]
    },
    {
     "data": {
      "image/png": "[encoded data removed]",
      "text/plain": [
       "<Figure size 432x288 with 1 Axes>"
      ]
     },
     "metadata": {
      "needs_background": "light"
     },
     "output_type": "display_data"
    },
    {
     "data": {
      "image/png": "[encoded data removed]",
      "text/plain": [
       "<Figure size 432x288 with 1 Axes>"
      ]
     },
     "metadata": {
      "needs_background": "light"
     },
     "output_type": "display_data"
    },
    {
     "data": {
      "image/png": "[encoded data removed]",
      "text/plain": [
       "<Figure size 432x288 with 1 Axes>"
      ]
     },
     "metadata": {
      "needs_background": "light"
     },
     "output_type": "display_data"
    }
   ],
   "source": [
    "returnAnalysis(df_2020,y_pred,returns='F_1_m_returns',invested_fraction = 0.1)"
   ]
  },
  {
   "cell_type": "markdown",
   "metadata": {},
   "source": [
    "# Production"
   ]
  },
  {
   "cell_type": "code",
   "execution_count": 25,
   "metadata": {},
   "outputs": [
    {
     "ename": "NameError",
     "evalue": "name 'joblib' is not defined",
     "output_type": "error",
     "traceback": [
      "\u001b[0;31m---------------------------------------------------------------------------\u001b[0m",
      "\u001b[0;31mNameError\u001b[0m                                 Traceback (most recent call last)",
      "\u001b[0;32m<ipython-input-25-0613d827d9e6>\u001b[0m in \u001b[0;36m<module>\u001b[0;34m\u001b[0m\n\u001b[1;32m      1\u001b[0m \u001b[0;31m# Load the model from the file log_9_6_2020_trained_on_2019_data\u001b[0m\u001b[0;34m\u001b[0m\u001b[0;34m\u001b[0m\u001b[0;34m\u001b[0m\u001b[0m\n\u001b[0;32m----> 2\u001b[0;31m \u001b[0mmodel\u001b[0m \u001b[0;34m=\u001b[0m \u001b[0mjoblib\u001b[0m\u001b[0;34m.\u001b[0m\u001b[0mload\u001b[0m\u001b[0;34m(\u001b[0m\u001b[0;34m'log_9_6_2020_trained_on_2019_data.pkl'\u001b[0m\u001b[0;34m)\u001b[0m\u001b[0;34m\u001b[0m\u001b[0;34m\u001b[0m\u001b[0m\n\u001b[0m",
      "\u001b[0;31mNameError\u001b[0m: name 'joblib' is not defined"
     ]
    }
   ],
   "source": [
    "# Load the model from the file log_9_6_2020_trained_on_2019_data\n",
    "model = joblib.load('log_9_6_2020_trained_on_2019_data.pkl')  "
   ]
  },
  {
   "cell_type": "code",
   "execution_count": 22,
   "metadata": {},
   "outputs": [
    {
     "name": "stdout",
     "output_type": "stream",
     "text": [
      "Requirement already satisfied: schedule in /home/ec2-user/anaconda3/envs/python3/lib/python3.6/site-packages (0.6.0)\n",
      "\u001b[33mWARNING: You are using pip version 20.0.2; however, version 20.2.3 is available.\n",
      "You should consider upgrading via the '/home/ec2-user/anaconda3/envs/python3/bin/python -m pip install --upgrade pip' command.\u001b[0m\n"
     ]
    }
   ],
   "source": [
    "!pip install schedule\n",
    "import schedule"
   ]
  },
  {
   "cell_type": "code",
   "execution_count": null,
   "metadata": {},
   "outputs": [],
   "source": [
    "#!pip install schedule\n",
    "import schedule\n",
    "\n",
    "def job():\n",
    "    today_s_data = createData(start_date_str, timeframe, numDays,production=1)\n",
    "    today_s_data.dropna(inplace=True,axis=0)\n",
    "    X = today_s_data.drop(columns=['F_1_m_returns','excess_F_1_m_returns'],errors='ignore')\n",
    "    y_pred= model.predict(X) \n",
    "    nameOfModel = 'XGBClassifier'\n",
    "    y_pred2  = pd.DataFrame(y_pred, index=today_s_data.index)\n",
    "    y_pred2  = y_pred2.rename(columns={y_pred2.columns[0]: nameOfModel})\n",
    "    y_pred2  = y_pred2.reset_index()\n",
    "    y_pred2  = y_pred2.drop_duplicates()\n",
    "    nameOfModel = 'XGBClassifier'\n",
    "    y_pred2 = y_pred2.loc[str(datetime.datetime.now()- timedelta(minutes=1))]\n",
    "    print(y_pred2.iloc[-1:].tail())\n",
    "    print(len(y_pred2))\n",
    "schedule.clear()\n",
    "\n",
    "schedule.every().second.do(job)\n",
    "while True:\n",
    "    schedule.run_pending()"
   ]
  },
  {
   "cell_type": "code",
   "execution_count": 43,
   "metadata": {},
   "outputs": [
    {
     "name": "stdout",
     "output_type": "stream",
     "text": [
      "Pulling Prices\n",
      "Creating Returns now\n",
      "Computing Hedged Forward Returns\n",
      "Computing Hedged 1m Returns\n",
      "Computing Hedged 2m Returns\n",
      "Computing Hedged 3m Returns\n",
      "Computing Hedged 4m Returns\n",
      "Computing Hedged 5m Returns\n",
      "Computing Hedged 10m Returns\n",
      "Computing Hedged 15m Returns\n",
      "Computing Hedged 30m Returns\n",
      "Created the table in 0.68 minutes\n"
     ]
    }
   ],
   "source": [
    "today_s_data = createData(start_date_str, timeframe, numDays,production=1)\n",
    "today_s_data.dropna(inplace=True,axis=0)\n",
    "X = today_s_data.drop(columns=['F_1_m_returns','excess_F_1_m_returns'],errors='ignore')\n",
    "y_pred= model.predict(X) \n",
    "\n"
   ]
  },
  {
   "cell_type": "code",
   "execution_count": 50,
   "metadata": {},
   "outputs": [],
   "source": [
    "longList = [\"AAPL\", \"MSFT\", \"GOOGL\",\"GOOG\", \"BAC\",\"FB\",\"NFLX\", \"V\", \"JPM\",\"TSLA\",\"SPY\"]\n",
    "def trade(): \n",
    "  portfolio = api.list_positions()\n",
    "  clock = api.get_clock()\n",
    "  if clock.is_open == True:\n",
    "    stock = 0\n",
    "    print('open')\n",
    "    while stock <= len(api.list_positions())-1:\n",
    "      #weight = account.equity/stock\n",
    "      api.submit_order(portfolio[stock].symbol, side='sell', qty=1, type='market', time_in_force='gtc')\n",
    "      print(\"sold \" +str(portfolio[stock].symbol))\n",
    "      stock+=1\n",
    "    for stock in longList:\n",
    "      api.submit_order(stock, side='buy', qty=1, type='market', time_in_force='gtc')\n",
    "      print('bought ' + stock)\n",
    "  else:\n",
    "      print('closed')\n"
   ]
  },
  {
   "cell_type": "code",
   "execution_count": 49,
   "metadata": {},
   "outputs": [
    {
     "name": "stdout",
     "output_type": "stream",
     "text": [
      "closed\n"
     ]
    }
   ],
   "source": [
    "trade()"
   ]
  },
  {
   "cell_type": "code",
   "execution_count": null,
   "metadata": {},
   "outputs": [],
   "source": []
  }
 ],
 "metadata": {
  "kernelspec": {
   "display_name": "Python 3",
   "language": "python",
   "name": "python3"
  },
  "language_info": {
   "codemirror_mode": {
    "name": "ipython",
    "version": 3
   },
   "file_extension": ".py",
   "mimetype": "text/x-python",
   "name": "python",
   "nbconvert_exporter": "python",
   "pygments_lexer": "ipython3",
   "version": "3.7.7"
  }
 },
 "nbformat": 4,
 "nbformat_minor": 4
}
