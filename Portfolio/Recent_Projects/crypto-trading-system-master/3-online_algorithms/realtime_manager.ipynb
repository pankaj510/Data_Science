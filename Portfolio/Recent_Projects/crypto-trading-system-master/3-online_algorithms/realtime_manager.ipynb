{
 "cells": [
  {
   "cell_type": "code",
   "execution_count": null,
   "metadata": {},
   "outputs": [],
   "source": [
    "# ----------------------------- REAL-TIME MANAGER ---------------------------------\n",
    "# --- copyright- MANTIS TRADING, LLP *\n",
    "# --- mantistrading.win *\n",
    "# --- version \"0.01\"\n",
    "# --- alerts.py\n",
    "# ---------------------------------------------------------------------------------\n",
    "\n",
    "\n",
    "\n",
    "# ----------------------- POPULATE Performance Dash -------------------------------\n",
    "# Global Stats\n",
    "    # Total Account Value\n",
    "    # Capital at Risk: [BTC, %], [USD, %]  * exposure outside base currency\n",
    "    # Expected Accumulation: [ BTC, % ], [USD,%]\n",
    "    # Current Accuumulation: [ BTC, % ], [USD,%]\n",
    "\n",
    "# Visualizations\n",
    "    # (Multi and single account) Timeseries\n",
    "        # BTC Accumulation relative to expected return\n",
    "        # Bucket Allocation Weights relative to thresholds\n",
    "        # ALT Asset Allocation weights relative to thresholds\n",
    " \n",
    "    # (Multi and single account) Pie charts\n",
    "        # Bucket Allocation weights relative to thresholds\n",
    "        # ALT Asset Allocation weights relative to thresholds\n",
    "\n",
    "    # (Multi and Single account) Radial\n",
    "        # btc accumulation rate\n",
    "        # bucket accumulation rates\n",
    "        # ALT Asset Accumulation rates\n",
    "    \n",
    "# ------------------------------ Send Alerts --------------------------------------\n",
    "# Send Performance Report every 6hrs\n",
    "# Send Alert on RISKS Thresholds- [High negative accumulation_rate, max_drawdown, VAR, etc..]\n",
    "# Send Alert on WINS-[High positive accumulation_rate]\n",
    "# Send Alert on KILL SWITCH\n",
    "\n",
    "\n",
    "# ---------------------------- Log Essential Data ----------------------------------\n",
    "# 1. Save Trades DF to database\n",
    "# 2. Save orders DF to database\n",
    "# 3. Save capital_gains df to database\n",
    "# 4. Save KPIs dataframe to database\n"
   ]
  },
  {
   "cell_type": "code",
   "execution_count": null,
   "metadata": {},
   "outputs": [],
   "source": [
    "# "
   ]
  }
 ],
 "metadata": {
  "kernelspec": {
   "display_name": "Python 3",
   "language": "python",
   "name": "python3"
  },
  "language_info": {
   "codemirror_mode": {
    "name": "ipython",
    "version": 3
   },
   "file_extension": ".py",
   "mimetype": "text/x-python",
   "name": "python",
   "nbconvert_exporter": "python",
   "pygments_lexer": "ipython3",
   "version": "3.8.5"
  }
 },
 "nbformat": 4,
 "nbformat_minor": 4
}
